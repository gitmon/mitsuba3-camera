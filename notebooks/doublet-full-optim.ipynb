{
 "cells": [
  {
   "cell_type": "code",
   "execution_count": 1,
   "metadata": {},
   "outputs": [],
   "source": [
    "import os\n",
    "from os.path import realpath, join\n",
    "import sys\n",
    "sys.path.insert(0, '/home/chuah/mitsuba3-camera/build/python')\n",
    "\n",
    "import drjit as dr\n",
    "import mitsuba as mi\n",
    "import matplotlib.pyplot as plt\n",
    "\n",
    "%load_ext autoreload\n",
    "%autoreload 2\n",
    "\n",
    "mi.set_variant('cuda_ad_dispersion')"
   ]
  },
  {
   "cell_type": "code",
   "execution_count": 2,
   "metadata": {},
   "outputs": [
    {
     "name": "stdout",
     "output_type": "stream",
     "text": [
      "[i] Results will be saved to: /home/chuah/mitsuba3-camera/notebooks/outputs/lens\n"
     ]
    }
   ],
   "source": [
    "SCENE_DIR = realpath('../tutorials/scenes')\n",
    "\n",
    "# Make sure that resources from the scene directory can be found\n",
    "mi.Thread.thread().file_resolver().append(SCENE_DIR)\n",
    "\n",
    "config = {\n",
    "        'emitter': 'gray',\n",
    "        'lens_subdiv_level': 5,\n",
    "        'render_resolution': (128, 128),\n",
    "        'spp': 64,\n",
    "        'max_iterations': 5000,\n",
    "        # 'learning_rate': 3e-3,\n",
    "        'learning_rate': 3e-4,\n",
    "    }\n",
    "\n",
    "output_dir = realpath(join('.', 'outputs', 'lens'))\n",
    "os.makedirs(output_dir, exist_ok=True)\n",
    "print('[i] Results will be saved to:', output_dir)"
   ]
  },
  {
   "cell_type": "markdown",
   "metadata": {},
   "source": [
    "# Set lens parameters"
   ]
  },
  {
   "cell_type": "code",
   "execution_count": 3,
   "metadata": {},
   "outputs": [
    {
     "name": "stdout",
     "output_type": "stream",
     "text": [
      "LensMaterial[\n",
      "\tname=air,\n",
      "\tior=1.000277,\n",
      "\tVd=0.0,\n",
      "]\n",
      "LensMaterial[\n",
      "\tname=nbk7,\n",
      "\tior=1.5047,\n",
      "\tVd=64.17,\n",
      "]\n",
      "LensMaterial[\n",
      "\tname=sf2,\n",
      "\tior=1.64769,\n",
      "\tVd=33.85,\n",
      "]\n",
      "V_ lies on sphere: True\n",
      "[+] Wrote lens mesh (subdivs=5) file to: /home/chuah/mitsuba3-camera/notebooks/outputs/lens/lens0.ply\n",
      "[+] Wrote baffle mesh file to: /home/chuah/mitsuba3-camera/notebooks/outputs/lens/baffle0.ply\n",
      "V_ lies on sphere: True\n",
      "[+] Wrote lens mesh (subdivs=5) file to: /home/chuah/mitsuba3-camera/notebooks/outputs/lens/lens1.ply\n",
      "[+] Wrote baffle mesh file to: /home/chuah/mitsuba3-camera/notebooks/outputs/lens/baffle1.ply\n",
      "V_ lies on sphere: True\n",
      "[+] Wrote lens mesh (subdivs=5) file to: /home/chuah/mitsuba3-camera/notebooks/outputs/lens/lens2.ply\n",
      "[+] Wrote baffle mesh file to: /home/chuah/mitsuba3-camera/notebooks/outputs/lens/baffle2.ply\n"
     ]
    }
   ],
   "source": [
    "from scripts.lens_design.lens import ConicSurface, LensMaterial, LensSystem\n",
    "\n",
    "surf0 = { 'c': -1/2.4, 'K': 0.0, 'z0': 4.7 }\n",
    "surf1 = { 'c': 1/2.4, 'K': 0.0, 'z0': 5.0 }\n",
    "surf2 = { 'c': 1/14, 'K': 0.0, 'z0': 5.1 }\n",
    "\n",
    "# 1000 itrs:\n",
    "# 'c': -0.2983226180076599\n",
    "# 'c':  0.6604698300361633\n",
    "# 'c':  0.2334931194782257\n",
    "\n",
    "# 5000 itrs:\n",
    "# 'c': -0.17739839851856232\n",
    "# 'c': 0.6790199279785156\n",
    "# 'c': 0.3298546373844147\n",
    "\n",
    "surf0 = ConicSurface(**surf0)\n",
    "surf1 = ConicSurface(**surf1)\n",
    "surf2 = ConicSurface(**surf2)\n",
    "# surfaces = [surf0, surf1]\n",
    "# materials = [LensMaterial(\"nbk7\", 1.5047, 64.17)]\n",
    "\n",
    "surfaces = [surf0, surf1, surf2]\n",
    "materials = [LensMaterial(\"nbk7\", 1.5047, 64.17), LensMaterial(\"sf2\", 1.64769, 33.85)]\n",
    "\n",
    "\n",
    "# materials = [LensMaterial(\"nbk7\", 1.5047, 64.17), LensMaterial(\"sf2\", 1.64769, 33.85)]\n",
    "# surfaces = [surf0, surf1, surf1a, surf2]\n",
    "# materials = [LensMaterial(\"nbk7\", 1.5047, 64.17), LensMaterial(), LensMaterial()]\n",
    "radial_extents = [0.8 for _ in surfaces]\n",
    "\n",
    "lens_system = LensSystem(surfaces, radial_extents, materials)\n",
    "lens_system.initialize_geometry(output_dir)\n",
    "# lens_system.meshplot_geometry()"
   ]
  },
  {
   "cell_type": "markdown",
   "metadata": {},
   "source": [
    "# Emitter creation"
   ]
  },
  {
   "cell_type": "code",
   "execution_count": 4,
   "metadata": {},
   "outputs": [],
   "source": [
    "emitter = {\n",
    "    'type':'directionalarea',\n",
    "    'radiance': {\n",
    "        'type': 'spectrum',\n",
    "        'value': 0.05\n",
    "    },\n",
    "}\n",
    "\n",
    "# emitter = {\n",
    "#     'type':'constant',\n",
    "#     'radiance': {\n",
    "#         'type': 'spectrum',\n",
    "#         'value': 0.05\n",
    "#     },\n",
    "# }\n",
    "\n"
   ]
  },
  {
   "cell_type": "markdown",
   "metadata": {},
   "source": [
    "# Create the integrator"
   ]
  },
  {
   "cell_type": "code",
   "execution_count": 5,
   "metadata": {},
   "outputs": [],
   "source": [
    "integrator = {\n",
    "    'type': 'ptracer',\n",
    "    'samples_per_pass': 256,    # TODO: prb?\n",
    "    'max_depth': lens_system.size() + 2,\n",
    "}\n",
    "# integrator = {\n",
    "#     'type': 'ptracer',\n",
    "#     'samples_per_pass': 256,    # TODO: prb?\n",
    "#     'max_depth': 4,\n",
    "#     'hide_emitters': False,\n",
    "# }"
   ]
  },
  {
   "cell_type": "markdown",
   "metadata": {},
   "source": [
    "# Assemble the scene"
   ]
  },
  {
   "cell_type": "code",
   "execution_count": 6,
   "metadata": {},
   "outputs": [],
   "source": [
    "# Looking at the receiving plane, not looking through the lens\n",
    "# TODO: set axial positions appropriately\n",
    "# - film plane (OK)\n",
    "# - emitter (arbitrary, set to max{z0})\n",
    "# - camera (OK, but might need to be adjusted per-problem)\n",
    "\n",
    "z_sensor = lens_system.rear_z - 0.1\n",
    "sensor_to_world = mi.ScalarTransform4f.look_at(\n",
    "    target=[0, 0, -20],\n",
    "    origin=[0, 0, 0.2],\n",
    "    up=[0, 1, 0]\n",
    ")\n",
    "\n",
    "resx, resy = config['render_resolution']\n",
    "sensor = {\n",
    "    'type': 'perspective',\n",
    "    'near_clip': 0.05,\n",
    "    'far_clip': 20,\n",
    "    'fov': 45,\n",
    "    'to_world': sensor_to_world,\n",
    "\n",
    "    'sampler': {\n",
    "        'type': 'independent',\n",
    "        'sample_count': 512  # Not really used\n",
    "    },\n",
    "    'film': {\n",
    "        'type': 'hdrfilm',\n",
    "        'width': resx,\n",
    "        'height': resy,\n",
    "        'pixel_format': 'rgb',\n",
    "\n",
    "        # \"crop_width\": 3,\n",
    "        # \"crop_height\": 3,\n",
    "        # \"crop_offset_x\": 61,\n",
    "        # \"crop_offset_y\": 61,\n",
    "\n",
    "        'rfilter': {\n",
    "            # Important: smooth reconstruction filter with a footprint larger than 1 pixel.\n",
    "            'type': 'gaussian'\n",
    "        }\n",
    "    },\n",
    "}"
   ]
  },
  {
   "cell_type": "markdown",
   "metadata": {},
   "source": [
    "Define the full scene"
   ]
  },
  {
   "cell_type": "code",
   "execution_count": 7,
   "metadata": {},
   "outputs": [
    {
     "name": "stdout",
     "output_type": "stream",
     "text": [
      "{'type': 'ply', 'id': 'lens0', 'filename': '/home/chuah/mitsuba3-camera/notebooks/outputs/lens/lens0.ply', 'bsdf': {'type': 'dispersive', 'id': 'bsdf0_air-to-nbk7', 'ext_ior': 1.000277, 'ext_V_d': 0.0, 'int_ior': 1.5047, 'int_V_d': 64.17, 'specular_reflectance': {'type': 'spectrum', 'value': 0}}}\n",
      "{'type': 'ply', 'id': 'lens1', 'filename': '/home/chuah/mitsuba3-camera/notebooks/outputs/lens/lens1.ply', 'bsdf': {'type': 'dispersive', 'id': 'bsdf1_nbk7-to-sf2', 'ext_ior': 1.5047, 'ext_V_d': 64.17, 'int_ior': 1.64769, 'int_V_d': 33.85, 'specular_reflectance': {'type': 'spectrum', 'value': 0}}}\n",
      "{'type': 'ply', 'id': 'lens2', 'filename': '/home/chuah/mitsuba3-camera/notebooks/outputs/lens/lens2.ply', 'bsdf': {'type': 'dispersive', 'id': 'bsdf2_sf2-to-air', 'ext_ior': 1.64769, 'ext_V_d': 33.85, 'int_ior': 1.000277, 'int_V_d': 0.0, 'specular_reflectance': {'type': 'spectrum', 'value': 0}}}\n"
     ]
    }
   ],
   "source": [
    "scene = {\n",
    "    'type': 'scene',\n",
    "    'sensor': sensor,\n",
    "    'integrator': integrator,\n",
    "    # # Glass BSDF\n",
    "    # 'simple-glass': {                   # TODO: dispersive model\n",
    "    #     'type': 'dielectric',\n",
    "    #     'id': 'simple-glass-bsdf',\n",
    "    #     'ext_ior': 'air',\n",
    "    #     'int_ior': 1.5,\n",
    "    #     'specular_reflectance': { 'type': 'spectrum', 'value': 0 },\n",
    "    # },\n",
    "    'white-bsdf': {\n",
    "        'type': 'diffuse',\n",
    "        'id': 'white-bsdf',\n",
    "        'reflectance': { 'type': 'rgb', 'value': (1, 1, 1) },\n",
    "    },\n",
    "    'black-bsdf': {\n",
    "        'type': 'diffuse',\n",
    "        'id': 'black-bsdf',\n",
    "        'reflectance': { 'type': 'spectrum', 'value': 0 },\n",
    "    },\n",
    "    # Receiving plane\n",
    "    'receiving_plane': {\n",
    "        'type': 'obj',\n",
    "        'id': 'receiving_plane',\n",
    "        'filename': 'meshes/rectangle.obj',\n",
    "        'to_world': \\\n",
    "            mi.ScalarTransform4f.look_at(\n",
    "                target=[0, 0, 1],\n",
    "                origin=[0, 0, 0],\n",
    "                up=[0, 1, 0]\n",
    "                # target=[0, 0, 1],\n",
    "                # origin=[0, 0, -7],\n",
    "                # up=[0, 1, 0]\n",
    "            ).scale((5, 5, 5)),\n",
    "        'bsdf': {'type': 'ref', 'id': 'white-bsdf'},\n",
    "    },\n",
    "    # Ray source: directional area emitter\n",
    "    # TODO: choose correct size: scales with aperture\n",
    "    # TODO: choose correct direction: diff angles for different fields\n",
    "    'focused-emitter-shape': {\n",
    "        'type': 'obj',\n",
    "        'filename': 'meshes/circle.obj',\n",
    "        'to_world': mi.ScalarTransform4f.look_at(\n",
    "            target=[0, 0, 0],\n",
    "            origin=[0, 0, 10],\n",
    "            up=[0, 1, 0]\n",
    "            # target=[0, 0, 0],\n",
    "            # origin=[0, 0, 5],\n",
    "            # up=[0, 1, 0]\n",
    "        ),\n",
    "        'bsdf': {'type': 'ref', 'id': 'black-bsdf'},\n",
    "        'focused-emitter': emitter,\n",
    "    },\n",
    "}\n",
    "\n",
    "lens_system.add_to_scene(scene)\n",
    "\n",
    "scene = mi.load_dict(scene)\n",
    "\n",
    "# for element in lens_system:\n",
    "#     element.finalize_scene(scene)"
   ]
  },
  {
   "cell_type": "code",
   "execution_count": 8,
   "metadata": {},
   "outputs": [
    {
     "data": {
      "text/plain": [
       "Scene[\n",
       "  children = [\n",
       "    PLYMesh[\n",
       "      name = \"baffle0.ply\",\n",
       "      bbox = BoundingBox3f[\n",
       "        min = [-5, -5, 4.83726],\n",
       "        max = [5, 5, 4.83726]\n",
       "      ],\n",
       "      vertex_count = 320,\n",
       "      vertices = [7.5 KiB of vertex data],\n",
       "      face_count = 640,\n",
       "      faces = [7.5 KiB of face data],\n",
       "      face_normals = 0\n",
       "    ],\n",
       "    PLYMesh[\n",
       "      name = \"baffle1.ply\",\n",
       "      bbox = BoundingBox3f[\n",
       "        min = [-5, -5, 4.86274],\n",
       "        max = [5, 5, 4.86274]\n",
       "      ],\n",
       "      vertex_count = 320,\n",
       "      vertices = [7.5 KiB of vertex data],\n",
       "      face_count = 640,\n",
       "      faces = [7.5 KiB of face data],\n",
       "      face_normals = 0\n",
       "    ],\n",
       "    PLYMesh[\n",
       "      name = \"baffle2.ply\",\n",
       "      bbox = BoundingBox3f[\n",
       "        min = [-5, -5, 5.07712],\n",
       "        max = [5, 5, 5.07712]\n",
       "      ],\n",
       "      vertex_count = 320,\n",
       "      vertices = [7.5 KiB of vertex data],\n",
       "      face_count = 640,\n",
       "      faces = [7.5 KiB of face data],\n",
       "      face_normals = 0\n",
       "    ],\n",
       "    SmoothDiffuse[\n",
       "      reflectance = UniformSpectrum[value=[0]]\n",
       "    ],\n",
       "    OBJMesh[\n",
       "      name = \"circle.obj\",\n",
       "      bbox = BoundingBox3f[\n",
       "        min = [-1, -1, 10],\n",
       "        max = [1, 1, 10]\n",
       "      ],\n",
       "      vertex_count = 514,\n",
       "      vertices = [12 KiB of vertex data],\n",
       "      face_count = 256,\n",
       "      faces = [3 KiB of face data],\n",
       "      surface_area = [6.28066],\n",
       "      face_normals = 0\n",
       "    ],\n",
       "    ParticleTracerIntegrator[\n",
       "      max_depth = 5,\n",
       "      rr_depth = 5\n",
       "    ],\n",
       "    PLYMesh[\n",
       "      name = \"lens0.ply\",\n",
       "      bbox = BoundingBox3f[\n",
       "        min = [-0.8, -0.8, 4.7],\n",
       "        max = [0.8, 0.8, 4.83726]\n",
       "      ],\n",
       "      vertex_count = 5201,\n",
       "      vertices = [122 KiB of vertex data],\n",
       "      face_count = 10240,\n",
       "      faces = [120 KiB of face data],\n",
       "      face_normals = 0\n",
       "    ],\n",
       "    PLYMesh[\n",
       "      name = \"lens1.ply\",\n",
       "      bbox = BoundingBox3f[\n",
       "        min = [-0.8, -0.8, 4.86274],\n",
       "        max = [0.8, 0.8, 5]\n",
       "      ],\n",
       "      vertex_count = 5201,\n",
       "      vertices = [122 KiB of vertex data],\n",
       "      face_count = 10240,\n",
       "      faces = [120 KiB of face data],\n",
       "      face_normals = 0\n",
       "    ],\n",
       "    PLYMesh[\n",
       "      name = \"lens2.ply\",\n",
       "      bbox = BoundingBox3f[\n",
       "        min = [-0.8, -0.8, 5.07712],\n",
       "        max = [0.8, 0.8, 5.1]\n",
       "      ],\n",
       "      vertex_count = 5201,\n",
       "      vertices = [122 KiB of vertex data],\n",
       "      face_count = 10240,\n",
       "      faces = [120 KiB of face data],\n",
       "      face_normals = 0\n",
       "    ],\n",
       "    OBJMesh[\n",
       "      name = \"rectangle.obj\",\n",
       "      bbox = BoundingBox3f[\n",
       "        min = [-5, -5, 0],\n",
       "        max = [5, 5, 0]\n",
       "      ],\n",
       "      vertex_count = 4,\n",
       "      vertices = [128 B of vertex data],\n",
       "      face_count = 2,\n",
       "      faces = [24 B of face data],\n",
       "      face_normals = 0\n",
       "    ],\n",
       "    PerspectiveCamera[\n",
       "      x_fov = [45],\n",
       "      near_clip = 0.05,\n",
       "      far_clip = 20,\n",
       "      film = HDRFilm[\n",
       "        size = [128, 128],\n",
       "        crop_size = [128, 128],\n",
       "        crop_offset = [0, 0],\n",
       "        sample_border = 0,\n",
       "        compensate = 0,\n",
       "        filter = GaussianFilter[stddev=0.50, radius=2.00],\n",
       "        file_format = OpenEXR,\n",
       "        pixel_format = rgb,\n",
       "        component_format = float16,\n",
       "      ],\n",
       "      sampler = IndependentSampler[\n",
       "        base_seed = 0\n",
       "        sample_count = 512\n",
       "        samples_per_wavefront = 1\n",
       "        wavefront_size = 0\n",
       "      ],\n",
       "      resolution = [128, 128],\n",
       "      shutter_open = 0,\n",
       "      shutter_open_time = 0,\n",
       "      to_world = [[-1, 0, 0, 0],\n",
       "                  [0, 1, 0, 0],\n",
       "                  [0, 0, -1, 0.2],\n",
       "                  [0, 0, 0, 1]]\n",
       "    ],\n",
       "    SmoothDiffuse[\n",
       "      reflectance = SRGBReflectanceSpectrum[\n",
       "        value = [[0, 0, inf]]\n",
       "      ]\n",
       "    ]\n",
       "  ]\n",
       "]"
      ]
     },
     "execution_count": 8,
     "metadata": {},
     "output_type": "execute_result"
    }
   ],
   "source": [
    "# TODO: no dispersive bsdf string?\n",
    "scene"
   ]
  },
  {
   "cell_type": "code",
   "execution_count": 9,
   "metadata": {},
   "outputs": [
    {
     "data": {
      "text/html": [
       "<span style=\"font-family: monospace; color: #f55\">2024-05-02 14:01:45 WARN  main  [AdjointIntegrator] render(): forcing &apos;evaluate=true&apos; since multi-pass rendering was requested.</span>"
      ]
     },
     "metadata": {},
     "output_type": "display_data"
    },
    {
     "name": "stderr",
     "output_type": "stream",
     "text": [
      "Clipping input data to the valid range for imshow with RGB data ([0..1] for floats or [0..255] for integers).\n"
     ]
    },
    {
     "data": {
      "text/plain": [
       "<matplotlib.image.AxesImage at 0x7f83415c8710>"
      ]
     },
     "execution_count": 9,
     "metadata": {},
     "output_type": "execute_result"
    },
    {
     "data": {
      "image/png": "[encoded data removed]",
      "text/plain": [
       "<Figure size 640x480 with 1 Axes>"
      ]
     },
     "metadata": {},
     "output_type": "display_data"
    }
   ],
   "source": [
    "image_init = mi.render(scene, spp=512*4)\n",
    "plt.imshow(image_init)"
   ]
  },
  {
   "cell_type": "code",
   "execution_count": 10,
   "metadata": {},
   "outputs": [
    {
     "data": {
      "text/plain": [
       "[<matplotlib.lines.Line2D at 0x7f834056f950>,\n",
       " <matplotlib.lines.Line2D at 0x7f83306e2610>,\n",
       " <matplotlib.lines.Line2D at 0x7f83405702d0>]"
      ]
     },
     "execution_count": 10,
     "metadata": {},
     "output_type": "execute_result"
    },
    {
     "data": {
      "image/png": "[encoded data removed]",
      "text/plain": [
       "<Figure size 640x480 with 1 Axes>"
      ]
     },
     "metadata": {},
     "output_type": "display_data"
    }
   ],
   "source": [
    "spot_init = image_init.numpy()[config['render_resolution'][0] // 2]\n",
    "plt.plot(spot_init)"
   ]
  },
  {
   "cell_type": "markdown",
   "metadata": {},
   "source": [
    "# Apply the shape parameters"
   ]
  },
  {
   "cell_type": "code",
   "execution_count": 11,
   "metadata": {},
   "outputs": [],
   "source": [
    "# params_scene = mi.traverse(scene)\n",
    "\n",
    "# # We will always apply displacements along the original normals and\n",
    "# # starting from the original positions.\n",
    "# positions_initial = dr.unravel(mi.Vector3f, params_scene['lens.vertex_positions'])\n",
    "# normals_initial   = dr.unravel(mi.Vector3f, params_scene['lens.vertex_normals'])\n",
    "\n",
    "# lens_si = dr.zeros(mi.SurfaceInteraction3f, dr.width(positions_initial))\n",
    "# lens_si.uv = dr.unravel(type(lens_si.uv), params_scene['lens.vertex_texcoords'])\n",
    "\n",
    "# def apply_displacement(amplitude = 1.):\n",
    "#     # Enforce reasonable range. For reference, the receiving plane\n",
    "#     # is 7 scene units away from the lens.\n",
    "#     vmax = 1 / 100.\n",
    "#     params['data'] = dr.clamp(params['data'], -vmax, vmax)\n",
    "#     dr.enable_grad(params['data'])\n",
    "\n",
    "#     height_values = heightmap_texture.eval_1(lens_si)\n",
    "#     new_positions = (height_values * normals_initial * amplitude + positions_initial)\n",
    "#     params_scene['lens.vertex_positions'] = dr.ravel(new_positions)\n",
    "#     params_scene.update()\n",
    "\n",
    "params_scene = mi.traverse(scene)\n",
    "opt = mi.ad.Adam(lr=config['learning_rate'])\n",
    "\n",
    "lens_system.save_init_state(params_scene)\n",
    "lens_system.add_to_optimizer(opt)"
   ]
  },
  {
   "cell_type": "code",
   "execution_count": 12,
   "metadata": {},
   "outputs": [
    {
     "data": {
      "text/plain": [
       "SceneParameters[\n",
       "  -------------------------------------------------------------------------------------------------------\n",
       "  Name                                                Flags    Type           Parent\n",
       "  -------------------------------------------------------------------------------------------------------\n",
       "  baffle0.bsdf.reflectance.value                      ∂        Float          UniformSpectrum\n",
       "  baffle0.silhouette_sampling_weight                           float          PLYMesh\n",
       "  baffle0.faces                                                UInt           PLYMesh\n",
       "  baffle0.vertex_positions                            ∂, D     Float          PLYMesh\n",
       "  baffle0.vertex_normals                              ∂, D     Float          PLYMesh\n",
       "  baffle0.vertex_texcoords                            ∂        Float          PLYMesh\n",
       "  baffle1.silhouette_sampling_weight                           float          PLYMesh\n",
       "  baffle1.faces                                                UInt           PLYMesh\n",
       "  baffle1.vertex_positions                            ∂, D     Float          PLYMesh\n",
       "  baffle1.vertex_normals                              ∂, D     Float          PLYMesh\n",
       "  baffle1.vertex_texcoords                            ∂        Float          PLYMesh\n",
       "  baffle2.silhouette_sampling_weight                           float          PLYMesh\n",
       "  baffle2.faces                                                UInt           PLYMesh\n",
       "  baffle2.vertex_positions                            ∂, D     Float          PLYMesh\n",
       "  baffle2.vertex_normals                              ∂, D     Float          PLYMesh\n",
       "  baffle2.vertex_texcoords                            ∂        Float          PLYMesh\n",
       "  focused-emitter-shape.emitter.sampling_weight                float          DirectionalArea\n",
       "  focused-emitter-shape.emitter.radiance.value        ∂        Float          UniformSpectrum\n",
       "  focused-emitter-shape.silhouette_sampling_weight             float          OBJMesh\n",
       "  focused-emitter-shape.faces                                  UInt           OBJMesh\n",
       "  focused-emitter-shape.vertex_positions              ∂, D     Float          OBJMesh\n",
       "  focused-emitter-shape.vertex_normals                ∂, D     Float          OBJMesh\n",
       "  focused-emitter-shape.vertex_texcoords              ∂        Float          OBJMesh\n",
       "  lens0.bsdf.int_ior_d                                ∂        float          DispersiveDielectric\n",
       "  lens0.bsdf.ext_ior_d                                ∂        float          DispersiveDielectric\n",
       "  lens0.bsdf.int_V_d                                  ∂        float          DispersiveDielectric\n",
       "  lens0.bsdf.ext_V_d                                  ∂        float          DispersiveDielectric\n",
       "  lens0.silhouette_sampling_weight                             float          PLYMesh\n",
       "  lens0.faces                                                  UInt           PLYMesh\n",
       "  lens0.vertex_positions                              ∂, D     Float          PLYMesh\n",
       "  lens0.vertex_normals                                ∂, D     Float          PLYMesh\n",
       "  lens0.vertex_texcoords                              ∂        Float          PLYMesh\n",
       "  lens1.bsdf.int_ior_d                                ∂        float          DispersiveDielectric\n",
       "  lens1.bsdf.ext_ior_d                                ∂        float          DispersiveDielectric\n",
       "  lens1.bsdf.int_V_d                                  ∂        float          DispersiveDielectric\n",
       "  lens1.bsdf.ext_V_d                                  ∂        float          DispersiveDielectric\n",
       "  lens1.silhouette_sampling_weight                             float          PLYMesh\n",
       "  lens1.faces                                                  UInt           PLYMesh\n",
       "  lens1.vertex_positions                              ∂, D     Float          PLYMesh\n",
       "  lens1.vertex_normals                                ∂, D     Float          PLYMesh\n",
       "  lens1.vertex_texcoords                              ∂        Float          PLYMesh\n",
       "  lens2.bsdf.int_ior_d                                ∂        float          DispersiveDielectric\n",
       "  lens2.bsdf.ext_ior_d                                ∂        float          DispersiveDielectric\n",
       "  lens2.bsdf.int_V_d                                  ∂        float          DispersiveDielectric\n",
       "  lens2.bsdf.ext_V_d                                  ∂        float          DispersiveDielectric\n",
       "  lens2.silhouette_sampling_weight                             float          PLYMesh\n",
       "  lens2.faces                                                  UInt           PLYMesh\n",
       "  lens2.vertex_positions                              ∂, D     Float          PLYMesh\n",
       "  lens2.vertex_normals                                ∂, D     Float          PLYMesh\n",
       "  lens2.vertex_texcoords                              ∂        Float          PLYMesh\n",
       "  receiving_plane.bsdf.reflectance.value              ∂        Color3f        SRGBReflectanceSpectrum\n",
       "  receiving_plane.silhouette_sampling_weight                   float          OBJMesh\n",
       "  receiving_plane.faces                                        UInt           OBJMesh\n",
       "  receiving_plane.vertex_positions                    ∂, D     Float          OBJMesh\n",
       "  receiving_plane.vertex_normals                      ∂, D     Float          OBJMesh\n",
       "  receiving_plane.vertex_texcoords                    ∂        Float          OBJMesh\n",
       "  sensor.near_clip                                             float          PerspectiveCamera\n",
       "  sensor.far_clip                                              float          PerspectiveCamera\n",
       "  sensor.shutter_open                                          float          PerspectiveCamera\n",
       "  sensor.shutter_open_time                                     float          PerspectiveCamera\n",
       "  sensor.film.size                                             ScalarVector2u HDRFilm\n",
       "  sensor.film.crop_size                                        ScalarVector2u HDRFilm\n",
       "  sensor.film.crop_offset                                      ScalarPoint2u  HDRFilm\n",
       "  sensor.x_fov                                        ∂, D     Float          PerspectiveCamera\n",
       "  sensor.principal_point_offset_x                     ∂, D     Float          PerspectiveCamera\n",
       "  sensor.principal_point_offset_y                     ∂, D     Float          PerspectiveCamera\n",
       "  sensor.to_world                                     ∂, D     Transform4f    PerspectiveCamera\n",
       "]"
      ]
     },
     "execution_count": 12,
     "metadata": {},
     "output_type": "execute_result"
    }
   ],
   "source": [
    "params_scene"
   ]
  },
  {
   "cell_type": "code",
   "execution_count": 13,
   "metadata": {},
   "outputs": [
    {
     "data": {
      "text/plain": [
       "Adam[\n",
       "  variables = ['lens0_c', 'lens1_c', 'lens2_c'],\n",
       "  lr = {'default': 0.0003},\n",
       "  betas = (0.9, 0.999),\n",
       "  eps = 1e-08\n",
       "]"
      ]
     },
     "execution_count": 13,
     "metadata": {},
     "output_type": "execute_result"
    }
   ],
   "source": [
    "opt"
   ]
  },
  {
   "cell_type": "code",
   "execution_count": 14,
   "metadata": {},
   "outputs": [
    {
     "data": {
      "application/vnd.jupyter.widget-view+json": {
       "model_id": "d15da1dd92af45e8bc61ecc72492985c",
       "version_major": 2,
       "version_minor": 0
      },
      "text/plain": [
       "Renderer(camera=PerspectiveCamera(children=(DirectionalLight(color='white', intensity=0.6, position=(0.0, 0.0,…"
      ]
     },
     "metadata": {},
     "output_type": "display_data"
    },
    {
     "data": {
      "text/plain": [
       "<meshplot.Viewer.Viewer at 0x7f83405461d0>"
      ]
     },
     "execution_count": 14,
     "metadata": {},
     "output_type": "execute_result"
    }
   ],
   "source": [
    "from scripts.lens_design.geometry import meshplot_gizmo\n",
    "from gpytoolbox import cone\n",
    "import numpy as np\n",
    "import meshplot as mp\n",
    "\n",
    "def draw_camera(sensor_to_world):\n",
    "    # plot sensor as a +z-facing cone\n",
    "    V, F = cone(16,2)\n",
    "    V += np.array([[0,0,-1]])\n",
    "    V *= -1\n",
    "\n",
    "    # apply camera-to-world transform\n",
    "    V = (sensor_to_world @ mi.Point3f(V)).numpy()\n",
    "    p_ = mp.plot(V,F)\n",
    "    meshplot_gizmo(p_)\n",
    "    return p_\n",
    "\n",
    "def meshplot_scene(params):\n",
    "    p_ = draw_camera(params['sensor.to_world'])\n",
    "    meshes = ['focused-emitter-shape', 'receiving_plane']\n",
    "    lens_system.meshplot_geometry(p_)\n",
    "    for mesh in meshes:\n",
    "        V = dr.unravel(mi.Point3f, params[f'{mesh}.vertex_positions']).numpy()\n",
    "        F = dr.unravel(mi.Point3u, params[f'{mesh}.faces']).numpy()\n",
    "        p_.add_mesh(V, F, shading={\"wireframe\": True})\n",
    "    return p_\n",
    "\n",
    "meshplot_scene(params_scene)"
   ]
  },
  {
   "cell_type": "markdown",
   "metadata": {},
   "source": [
    "# Optimization"
   ]
  },
  {
   "cell_type": "code",
   "execution_count": 15,
   "metadata": {},
   "outputs": [],
   "source": [
    "# TODO: further validation of this loss\n",
    "def rms_loss(image):\n",
    "    scaled_image = image / dr.mean(dr.detach(image))\n",
    "    i = dr.arange(mi.Float, image.shape[0])\n",
    "    j = dr.arange(mi.Float, image.shape[1])\n",
    "    ii, jj = dr.meshgrid(i, j, indexing='ij')\n",
    "    # I = scaled_image[:,:,0]     # TODO: use grayscale version of the image\n",
    "    I = (scaled_image[:,:,0] + scaled_image[:,:,1] + scaled_image[:,:,2]) / 3.0\n",
    "    ibar = dr.sum(ii * I) / dr.sum(I)\n",
    "    jbar = dr.sum(jj * I) / dr.sum(I)\n",
    "    rms = dr.sum(I * (dr.sqr(ii - ibar) + dr.sqr(jj - jbar))) * dr.rcp(dr.sum(I))\n",
    "    # rms = dr.sum(I * (dr.sqr(ii - image.shape[0] / 2) + dr.sqr(jj - image.shape[1] / 2))) * dr.rcp(dr.sum(I))\n",
    "    return rms"
   ]
  },
  {
   "cell_type": "code",
   "execution_count": 16,
   "metadata": {},
   "outputs": [
    {
     "name": "stdout",
     "output_type": "stream",
     "text": [
      "[149.15225219726562]\n",
      "{'lens0_c': [-0.4166666567325592], 'lens1_c': [0.4166666567325592], 'lens2_c': [0.0714285746216774]}\n"
     ]
    }
   ],
   "source": [
    "print(rms_loss(image_init))\n",
    "print(opt.variables)\n"
   ]
  },
  {
   "cell_type": "code",
   "execution_count": 17,
   "metadata": {},
   "outputs": [
    {
     "data": {
      "text/plain": [
       "SceneParameters[\n",
       "  -------------------------------------------------------------------------------------------------------\n",
       "  Name                                                Flags    Type           Parent\n",
       "  -------------------------------------------------------------------------------------------------------\n",
       "  baffle0.bsdf.reflectance.value                      ∂        Float          UniformSpectrum\n",
       "  baffle0.silhouette_sampling_weight                           float          PLYMesh\n",
       "  baffle0.faces                                                UInt           PLYMesh\n",
       "  baffle0.vertex_positions                            ∂, D     Float          PLYMesh\n",
       "  baffle0.vertex_normals                              ∂, D     Float          PLYMesh\n",
       "  baffle0.vertex_texcoords                            ∂        Float          PLYMesh\n",
       "  baffle1.silhouette_sampling_weight                           float          PLYMesh\n",
       "  baffle1.faces                                                UInt           PLYMesh\n",
       "  baffle1.vertex_positions                            ∂, D     Float          PLYMesh\n",
       "  baffle1.vertex_normals                              ∂, D     Float          PLYMesh\n",
       "  baffle1.vertex_texcoords                            ∂        Float          PLYMesh\n",
       "  baffle2.silhouette_sampling_weight                           float          PLYMesh\n",
       "  baffle2.faces                                                UInt           PLYMesh\n",
       "  baffle2.vertex_positions                            ∂, D     Float          PLYMesh\n",
       "  baffle2.vertex_normals                              ∂, D     Float          PLYMesh\n",
       "  baffle2.vertex_texcoords                            ∂        Float          PLYMesh\n",
       "  focused-emitter-shape.emitter.sampling_weight                float          DirectionalArea\n",
       "  focused-emitter-shape.emitter.radiance.value        ∂        Float          UniformSpectrum\n",
       "  focused-emitter-shape.silhouette_sampling_weight             float          OBJMesh\n",
       "  focused-emitter-shape.faces                                  UInt           OBJMesh\n",
       "  focused-emitter-shape.vertex_positions              ∂, D     Float          OBJMesh\n",
       "  focused-emitter-shape.vertex_normals                ∂, D     Float          OBJMesh\n",
       "  focused-emitter-shape.vertex_texcoords              ∂        Float          OBJMesh\n",
       "  lens0.bsdf.int_ior_d                                ∂        float          DispersiveDielectric\n",
       "  lens0.bsdf.ext_ior_d                                ∂        float          DispersiveDielectric\n",
       "  lens0.bsdf.int_V_d                                  ∂        float          DispersiveDielectric\n",
       "  lens0.bsdf.ext_V_d                                  ∂        float          DispersiveDielectric\n",
       "  lens0.silhouette_sampling_weight                             float          PLYMesh\n",
       "  lens0.faces                                                  UInt           PLYMesh\n",
       "  lens0.vertex_positions                              ∂, D     Float          PLYMesh\n",
       "  lens0.vertex_normals                                ∂, D     Float          PLYMesh\n",
       "  lens0.vertex_texcoords                              ∂        Float          PLYMesh\n",
       "  lens1.bsdf.int_ior_d                                ∂        float          DispersiveDielectric\n",
       "  lens1.bsdf.ext_ior_d                                ∂        float          DispersiveDielectric\n",
       "  lens1.bsdf.int_V_d                                  ∂        float          DispersiveDielectric\n",
       "  lens1.bsdf.ext_V_d                                  ∂        float          DispersiveDielectric\n",
       "  lens1.silhouette_sampling_weight                             float          PLYMesh\n",
       "  lens1.faces                                                  UInt           PLYMesh\n",
       "  lens1.vertex_positions                              ∂, D     Float          PLYMesh\n",
       "  lens1.vertex_normals                                ∂, D     Float          PLYMesh\n",
       "  lens1.vertex_texcoords                              ∂        Float          PLYMesh\n",
       "  lens2.bsdf.int_ior_d                                ∂        float          DispersiveDielectric\n",
       "  lens2.bsdf.ext_ior_d                                ∂        float          DispersiveDielectric\n",
       "  lens2.bsdf.int_V_d                                  ∂        float          DispersiveDielectric\n",
       "  lens2.bsdf.ext_V_d                                  ∂        float          DispersiveDielectric\n",
       "  lens2.silhouette_sampling_weight                             float          PLYMesh\n",
       "  lens2.faces                                                  UInt           PLYMesh\n",
       "  lens2.vertex_positions                              ∂, D     Float          PLYMesh\n",
       "  lens2.vertex_normals                                ∂, D     Float          PLYMesh\n",
       "  lens2.vertex_texcoords                              ∂        Float          PLYMesh\n",
       "  receiving_plane.bsdf.reflectance.value              ∂        Color3f        SRGBReflectanceSpectrum\n",
       "  receiving_plane.silhouette_sampling_weight                   float          OBJMesh\n",
       "  receiving_plane.faces                                        UInt           OBJMesh\n",
       "  receiving_plane.vertex_positions                    ∂, D     Float          OBJMesh\n",
       "  receiving_plane.vertex_normals                      ∂, D     Float          OBJMesh\n",
       "  receiving_plane.vertex_texcoords                    ∂        Float          OBJMesh\n",
       "  sensor.near_clip                                             float          PerspectiveCamera\n",
       "  sensor.far_clip                                              float          PerspectiveCamera\n",
       "  sensor.shutter_open                                          float          PerspectiveCamera\n",
       "  sensor.shutter_open_time                                     float          PerspectiveCamera\n",
       "  sensor.film.size                                             ScalarVector2u HDRFilm\n",
       "  sensor.film.crop_size                                        ScalarVector2u HDRFilm\n",
       "  sensor.film.crop_offset                                      ScalarPoint2u  HDRFilm\n",
       "  sensor.x_fov                                        ∂, D     Float          PerspectiveCamera\n",
       "  sensor.principal_point_offset_x                     ∂, D     Float          PerspectiveCamera\n",
       "  sensor.principal_point_offset_y                     ∂, D     Float          PerspectiveCamera\n",
       "  sensor.to_world                                     ∂, D     Transform4f    PerspectiveCamera\n",
       "]"
      ]
     },
     "execution_count": 17,
     "metadata": {},
     "output_type": "execute_result"
    }
   ],
   "source": [
    "params_scene#['baffle0.bsdf.reflectance.value']"
   ]
  },
  {
   "cell_type": "code",
   "execution_count": 18,
   "metadata": {},
   "outputs": [
    {
     "data": {
      "text/html": [
       "<span style=\"font-family: monospace; color: #f55\">2024-05-02 14:01:47 WARN  main  [AdjointIntegrator] render(): forcing &apos;evaluate=true&apos; since multi-pass rendering was requested.</span>"
      ]
     },
     "metadata": {},
     "output_type": "display_data"
    },
    {
     "data": {
      "text/html": [
       "<span style=\"font-family: monospace; color: #f55\">2024-05-02 14:01:47 WARN  main  [AdjointIntegrator] render(): forcing &apos;evaluate=true&apos; since multi-pass rendering was requested.</span>"
      ]
     },
     "metadata": {},
     "output_type": "display_data"
    },
    {
     "name": "stdout",
     "output_type": "stream",
     "text": [
      "{'lens0_c': [-0.4166666567325592], 'lens1_c': [0.4166666567325592], 'lens2_c': [0.0714285746216774]}\n",
      "{'lens0_c': [-0.41636666655540466], 'lens1_c': [0.41696664690971375], 'lens2_c': [0.07112857699394226]}\n"
     ]
    }
   ],
   "source": [
    "lens_system.update(params_scene, opt)\n",
    "\n",
    "# Perform a differentiable rendering of the scene\n",
    "image = mi.render(scene, params_scene, spp=2*512, spp_grad=512)\n",
    "\n",
    "# Scale-independent L2 function\n",
    "loss = rms_loss(image)\n",
    "dr.backward(loss)\n",
    "\n",
    "print(opt.variables)\n",
    "opt.step()\n",
    "\n",
    "print(opt.variables)"
   ]
  },
  {
   "cell_type": "code",
   "execution_count": 19,
   "metadata": {},
   "outputs": [
    {
     "data": {
      "application/vnd.jupyter.widget-view+json": {
       "model_id": "d14fdc90ac8c4d4ab3d909ae46abbcf2",
       "version_major": 2,
       "version_minor": 0
      },
      "text/plain": [
       "VBox(children=(HTML(value=''), FloatProgress(value=0.0, bar_style='info', layout=Layout(width='100%'), max=1.0…"
      ]
     },
     "metadata": {},
     "output_type": "display_data"
    },
    {
     "data": {
      "text/html": [
       "<span style=\"font-family: monospace; color: #f55\">2024-05-02 14:05:31 WARN  main  [AdjointIntegrator] render(): forcing &apos;evaluate=true&apos; since multi-pass rendering was requested.</span>"
      ]
     },
     "metadata": {},
     "output_type": "display_data"
    },
    {
     "data": {
      "text/html": [
       "<span style=\"font-family: monospace; color: #f55\">2024-05-02 14:05:34 WARN  main  [AdjointIntegrator] render(): forcing &apos;evaluate=true&apos; since multi-pass rendering was requested.</span>"
      ]
     },
     "metadata": {},
     "output_type": "display_data"
    },
    {
     "data": {
      "text/html": [
       "<span style=\"font-family: monospace; color: #f55\">2024-05-02 14:05:35 WARN  main  [AdjointIntegrator] render(): forcing &apos;evaluate=true&apos; since multi-pass rendering was requested.</span>"
      ]
     },
     "metadata": {},
     "output_type": "display_data"
    },
    {
     "data": {
      "text/html": [
       "<span style=\"font-family: monospace; color: #f55\">2024-05-02 14:05:35 WARN  main  [AdjointIntegrator] render(): forcing &apos;evaluate=true&apos; since multi-pass rendering was requested.</span>"
      ]
     },
     "metadata": {},
     "output_type": "display_data"
    },
    {
     "data": {
      "text/html": [
       "<span style=\"font-family: monospace; color: #f55\">2024-05-02 14:05:35 WARN  main  [AdjointIntegrator] render(): forcing &apos;evaluate=true&apos; since multi-pass rendering was requested.</span>"
      ]
     },
     "metadata": {},
     "output_type": "display_data"
    },
    {
     "data": {
      "text/html": [
       "<span style=\"font-family: monospace; color: #f55\">2024-05-02 14:05:35 WARN  main  [AdjointIntegrator] render(): forcing &apos;evaluate=true&apos; since multi-pass rendering was requested.</span>"
      ]
     },
     "metadata": {},
     "output_type": "display_data"
    },
    {
     "data": {
      "text/html": [
       "<span style=\"font-family: monospace; color: #f55\">2024-05-02 14:05:35 WARN  main  [AdjointIntegrator] render(): forcing &apos;evaluate=true&apos; since multi-pass rendering was requested.</span>"
      ]
     },
     "metadata": {},
     "output_type": "display_data"
    },
    {
     "data": {
      "text/html": [
       "<span style=\"font-family: monospace; color: #f55\">2024-05-02 14:05:35 WARN  main  [AdjointIntegrator] render(): forcing &apos;evaluate=true&apos; since multi-pass rendering was requested.</span>"
      ]
     },
     "metadata": {},
     "output_type": "display_data"
    },
    {
     "data": {
      "text/html": [
       "<span style=\"font-family: monospace; color: #f55\">2024-05-02 14:05:35 WARN  main  [AdjointIntegrator] render(): forcing &apos;evaluate=true&apos; since multi-pass rendering was requested.</span>"
      ]
     },
     "metadata": {},
     "output_type": "display_data"
    },
    {
     "data": {
      "text/html": [
       "<span style=\"font-family: monospace; color: #f55\">2024-05-02 14:05:35 WARN  main  [AdjointIntegrator] render(): forcing &apos;evaluate=true&apos; since multi-pass rendering was requested.</span>"
      ]
     },
     "metadata": {},
     "output_type": "display_data"
    },
    {
     "data": {
      "text/html": [
       "<span style=\"font-family: monospace; color: #f55\">2024-05-02 14:05:35 WARN  main  [AdjointIntegrator] render(): forcing &apos;evaluate=true&apos; since multi-pass rendering was requested.</span>"
      ]
     },
     "metadata": {},
     "output_type": "display_data"
    },
    {
     "data": {
      "text/html": [
       "<span style=\"font-family: monospace; color: #f55\">2024-05-02 14:05:35 WARN  main  [AdjointIntegrator] render(): forcing &apos;evaluate=true&apos; since multi-pass rendering was requested.</span>"
      ]
     },
     "metadata": {},
     "output_type": "display_data"
    },
    {
     "data": {
      "text/html": [
       "<span style=\"font-family: monospace; color: #f55\">2024-05-02 14:05:35 WARN  main  [AdjointIntegrator] render(): forcing &apos;evaluate=true&apos; since multi-pass rendering was requested.</span>"
      ]
     },
     "metadata": {},
     "output_type": "display_data"
    },
    {
     "data": {
      "text/html": [
       "<span style=\"font-family: monospace; color: #f55\">2024-05-02 14:05:35 WARN  main  [AdjointIntegrator] render(): forcing &apos;evaluate=true&apos; since multi-pass rendering was requested.</span>"
      ]
     },
     "metadata": {},
     "output_type": "display_data"
    },
    {
     "data": {
      "text/html": [
       "<span style=\"font-family: monospace; color: #f55\">2024-05-02 14:05:35 WARN  main  [AdjointIntegrator] render(): forcing &apos;evaluate=true&apos; since multi-pass rendering was requested.</span>"
      ]
     },
     "metadata": {},
     "output_type": "display_data"
    },
    {
     "data": {
      "text/html": [
       "<span style=\"font-family: monospace; color: #f55\">2024-05-02 14:05:36 WARN  main  [AdjointIntegrator] render(): forcing &apos;evaluate=true&apos; since multi-pass rendering was requested.</span>"
      ]
     },
     "metadata": {},
     "output_type": "display_data"
    },
    {
     "data": {
      "text/html": [
       "<span style=\"font-family: monospace; color: #f55\">2024-05-02 14:05:36 WARN  main  [AdjointIntegrator] render(): forcing &apos;evaluate=true&apos; since multi-pass rendering was requested.</span>"
      ]
     },
     "metadata": {},
     "output_type": "display_data"
    },
    {
     "data": {
      "text/html": [
       "<span style=\"font-family: monospace; color: #f55\">2024-05-02 14:05:36 WARN  main  [AdjointIntegrator] render(): forcing &apos;evaluate=true&apos; since multi-pass rendering was requested.</span>"
      ]
     },
     "metadata": {},
     "output_type": "display_data"
    },
    {
     "data": {
      "text/html": [
       "<span style=\"font-family: monospace; color: #f55\">2024-05-02 14:05:36 WARN  main  [AdjointIntegrator] render(): forcing &apos;evaluate=true&apos; since multi-pass rendering was requested.</span>"
      ]
     },
     "metadata": {},
     "output_type": "display_data"
    },
    {
     "data": {
      "text/html": [
       "<span style=\"font-family: monospace; color: #f55\">2024-05-02 14:05:36 WARN  main  [AdjointIntegrator] render(): forcing &apos;evaluate=true&apos; since multi-pass rendering was requested.</span>"
      ]
     },
     "metadata": {},
     "output_type": "display_data"
    },
    {
     "data": {
      "text/html": [
       "<span style=\"font-family: monospace; color: #f55\">2024-05-02 14:05:36 WARN  main  [AdjointIntegrator] render(): forcing &apos;evaluate=true&apos; since multi-pass rendering was requested.</span>"
      ]
     },
     "metadata": {},
     "output_type": "display_data"
    },
    {
     "data": {
      "text/html": [
       "<span style=\"font-family: monospace; color: #f55\">2024-05-02 14:05:36 WARN  main  [AdjointIntegrator] render(): forcing &apos;evaluate=true&apos; since multi-pass rendering was requested.</span>"
      ]
     },
     "metadata": {},
     "output_type": "display_data"
    },
    {
     "data": {
      "text/html": [
       "<span style=\"font-family: monospace; color: #f55\">2024-05-02 14:05:36 WARN  main  [AdjointIntegrator] render(): forcing &apos;evaluate=true&apos; since multi-pass rendering was requested.</span>"
      ]
     },
     "metadata": {},
     "output_type": "display_data"
    },
    {
     "data": {
      "text/html": [
       "<span style=\"font-family: monospace; color: #f55\">2024-05-02 14:05:36 WARN  main  [AdjointIntegrator] render(): forcing &apos;evaluate=true&apos; since multi-pass rendering was requested.</span>"
      ]
     },
     "metadata": {},
     "output_type": "display_data"
    },
    {
     "data": {
      "text/html": [
       "<span style=\"font-family: monospace; color: #f55\">2024-05-02 14:05:36 WARN  main  [AdjointIntegrator] render(): forcing &apos;evaluate=true&apos; since multi-pass rendering was requested.</span>"
      ]
     },
     "metadata": {},
     "output_type": "display_data"
    },
    {
     "data": {
      "text/html": [
       "<span style=\"font-family: monospace; color: #f55\">2024-05-02 14:05:36 WARN  main  [AdjointIntegrator] render(): forcing &apos;evaluate=true&apos; since multi-pass rendering was requested.</span>"
      ]
     },
     "metadata": {},
     "output_type": "display_data"
    },
    {
     "data": {
      "text/html": [
       "<span style=\"font-family: monospace; color: #f55\">2024-05-02 14:05:36 WARN  main  [AdjointIntegrator] render(): forcing &apos;evaluate=true&apos; since multi-pass rendering was requested.</span>"
      ]
     },
     "metadata": {},
     "output_type": "display_data"
    },
    {
     "data": {
      "text/html": [
       "<span style=\"font-family: monospace; color: #f55\">2024-05-02 14:05:37 WARN  main  [AdjointIntegrator] render(): forcing &apos;evaluate=true&apos; since multi-pass rendering was requested.</span>"
      ]
     },
     "metadata": {},
     "output_type": "display_data"
    },
    {
     "data": {
      "text/html": [
       "<span style=\"font-family: monospace; color: #f55\">2024-05-02 14:05:37 WARN  main  [AdjointIntegrator] render(): forcing &apos;evaluate=true&apos; since multi-pass rendering was requested.</span>"
      ]
     },
     "metadata": {},
     "output_type": "display_data"
    },
    {
     "data": {
      "text/html": [
       "<span style=\"font-family: monospace; color: #f55\">2024-05-02 14:05:37 WARN  main  [AdjointIntegrator] render(): forcing &apos;evaluate=true&apos; since multi-pass rendering was requested.</span>"
      ]
     },
     "metadata": {},
     "output_type": "display_data"
    },
    {
     "data": {
      "text/html": [
       "<span style=\"font-family: monospace; color: #f55\">2024-05-02 14:05:37 WARN  main  [AdjointIntegrator] render(): forcing &apos;evaluate=true&apos; since multi-pass rendering was requested.</span>"
      ]
     },
     "metadata": {},
     "output_type": "display_data"
    },
    {
     "data": {
      "text/html": [
       "<span style=\"font-family: monospace; color: #f55\">2024-05-02 14:05:37 WARN  main  [AdjointIntegrator] render(): forcing &apos;evaluate=true&apos; since multi-pass rendering was requested.</span>"
      ]
     },
     "metadata": {},
     "output_type": "display_data"
    },
    {
     "data": {
      "text/html": [
       "<span style=\"font-family: monospace; color: #f55\">2024-05-02 14:05:37 WARN  main  [AdjointIntegrator] render(): forcing &apos;evaluate=true&apos; since multi-pass rendering was requested.</span>"
      ]
     },
     "metadata": {},
     "output_type": "display_data"
    },
    {
     "data": {
      "text/html": [
       "<span style=\"font-family: monospace; color: #f55\">2024-05-02 14:05:37 WARN  main  [AdjointIntegrator] render(): forcing &apos;evaluate=true&apos; since multi-pass rendering was requested.</span>"
      ]
     },
     "metadata": {},
     "output_type": "display_data"
    },
    {
     "data": {
      "text/html": [
       "<span style=\"font-family: monospace; color: #f55\">2024-05-02 14:05:37 WARN  main  [AdjointIntegrator] render(): forcing &apos;evaluate=true&apos; since multi-pass rendering was requested.</span>"
      ]
     },
     "metadata": {},
     "output_type": "display_data"
    },
    {
     "data": {
      "text/html": [
       "<span style=\"font-family: monospace; color: #f55\">2024-05-02 14:05:37 WARN  main  [AdjointIntegrator] render(): forcing &apos;evaluate=true&apos; since multi-pass rendering was requested.</span>"
      ]
     },
     "metadata": {},
     "output_type": "display_data"
    },
    {
     "data": {
      "text/html": [
       "<span style=\"font-family: monospace; color: #f55\">2024-05-02 14:05:37 WARN  main  [AdjointIntegrator] render(): forcing &apos;evaluate=true&apos; since multi-pass rendering was requested.</span>"
      ]
     },
     "metadata": {},
     "output_type": "display_data"
    },
    {
     "data": {
      "text/html": [
       "<span style=\"font-family: monospace; color: #f55\">2024-05-02 14:05:37 WARN  main  [AdjointIntegrator] render(): forcing &apos;evaluate=true&apos; since multi-pass rendering was requested.</span>"
      ]
     },
     "metadata": {},
     "output_type": "display_data"
    },
    {
     "data": {
      "text/html": [
       "<span style=\"font-family: monospace; color: #f55\">2024-05-02 14:05:37 WARN  main  [AdjointIntegrator] render(): forcing &apos;evaluate=true&apos; since multi-pass rendering was requested.</span>"
      ]
     },
     "metadata": {},
     "output_type": "display_data"
    },
    {
     "data": {
      "text/html": [
       "<span style=\"font-family: monospace; color: #f55\">2024-05-02 14:05:37 WARN  main  [AdjointIntegrator] render(): forcing &apos;evaluate=true&apos; since multi-pass rendering was requested.</span>"
      ]
     },
     "metadata": {},
     "output_type": "display_data"
    },
    {
     "data": {
      "text/html": [
       "<span style=\"font-family: monospace; color: #f55\">2024-05-02 14:05:38 WARN  main  [AdjointIntegrator] render(): forcing &apos;evaluate=true&apos; since multi-pass rendering was requested.</span>"
      ]
     },
     "metadata": {},
     "output_type": "display_data"
    },
    {
     "data": {
      "text/html": [
       "<span style=\"font-family: monospace; color: #f55\">2024-05-02 14:05:38 WARN  main  [AdjointIntegrator] render(): forcing &apos;evaluate=true&apos; since multi-pass rendering was requested.</span>"
      ]
     },
     "metadata": {},
     "output_type": "display_data"
    },
    {
     "data": {
      "text/html": [
       "<span style=\"font-family: monospace; color: #f55\">2024-05-02 14:05:38 WARN  main  [AdjointIntegrator] render(): forcing &apos;evaluate=true&apos; since multi-pass rendering was requested.</span>"
      ]
     },
     "metadata": {},
     "output_type": "display_data"
    },
    {
     "data": {
      "text/html": [
       "<span style=\"font-family: monospace; color: #f55\">2024-05-02 14:05:38 WARN  main  [AdjointIntegrator] render(): forcing &apos;evaluate=true&apos; since multi-pass rendering was requested.</span>"
      ]
     },
     "metadata": {},
     "output_type": "display_data"
    },
    {
     "data": {
      "text/html": [
       "<span style=\"font-family: monospace; color: #f55\">2024-05-02 14:05:38 WARN  main  [AdjointIntegrator] render(): forcing &apos;evaluate=true&apos; since multi-pass rendering was requested.</span>"
      ]
     },
     "metadata": {},
     "output_type": "display_data"
    },
    {
     "data": {
      "text/html": [
       "<span style=\"font-family: monospace; color: #f55\">2024-05-02 14:05:38 WARN  main  [AdjointIntegrator] render(): forcing &apos;evaluate=true&apos; since multi-pass rendering was requested.</span>"
      ]
     },
     "metadata": {},
     "output_type": "display_data"
    },
    {
     "data": {
      "text/html": [
       "<span style=\"font-family: monospace; color: #f55\">2024-05-02 14:05:38 WARN  main  [AdjointIntegrator] render(): forcing &apos;evaluate=true&apos; since multi-pass rendering was requested.</span>"
      ]
     },
     "metadata": {},
     "output_type": "display_data"
    },
    {
     "data": {
      "text/html": [
       "<span style=\"font-family: monospace; color: #f55\">2024-05-02 14:05:38 WARN  main  [AdjointIntegrator] render(): forcing &apos;evaluate=true&apos; since multi-pass rendering was requested.</span>"
      ]
     },
     "metadata": {},
     "output_type": "display_data"
    },
    {
     "data": {
      "text/html": [
       "<span style=\"font-family: monospace; color: #f55\">2024-05-02 14:05:38 WARN  main  [AdjointIntegrator] render(): forcing &apos;evaluate=true&apos; since multi-pass rendering was requested.</span>"
      ]
     },
     "metadata": {},
     "output_type": "display_data"
    },
    {
     "data": {
      "text/html": [
       "<span style=\"font-family: monospace; color: #f55\">2024-05-02 14:05:38 WARN  main  [AdjointIntegrator] render(): forcing &apos;evaluate=true&apos; since multi-pass rendering was requested.</span>"
      ]
     },
     "metadata": {},
     "output_type": "display_data"
    },
    {
     "data": {
      "text/html": [
       "<span style=\"font-family: monospace; color: #f55\">2024-05-02 14:05:38 WARN  main  [AdjointIntegrator] render(): forcing &apos;evaluate=true&apos; since multi-pass rendering was requested.</span>"
      ]
     },
     "metadata": {},
     "output_type": "display_data"
    },
    {
     "data": {
      "text/html": [
       "<span style=\"font-family: monospace; color: #f55\">2024-05-02 14:05:38 WARN  main  [AdjointIntegrator] render(): forcing &apos;evaluate=true&apos; since multi-pass rendering was requested.</span>"
      ]
     },
     "metadata": {},
     "output_type": "display_data"
    },
    {
     "data": {
      "text/html": [
       "<span style=\"font-family: monospace; color: #f55\">2024-05-02 14:05:39 WARN  main  [AdjointIntegrator] render(): forcing &apos;evaluate=true&apos; since multi-pass rendering was requested.</span>"
      ]
     },
     "metadata": {},
     "output_type": "display_data"
    },
    {
     "data": {
      "text/html": [
       "<span style=\"font-family: monospace; color: #f55\">2024-05-02 14:05:39 WARN  main  [AdjointIntegrator] render(): forcing &apos;evaluate=true&apos; since multi-pass rendering was requested.</span>"
      ]
     },
     "metadata": {},
     "output_type": "display_data"
    },
    {
     "data": {
      "text/html": [
       "<span style=\"font-family: monospace; color: #f55\">2024-05-02 14:05:39 WARN  main  [AdjointIntegrator] render(): forcing &apos;evaluate=true&apos; since multi-pass rendering was requested.</span>"
      ]
     },
     "metadata": {},
     "output_type": "display_data"
    },
    {
     "data": {
      "text/html": [
       "<span style=\"font-family: monospace; color: #f55\">2024-05-02 14:05:39 WARN  main  [AdjointIntegrator] render(): forcing &apos;evaluate=true&apos; since multi-pass rendering was requested.</span>"
      ]
     },
     "metadata": {},
     "output_type": "display_data"
    },
    {
     "data": {
      "text/html": [
       "<span style=\"font-family: monospace; color: #f55\">2024-05-02 14:05:39 WARN  main  [AdjointIntegrator] render(): forcing &apos;evaluate=true&apos; since multi-pass rendering was requested.</span>"
      ]
     },
     "metadata": {},
     "output_type": "display_data"
    },
    {
     "data": {
      "text/html": [
       "<span style=\"font-family: monospace; color: #f55\">2024-05-02 14:05:39 WARN  main  [AdjointIntegrator] render(): forcing &apos;evaluate=true&apos; since multi-pass rendering was requested.</span>"
      ]
     },
     "metadata": {},
     "output_type": "display_data"
    },
    {
     "data": {
      "text/html": [
       "<span style=\"font-family: monospace; color: #f55\">2024-05-02 14:05:39 WARN  main  [AdjointIntegrator] render(): forcing &apos;evaluate=true&apos; since multi-pass rendering was requested.</span>"
      ]
     },
     "metadata": {},
     "output_type": "display_data"
    },
    {
     "data": {
      "text/html": [
       "<span style=\"font-family: monospace; color: #f55\">2024-05-02 14:05:39 WARN  main  [AdjointIntegrator] render(): forcing &apos;evaluate=true&apos; since multi-pass rendering was requested.</span>"
      ]
     },
     "metadata": {},
     "output_type": "display_data"
    },
    {
     "data": {
      "text/html": [
       "<span style=\"font-family: monospace; color: #f55\">2024-05-02 14:05:39 WARN  main  [AdjointIntegrator] render(): forcing &apos;evaluate=true&apos; since multi-pass rendering was requested.</span>"
      ]
     },
     "metadata": {},
     "output_type": "display_data"
    },
    {
     "data": {
      "text/html": [
       "<span style=\"font-family: monospace; color: #f55\">2024-05-02 14:05:39 WARN  main  [AdjointIntegrator] render(): forcing &apos;evaluate=true&apos; since multi-pass rendering was requested.</span>"
      ]
     },
     "metadata": {},
     "output_type": "display_data"
    },
    {
     "data": {
      "text/html": [
       "<span style=\"font-family: monospace; color: #f55\">2024-05-02 14:05:39 WARN  main  [AdjointIntegrator] render(): forcing &apos;evaluate=true&apos; since multi-pass rendering was requested.</span>"
      ]
     },
     "metadata": {},
     "output_type": "display_data"
    },
    {
     "data": {
      "text/html": [
       "<span style=\"font-family: monospace; color: #f55\">2024-05-02 14:05:39 WARN  main  [AdjointIntegrator] render(): forcing &apos;evaluate=true&apos; since multi-pass rendering was requested.</span>"
      ]
     },
     "metadata": {},
     "output_type": "display_data"
    },
    {
     "data": {
      "text/html": [
       "<span style=\"font-family: monospace; color: #f55\">2024-05-02 14:05:39 WARN  main  [AdjointIntegrator] render(): forcing &apos;evaluate=true&apos; since multi-pass rendering was requested.</span>"
      ]
     },
     "metadata": {},
     "output_type": "display_data"
    },
    {
     "data": {
      "text/html": [
       "<span style=\"font-family: monospace; color: #f55\">2024-05-02 14:05:40 WARN  main  [AdjointIntegrator] render(): forcing &apos;evaluate=true&apos; since multi-pass rendering was requested.</span>"
      ]
     },
     "metadata": {},
     "output_type": "display_data"
    },
    {
     "data": {
      "text/html": [
       "<span style=\"font-family: monospace; color: #f55\">2024-05-02 14:05:40 WARN  main  [AdjointIntegrator] render(): forcing &apos;evaluate=true&apos; since multi-pass rendering was requested.</span>"
      ]
     },
     "metadata": {},
     "output_type": "display_data"
    },
    {
     "data": {
      "text/html": [
       "<span style=\"font-family: monospace; color: #f55\">2024-05-02 14:05:40 WARN  main  [AdjointIntegrator] render(): forcing &apos;evaluate=true&apos; since multi-pass rendering was requested.</span>"
      ]
     },
     "metadata": {},
     "output_type": "display_data"
    },
    {
     "data": {
      "text/html": [
       "<span style=\"font-family: monospace; color: #f55\">2024-05-02 14:05:40 WARN  main  [AdjointIntegrator] render(): forcing &apos;evaluate=true&apos; since multi-pass rendering was requested.</span>"
      ]
     },
     "metadata": {},
     "output_type": "display_data"
    },
    {
     "data": {
      "text/html": [
       "<span style=\"font-family: monospace; color: #f55\">2024-05-02 14:05:40 WARN  main  [AdjointIntegrator] render(): forcing &apos;evaluate=true&apos; since multi-pass rendering was requested.</span>"
      ]
     },
     "metadata": {},
     "output_type": "display_data"
    },
    {
     "data": {
      "text/html": [
       "<span style=\"font-family: monospace; color: #f55\">2024-05-02 14:05:40 WARN  main  [AdjointIntegrator] render(): forcing &apos;evaluate=true&apos; since multi-pass rendering was requested.</span>"
      ]
     },
     "metadata": {},
     "output_type": "display_data"
    },
    {
     "data": {
      "text/html": [
       "<span style=\"font-family: monospace; color: #f55\">2024-05-02 14:05:40 WARN  main  [AdjointIntegrator] render(): forcing &apos;evaluate=true&apos; since multi-pass rendering was requested.</span>"
      ]
     },
     "metadata": {},
     "output_type": "display_data"
    },
    {
     "data": {
      "text/html": [
       "<span style=\"font-family: monospace; color: #f55\">2024-05-02 14:05:40 WARN  main  [AdjointIntegrator] render(): forcing &apos;evaluate=true&apos; since multi-pass rendering was requested.</span>"
      ]
     },
     "metadata": {},
     "output_type": "display_data"
    },
    {
     "data": {
      "text/html": [
       "<span style=\"font-family: monospace; color: #f55\">2024-05-02 14:05:40 WARN  main  [AdjointIntegrator] render(): forcing &apos;evaluate=true&apos; since multi-pass rendering was requested.</span>"
      ]
     },
     "metadata": {},
     "output_type": "display_data"
    },
    {
     "data": {
      "text/html": [
       "<span style=\"font-family: monospace; color: #f55\">2024-05-02 14:05:40 WARN  main  [AdjointIntegrator] render(): forcing &apos;evaluate=true&apos; since multi-pass rendering was requested.</span>"
      ]
     },
     "metadata": {},
     "output_type": "display_data"
    },
    {
     "data": {
      "text/html": [
       "<span style=\"font-family: monospace; color: #f55\">2024-05-02 14:05:40 WARN  main  [AdjointIntegrator] render(): forcing &apos;evaluate=true&apos; since multi-pass rendering was requested.</span>"
      ]
     },
     "metadata": {},
     "output_type": "display_data"
    },
    {
     "data": {
      "text/html": [
       "<span style=\"font-family: monospace; color: #f55\">2024-05-02 14:05:40 WARN  main  [AdjointIntegrator] render(): forcing &apos;evaluate=true&apos; since multi-pass rendering was requested.</span>"
      ]
     },
     "metadata": {},
     "output_type": "display_data"
    },
    {
     "data": {
      "text/html": [
       "<span style=\"font-family: monospace; color: #f55\">2024-05-02 14:05:40 WARN  main  [AdjointIntegrator] render(): forcing &apos;evaluate=true&apos; since multi-pass rendering was requested.</span>"
      ]
     },
     "metadata": {},
     "output_type": "display_data"
    },
    {
     "data": {
      "text/html": [
       "<span style=\"font-family: monospace; color: #f55\">2024-05-02 14:05:41 WARN  main  [AdjointIntegrator] render(): forcing &apos;evaluate=true&apos; since multi-pass rendering was requested.</span>"
      ]
     },
     "metadata": {},
     "output_type": "display_data"
    },
    {
     "data": {
      "text/html": [
       "<span style=\"font-family: monospace; color: #f55\">2024-05-02 14:05:41 WARN  main  [AdjointIntegrator] render(): forcing &apos;evaluate=true&apos; since multi-pass rendering was requested.</span>"
      ]
     },
     "metadata": {},
     "output_type": "display_data"
    },
    {
     "data": {
      "text/html": [
       "<span style=\"font-family: monospace; color: #f55\">2024-05-02 14:05:41 WARN  main  [AdjointIntegrator] render(): forcing &apos;evaluate=true&apos; since multi-pass rendering was requested.</span>"
      ]
     },
     "metadata": {},
     "output_type": "display_data"
    },
    {
     "data": {
      "text/html": [
       "<span style=\"font-family: monospace; color: #f55\">2024-05-02 14:05:41 WARN  main  [AdjointIntegrator] render(): forcing &apos;evaluate=true&apos; since multi-pass rendering was requested.</span>"
      ]
     },
     "metadata": {},
     "output_type": "display_data"
    },
    {
     "data": {
      "text/html": [
       "<span style=\"font-family: monospace; color: #f55\">2024-05-02 14:05:41 WARN  main  [AdjointIntegrator] render(): forcing &apos;evaluate=true&apos; since multi-pass rendering was requested.</span>"
      ]
     },
     "metadata": {},
     "output_type": "display_data"
    },
    {
     "data": {
      "text/html": [
       "<span style=\"font-family: monospace; color: #f55\">2024-05-02 14:05:41 WARN  main  [AdjointIntegrator] render(): forcing &apos;evaluate=true&apos; since multi-pass rendering was requested.</span>"
      ]
     },
     "metadata": {},
     "output_type": "display_data"
    },
    {
     "data": {
      "text/html": [
       "<span style=\"font-family: monospace; color: #f55\">2024-05-02 14:05:41 WARN  main  [AdjointIntegrator] render(): forcing &apos;evaluate=true&apos; since multi-pass rendering was requested.</span>"
      ]
     },
     "metadata": {},
     "output_type": "display_data"
    },
    {
     "data": {
      "text/html": [
       "<span style=\"font-family: monospace; color: #f55\">2024-05-02 14:05:41 WARN  main  [AdjointIntegrator] render(): forcing &apos;evaluate=true&apos; since multi-pass rendering was requested.</span>"
      ]
     },
     "metadata": {},
     "output_type": "display_data"
    },
    {
     "data": {
      "text/html": [
       "<span style=\"font-family: monospace; color: #f55\">2024-05-02 14:05:41 WARN  main  [AdjointIntegrator] render(): forcing &apos;evaluate=true&apos; since multi-pass rendering was requested.</span>"
      ]
     },
     "metadata": {},
     "output_type": "display_data"
    },
    {
     "data": {
      "text/html": [
       "<span style=\"font-family: monospace; color: #f55\">2024-05-02 14:05:41 WARN  main  [AdjointIntegrator] render(): forcing &apos;evaluate=true&apos; since multi-pass rendering was requested.</span>"
      ]
     },
     "metadata": {},
     "output_type": "display_data"
    },
    {
     "data": {
      "text/html": [
       "<span style=\"font-family: monospace; color: #f55\">2024-05-02 14:05:41 WARN  main  [AdjointIntegrator] render(): forcing &apos;evaluate=true&apos; since multi-pass rendering was requested.</span>"
      ]
     },
     "metadata": {},
     "output_type": "display_data"
    },
    {
     "data": {
      "text/html": [
       "<span style=\"font-family: monospace; color: #f55\">2024-05-02 14:05:41 WARN  main  [AdjointIntegrator] render(): forcing &apos;evaluate=true&apos; since multi-pass rendering was requested.</span>"
      ]
     },
     "metadata": {},
     "output_type": "display_data"
    },
    {
     "data": {
      "text/html": [
       "<span style=\"font-family: monospace; color: #f55\">2024-05-02 14:05:42 WARN  main  [AdjointIntegrator] render(): forcing &apos;evaluate=true&apos; since multi-pass rendering was requested.</span>"
      ]
     },
     "metadata": {},
     "output_type": "display_data"
    },
    {
     "data": {
      "text/html": [
       "<span style=\"font-family: monospace; color: #f55\">2024-05-02 14:05:42 WARN  main  [AdjointIntegrator] render(): forcing &apos;evaluate=true&apos; since multi-pass rendering was requested.</span>"
      ]
     },
     "metadata": {},
     "output_type": "display_data"
    },
    {
     "data": {
      "text/html": [
       "<span style=\"font-family: monospace; color: #f55\">2024-05-02 14:05:42 WARN  main  [AdjointIntegrator] render(): forcing &apos;evaluate=true&apos; since multi-pass rendering was requested.</span>"
      ]
     },
     "metadata": {},
     "output_type": "display_data"
    },
    {
     "data": {
      "text/html": [
       "<span style=\"font-family: monospace; color: #f55\">2024-05-02 14:05:42 WARN  main  [AdjointIntegrator] render(): forcing &apos;evaluate=true&apos; since multi-pass rendering was requested.</span>"
      ]
     },
     "metadata": {},
     "output_type": "display_data"
    },
    {
     "data": {
      "text/html": [
       "<span style=\"font-family: monospace; color: #f55\">2024-05-02 14:05:42 WARN  main  [AdjointIntegrator] render(): forcing &apos;evaluate=true&apos; since multi-pass rendering was requested.</span>"
      ]
     },
     "metadata": {},
     "output_type": "display_data"
    },
    {
     "data": {
      "text/html": [
       "<span style=\"font-family: monospace; color: #f55\">2024-05-02 14:05:42 WARN  main  [AdjointIntegrator] render(): forcing &apos;evaluate=true&apos; since multi-pass rendering was requested.</span>"
      ]
     },
     "metadata": {},
     "output_type": "display_data"
    },
    {
     "data": {
      "text/html": [
       "<span style=\"font-family: monospace; color: #f55\">2024-05-02 14:05:42 WARN  main  [AdjointIntegrator] render(): forcing &apos;evaluate=true&apos; since multi-pass rendering was requested.</span>"
      ]
     },
     "metadata": {},
     "output_type": "display_data"
    },
    {
     "data": {
      "text/html": [
       "<span style=\"font-family: monospace; color: #f55\">2024-05-02 14:05:42 WARN  main  [AdjointIntegrator] render(): forcing &apos;evaluate=true&apos; since multi-pass rendering was requested.</span>"
      ]
     },
     "metadata": {},
     "output_type": "display_data"
    },
    {
     "data": {
      "text/html": [
       "<span style=\"font-family: monospace; color: #f55\">2024-05-02 14:05:42 WARN  main  [AdjointIntegrator] render(): forcing &apos;evaluate=true&apos; since multi-pass rendering was requested.</span>"
      ]
     },
     "metadata": {},
     "output_type": "display_data"
    },
    {
     "data": {
      "text/html": [
       "<span style=\"font-family: monospace; color: #f55\">2024-05-02 14:05:42 WARN  main  [AdjointIntegrator] render(): forcing &apos;evaluate=true&apos; since multi-pass rendering was requested.</span>"
      ]
     },
     "metadata": {},
     "output_type": "display_data"
    },
    {
     "data": {
      "text/html": [
       "<span style=\"font-family: monospace; color: #f55\">2024-05-02 14:05:42 WARN  main  [AdjointIntegrator] render(): forcing &apos;evaluate=true&apos; since multi-pass rendering was requested.</span>"
      ]
     },
     "metadata": {},
     "output_type": "display_data"
    },
    {
     "data": {
      "text/html": [
       "<span style=\"font-family: monospace; color: #f55\">2024-05-02 14:05:42 WARN  main  [AdjointIntegrator] render(): forcing &apos;evaluate=true&apos; since multi-pass rendering was requested.</span>"
      ]
     },
     "metadata": {},
     "output_type": "display_data"
    },
    {
     "data": {
      "text/html": [
       "<span style=\"font-family: monospace; color: #f55\">2024-05-02 14:05:42 WARN  main  [AdjointIntegrator] render(): forcing &apos;evaluate=true&apos; since multi-pass rendering was requested.</span>"
      ]
     },
     "metadata": {},
     "output_type": "display_data"
    },
    {
     "data": {
      "text/html": [
       "<span style=\"font-family: monospace; color: #f55\">2024-05-02 14:05:43 WARN  main  [AdjointIntegrator] render(): forcing &apos;evaluate=true&apos; since multi-pass rendering was requested.</span>"
      ]
     },
     "metadata": {},
     "output_type": "display_data"
    },
    {
     "data": {
      "text/html": [
       "<span style=\"font-family: monospace; color: #f55\">2024-05-02 14:05:43 WARN  main  [AdjointIntegrator] render(): forcing &apos;evaluate=true&apos; since multi-pass rendering was requested.</span>"
      ]
     },
     "metadata": {},
     "output_type": "display_data"
    },
    {
     "data": {
      "text/html": [
       "<span style=\"font-family: monospace; color: #f55\">2024-05-02 14:05:43 WARN  main  [AdjointIntegrator] render(): forcing &apos;evaluate=true&apos; since multi-pass rendering was requested.</span>"
      ]
     },
     "metadata": {},
     "output_type": "display_data"
    },
    {
     "data": {
      "text/html": [
       "<span style=\"font-family: monospace; color: #f55\">2024-05-02 14:05:43 WARN  main  [AdjointIntegrator] render(): forcing &apos;evaluate=true&apos; since multi-pass rendering was requested.</span>"
      ]
     },
     "metadata": {},
     "output_type": "display_data"
    },
    {
     "data": {
      "text/html": [
       "<span style=\"font-family: monospace; color: #f55\">2024-05-02 14:05:43 WARN  main  [AdjointIntegrator] render(): forcing &apos;evaluate=true&apos; since multi-pass rendering was requested.</span>"
      ]
     },
     "metadata": {},
     "output_type": "display_data"
    },
    {
     "data": {
      "text/html": [
       "<span style=\"font-family: monospace; color: #f55\">2024-05-02 14:05:43 WARN  main  [AdjointIntegrator] render(): forcing &apos;evaluate=true&apos; since multi-pass rendering was requested.</span>"
      ]
     },
     "metadata": {},
     "output_type": "display_data"
    },
    {
     "data": {
      "text/html": [
       "<span style=\"font-family: monospace; color: #f55\">2024-05-02 14:05:43 WARN  main  [AdjointIntegrator] render(): forcing &apos;evaluate=true&apos; since multi-pass rendering was requested.</span>"
      ]
     },
     "metadata": {},
     "output_type": "display_data"
    },
    {
     "data": {
      "text/html": [
       "<span style=\"font-family: monospace; color: #f55\">2024-05-02 14:05:43 WARN  main  [AdjointIntegrator] render(): forcing &apos;evaluate=true&apos; since multi-pass rendering was requested.</span>"
      ]
     },
     "metadata": {},
     "output_type": "display_data"
    },
    {
     "data": {
      "text/html": [
       "<span style=\"font-family: monospace; color: #f55\">2024-05-02 14:05:43 WARN  main  [AdjointIntegrator] render(): forcing &apos;evaluate=true&apos; since multi-pass rendering was requested.</span>"
      ]
     },
     "metadata": {},
     "output_type": "display_data"
    },
    {
     "data": {
      "text/html": [
       "<span style=\"font-family: monospace; color: #f55\">2024-05-02 14:05:43 WARN  main  [AdjointIntegrator] render(): forcing &apos;evaluate=true&apos; since multi-pass rendering was requested.</span>"
      ]
     },
     "metadata": {},
     "output_type": "display_data"
    },
    {
     "data": {
      "text/html": [
       "<span style=\"font-family: monospace; color: #f55\">2024-05-02 14:05:43 WARN  main  [AdjointIntegrator] render(): forcing &apos;evaluate=true&apos; since multi-pass rendering was requested.</span>"
      ]
     },
     "metadata": {},
     "output_type": "display_data"
    },
    {
     "data": {
      "text/html": [
       "<span style=\"font-family: monospace; color: #f55\">2024-05-02 14:05:43 WARN  main  [AdjointIntegrator] render(): forcing &apos;evaluate=true&apos; since multi-pass rendering was requested.</span>"
      ]
     },
     "metadata": {},
     "output_type": "display_data"
    },
    {
     "data": {
      "text/html": [
       "<span style=\"font-family: monospace; color: #f55\">2024-05-02 14:05:43 WARN  main  [AdjointIntegrator] render(): forcing &apos;evaluate=true&apos; since multi-pass rendering was requested.</span>"
      ]
     },
     "metadata": {},
     "output_type": "display_data"
    },
    {
     "data": {
      "text/html": [
       "<span style=\"font-family: monospace; color: #f55\">2024-05-02 14:05:44 WARN  main  [AdjointIntegrator] render(): forcing &apos;evaluate=true&apos; since multi-pass rendering was requested.</span>"
      ]
     },
     "metadata": {},
     "output_type": "display_data"
    },
    {
     "data": {
      "text/html": [
       "<span style=\"font-family: monospace; color: #f55\">2024-05-02 14:05:44 WARN  main  [AdjointIntegrator] render(): forcing &apos;evaluate=true&apos; since multi-pass rendering was requested.</span>"
      ]
     },
     "metadata": {},
     "output_type": "display_data"
    },
    {
     "data": {
      "text/html": [
       "<span style=\"font-family: monospace; color: #f55\">2024-05-02 14:05:44 WARN  main  [AdjointIntegrator] render(): forcing &apos;evaluate=true&apos; since multi-pass rendering was requested.</span>"
      ]
     },
     "metadata": {},
     "output_type": "display_data"
    },
    {
     "data": {
      "text/html": [
       "<span style=\"font-family: monospace; color: #f55\">2024-05-02 14:05:44 WARN  main  [AdjointIntegrator] render(): forcing &apos;evaluate=true&apos; since multi-pass rendering was requested.</span>"
      ]
     },
     "metadata": {},
     "output_type": "display_data"
    },
    {
     "data": {
      "text/html": [
       "<span style=\"font-family: monospace; color: #f55\">2024-05-02 14:05:44 WARN  main  [AdjointIntegrator] render(): forcing &apos;evaluate=true&apos; since multi-pass rendering was requested.</span>"
      ]
     },
     "metadata": {},
     "output_type": "display_data"
    },
    {
     "data": {
      "text/html": [
       "<span style=\"font-family: monospace; color: #f55\">2024-05-02 14:05:44 WARN  main  [AdjointIntegrator] render(): forcing &apos;evaluate=true&apos; since multi-pass rendering was requested.</span>"
      ]
     },
     "metadata": {},
     "output_type": "display_data"
    },
    {
     "data": {
      "text/html": [
       "<span style=\"font-family: monospace; color: #f55\">2024-05-02 14:05:44 WARN  main  [AdjointIntegrator] render(): forcing &apos;evaluate=true&apos; since multi-pass rendering was requested.</span>"
      ]
     },
     "metadata": {},
     "output_type": "display_data"
    },
    {
     "data": {
      "text/html": [
       "<span style=\"font-family: monospace; color: #f55\">2024-05-02 14:05:44 WARN  main  [AdjointIntegrator] render(): forcing &apos;evaluate=true&apos; since multi-pass rendering was requested.</span>"
      ]
     },
     "metadata": {},
     "output_type": "display_data"
    },
    {
     "data": {
      "text/html": [
       "<span style=\"font-family: monospace; color: #f55\">2024-05-02 14:05:44 WARN  main  [AdjointIntegrator] render(): forcing &apos;evaluate=true&apos; since multi-pass rendering was requested.</span>"
      ]
     },
     "metadata": {},
     "output_type": "display_data"
    },
    {
     "data": {
      "text/html": [
       "<span style=\"font-family: monospace; color: #f55\">2024-05-02 14:05:44 WARN  main  [AdjointIntegrator] render(): forcing &apos;evaluate=true&apos; since multi-pass rendering was requested.</span>"
      ]
     },
     "metadata": {},
     "output_type": "display_data"
    },
    {
     "data": {
      "text/html": [
       "<span style=\"font-family: monospace; color: #f55\">2024-05-02 14:05:44 WARN  main  [AdjointIntegrator] render(): forcing &apos;evaluate=true&apos; since multi-pass rendering was requested.</span>"
      ]
     },
     "metadata": {},
     "output_type": "display_data"
    },
    {
     "data": {
      "text/html": [
       "<span style=\"font-family: monospace; color: #f55\">2024-05-02 14:05:44 WARN  main  [AdjointIntegrator] render(): forcing &apos;evaluate=true&apos; since multi-pass rendering was requested.</span>"
      ]
     },
     "metadata": {},
     "output_type": "display_data"
    },
    {
     "data": {
      "text/html": [
       "<span style=\"font-family: monospace; color: #f55\">2024-05-02 14:05:45 WARN  main  [AdjointIntegrator] render(): forcing &apos;evaluate=true&apos; since multi-pass rendering was requested.</span>"
      ]
     },
     "metadata": {},
     "output_type": "display_data"
    },
    {
     "data": {
      "text/html": [
       "<span style=\"font-family: monospace; color: #f55\">2024-05-02 14:05:45 WARN  main  [AdjointIntegrator] render(): forcing &apos;evaluate=true&apos; since multi-pass rendering was requested.</span>"
      ]
     },
     "metadata": {},
     "output_type": "display_data"
    },
    {
     "data": {
      "text/html": [
       "<span style=\"font-family: monospace; color: #f55\">2024-05-02 14:05:45 WARN  main  [AdjointIntegrator] render(): forcing &apos;evaluate=true&apos; since multi-pass rendering was requested.</span>"
      ]
     },
     "metadata": {},
     "output_type": "display_data"
    },
    {
     "data": {
      "text/html": [
       "<span style=\"font-family: monospace; color: #f55\">2024-05-02 14:05:45 WARN  main  [AdjointIntegrator] render(): forcing &apos;evaluate=true&apos; since multi-pass rendering was requested.</span>"
      ]
     },
     "metadata": {},
     "output_type": "display_data"
    },
    {
     "data": {
      "text/html": [
       "<span style=\"font-family: monospace; color: #f55\">2024-05-02 14:05:45 WARN  main  [AdjointIntegrator] render(): forcing &apos;evaluate=true&apos; since multi-pass rendering was requested.</span>"
      ]
     },
     "metadata": {},
     "output_type": "display_data"
    },
    {
     "data": {
      "text/html": [
       "<span style=\"font-family: monospace; color: #f55\">2024-05-02 14:05:45 WARN  main  [AdjointIntegrator] render(): forcing &apos;evaluate=true&apos; since multi-pass rendering was requested.</span>"
      ]
     },
     "metadata": {},
     "output_type": "display_data"
    },
    {
     "data": {
      "text/html": [
       "<span style=\"font-family: monospace; color: #f55\">2024-05-02 14:05:45 WARN  main  [AdjointIntegrator] render(): forcing &apos;evaluate=true&apos; since multi-pass rendering was requested.</span>"
      ]
     },
     "metadata": {},
     "output_type": "display_data"
    },
    {
     "data": {
      "text/html": [
       "<span style=\"font-family: monospace; color: #f55\">2024-05-02 14:05:45 WARN  main  [AdjointIntegrator] render(): forcing &apos;evaluate=true&apos; since multi-pass rendering was requested.</span>"
      ]
     },
     "metadata": {},
     "output_type": "display_data"
    },
    {
     "data": {
      "text/html": [
       "<span style=\"font-family: monospace; color: #f55\">2024-05-02 14:05:45 WARN  main  [AdjointIntegrator] render(): forcing &apos;evaluate=true&apos; since multi-pass rendering was requested.</span>"
      ]
     },
     "metadata": {},
     "output_type": "display_data"
    },
    {
     "data": {
      "text/html": [
       "<span style=\"font-family: monospace; color: #f55\">2024-05-02 14:05:45 WARN  main  [AdjointIntegrator] render(): forcing &apos;evaluate=true&apos; since multi-pass rendering was requested.</span>"
      ]
     },
     "metadata": {},
     "output_type": "display_data"
    },
    {
     "data": {
      "text/html": [
       "<span style=\"font-family: monospace; color: #f55\">2024-05-02 14:05:45 WARN  main  [AdjointIntegrator] render(): forcing &apos;evaluate=true&apos; since multi-pass rendering was requested.</span>"
      ]
     },
     "metadata": {},
     "output_type": "display_data"
    },
    {
     "data": {
      "text/html": [
       "<span style=\"font-family: monospace; color: #f55\">2024-05-02 14:05:45 WARN  main  [AdjointIntegrator] render(): forcing &apos;evaluate=true&apos; since multi-pass rendering was requested.</span>"
      ]
     },
     "metadata": {},
     "output_type": "display_data"
    },
    {
     "data": {
      "text/html": [
       "<span style=\"font-family: monospace; color: #f55\">2024-05-02 14:05:45 WARN  main  [AdjointIntegrator] render(): forcing &apos;evaluate=true&apos; since multi-pass rendering was requested.</span>"
      ]
     },
     "metadata": {},
     "output_type": "display_data"
    },
    {
     "data": {
      "text/html": [
       "<span style=\"font-family: monospace; color: #f55\">2024-05-02 14:05:46 WARN  main  [AdjointIntegrator] render(): forcing &apos;evaluate=true&apos; since multi-pass rendering was requested.</span>"
      ]
     },
     "metadata": {},
     "output_type": "display_data"
    },
    {
     "data": {
      "text/html": [
       "<span style=\"font-family: monospace; color: #f55\">2024-05-02 14:05:46 WARN  main  [AdjointIntegrator] render(): forcing &apos;evaluate=true&apos; since multi-pass rendering was requested.</span>"
      ]
     },
     "metadata": {},
     "output_type": "display_data"
    },
    {
     "data": {
      "text/html": [
       "<span style=\"font-family: monospace; color: #f55\">2024-05-02 14:05:46 WARN  main  [AdjointIntegrator] render(): forcing &apos;evaluate=true&apos; since multi-pass rendering was requested.</span>"
      ]
     },
     "metadata": {},
     "output_type": "display_data"
    },
    {
     "data": {
      "text/html": [
       "<span style=\"font-family: monospace; color: #f55\">2024-05-02 14:05:46 WARN  main  [AdjointIntegrator] render(): forcing &apos;evaluate=true&apos; since multi-pass rendering was requested.</span>"
      ]
     },
     "metadata": {},
     "output_type": "display_data"
    },
    {
     "data": {
      "text/html": [
       "<span style=\"font-family: monospace; color: #f55\">2024-05-02 14:05:46 WARN  main  [AdjointIntegrator] render(): forcing &apos;evaluate=true&apos; since multi-pass rendering was requested.</span>"
      ]
     },
     "metadata": {},
     "output_type": "display_data"
    },
    {
     "data": {
      "text/html": [
       "<span style=\"font-family: monospace; color: #f55\">2024-05-02 14:05:46 WARN  main  [AdjointIntegrator] render(): forcing &apos;evaluate=true&apos; since multi-pass rendering was requested.</span>"
      ]
     },
     "metadata": {},
     "output_type": "display_data"
    },
    {
     "data": {
      "text/html": [
       "<span style=\"font-family: monospace; color: #f55\">2024-05-02 14:05:46 WARN  main  [AdjointIntegrator] render(): forcing &apos;evaluate=true&apos; since multi-pass rendering was requested.</span>"
      ]
     },
     "metadata": {},
     "output_type": "display_data"
    },
    {
     "data": {
      "text/html": [
       "<span style=\"font-family: monospace; color: #f55\">2024-05-02 14:05:46 WARN  main  [AdjointIntegrator] render(): forcing &apos;evaluate=true&apos; since multi-pass rendering was requested.</span>"
      ]
     },
     "metadata": {},
     "output_type": "display_data"
    },
    {
     "data": {
      "text/html": [
       "<span style=\"font-family: monospace; color: #f55\">2024-05-02 14:05:46 WARN  main  [AdjointIntegrator] render(): forcing &apos;evaluate=true&apos; since multi-pass rendering was requested.</span>"
      ]
     },
     "metadata": {},
     "output_type": "display_data"
    },
    {
     "data": {
      "text/html": [
       "<span style=\"font-family: monospace; color: #f55\">2024-05-02 14:05:46 WARN  main  [AdjointIntegrator] render(): forcing &apos;evaluate=true&apos; since multi-pass rendering was requested.</span>"
      ]
     },
     "metadata": {},
     "output_type": "display_data"
    },
    {
     "data": {
      "text/html": [
       "<span style=\"font-family: monospace; color: #f55\">2024-05-02 14:05:46 WARN  main  [AdjointIntegrator] render(): forcing &apos;evaluate=true&apos; since multi-pass rendering was requested.</span>"
      ]
     },
     "metadata": {},
     "output_type": "display_data"
    },
    {
     "data": {
      "text/html": [
       "<span style=\"font-family: monospace; color: #f55\">2024-05-02 14:05:46 WARN  main  [AdjointIntegrator] render(): forcing &apos;evaluate=true&apos; since multi-pass rendering was requested.</span>"
      ]
     },
     "metadata": {},
     "output_type": "display_data"
    },
    {
     "data": {
      "text/html": [
       "<span style=\"font-family: monospace; color: #f55\">2024-05-02 14:05:46 WARN  main  [AdjointIntegrator] render(): forcing &apos;evaluate=true&apos; since multi-pass rendering was requested.</span>"
      ]
     },
     "metadata": {},
     "output_type": "display_data"
    },
    {
     "data": {
      "text/html": [
       "<span style=\"font-family: monospace; color: #f55\">2024-05-02 14:05:47 WARN  main  [AdjointIntegrator] render(): forcing &apos;evaluate=true&apos; since multi-pass rendering was requested.</span>"
      ]
     },
     "metadata": {},
     "output_type": "display_data"
    },
    {
     "data": {
      "text/html": [
       "<span style=\"font-family: monospace; color: #f55\">2024-05-02 14:05:47 WARN  main  [AdjointIntegrator] render(): forcing &apos;evaluate=true&apos; since multi-pass rendering was requested.</span>"
      ]
     },
     "metadata": {},
     "output_type": "display_data"
    },
    {
     "data": {
      "text/html": [
       "<span style=\"font-family: monospace; color: #f55\">2024-05-02 14:05:47 WARN  main  [AdjointIntegrator] render(): forcing &apos;evaluate=true&apos; since multi-pass rendering was requested.</span>"
      ]
     },
     "metadata": {},
     "output_type": "display_data"
    },
    {
     "data": {
      "text/html": [
       "<span style=\"font-family: monospace; color: #f55\">2024-05-02 14:05:47 WARN  main  [AdjointIntegrator] render(): forcing &apos;evaluate=true&apos; since multi-pass rendering was requested.</span>"
      ]
     },
     "metadata": {},
     "output_type": "display_data"
    },
    {
     "data": {
      "text/html": [
       "<span style=\"font-family: monospace; color: #f55\">2024-05-02 14:05:47 WARN  main  [AdjointIntegrator] render(): forcing &apos;evaluate=true&apos; since multi-pass rendering was requested.</span>"
      ]
     },
     "metadata": {},
     "output_type": "display_data"
    },
    {
     "data": {
      "text/html": [
       "<span style=\"font-family: monospace; color: #f55\">2024-05-02 14:05:47 WARN  main  [AdjointIntegrator] render(): forcing &apos;evaluate=true&apos; since multi-pass rendering was requested.</span>"
      ]
     },
     "metadata": {},
     "output_type": "display_data"
    },
    {
     "data": {
      "text/html": [
       "<span style=\"font-family: monospace; color: #f55\">2024-05-02 14:05:47 WARN  main  [AdjointIntegrator] render(): forcing &apos;evaluate=true&apos; since multi-pass rendering was requested.</span>"
      ]
     },
     "metadata": {},
     "output_type": "display_data"
    },
    {
     "data": {
      "text/html": [
       "<span style=\"font-family: monospace; color: #f55\">2024-05-02 14:05:47 WARN  main  [AdjointIntegrator] render(): forcing &apos;evaluate=true&apos; since multi-pass rendering was requested.</span>"
      ]
     },
     "metadata": {},
     "output_type": "display_data"
    },
    {
     "data": {
      "text/html": [
       "<span style=\"font-family: monospace; color: #f55\">2024-05-02 14:05:47 WARN  main  [AdjointIntegrator] render(): forcing &apos;evaluate=true&apos; since multi-pass rendering was requested.</span>"
      ]
     },
     "metadata": {},
     "output_type": "display_data"
    },
    {
     "data": {
      "text/html": [
       "<span style=\"font-family: monospace; color: #f55\">2024-05-02 14:05:47 WARN  main  [AdjointIntegrator] render(): forcing &apos;evaluate=true&apos; since multi-pass rendering was requested.</span>"
      ]
     },
     "metadata": {},
     "output_type": "display_data"
    },
    {
     "data": {
      "text/html": [
       "<span style=\"font-family: monospace; color: #f55\">2024-05-02 14:05:47 WARN  main  [AdjointIntegrator] render(): forcing &apos;evaluate=true&apos; since multi-pass rendering was requested.</span>"
      ]
     },
     "metadata": {},
     "output_type": "display_data"
    },
    {
     "data": {
      "text/html": [
       "<span style=\"font-family: monospace; color: #f55\">2024-05-02 14:05:47 WARN  main  [AdjointIntegrator] render(): forcing &apos;evaluate=true&apos; since multi-pass rendering was requested.</span>"
      ]
     },
     "metadata": {},
     "output_type": "display_data"
    },
    {
     "data": {
      "text/html": [
       "<span style=\"font-family: monospace; color: #f55\">2024-05-02 14:05:48 WARN  main  [AdjointIntegrator] render(): forcing &apos;evaluate=true&apos; since multi-pass rendering was requested.</span>"
      ]
     },
     "metadata": {},
     "output_type": "display_data"
    },
    {
     "data": {
      "text/html": [
       "<span style=\"font-family: monospace; color: #f55\">2024-05-02 14:05:48 WARN  main  [AdjointIntegrator] render(): forcing &apos;evaluate=true&apos; since multi-pass rendering was requested.</span>"
      ]
     },
     "metadata": {},
     "output_type": "display_data"
    },
    {
     "data": {
      "text/html": [
       "<span style=\"font-family: monospace; color: #f55\">2024-05-02 14:05:48 WARN  main  [AdjointIntegrator] render(): forcing &apos;evaluate=true&apos; since multi-pass rendering was requested.</span>"
      ]
     },
     "metadata": {},
     "output_type": "display_data"
    },
    {
     "data": {
      "text/html": [
       "<span style=\"font-family: monospace; color: #f55\">2024-05-02 14:05:48 WARN  main  [AdjointIntegrator] render(): forcing &apos;evaluate=true&apos; since multi-pass rendering was requested.</span>"
      ]
     },
     "metadata": {},
     "output_type": "display_data"
    },
    {
     "data": {
      "text/html": [
       "<span style=\"font-family: monospace; color: #f55\">2024-05-02 14:05:48 WARN  main  [AdjointIntegrator] render(): forcing &apos;evaluate=true&apos; since multi-pass rendering was requested.</span>"
      ]
     },
     "metadata": {},
     "output_type": "display_data"
    },
    {
     "data": {
      "text/html": [
       "<span style=\"font-family: monospace; color: #f55\">2024-05-02 14:05:48 WARN  main  [AdjointIntegrator] render(): forcing &apos;evaluate=true&apos; since multi-pass rendering was requested.</span>"
      ]
     },
     "metadata": {},
     "output_type": "display_data"
    },
    {
     "data": {
      "text/html": [
       "<span style=\"font-family: monospace; color: #f55\">2024-05-02 14:05:48 WARN  main  [AdjointIntegrator] render(): forcing &apos;evaluate=true&apos; since multi-pass rendering was requested.</span>"
      ]
     },
     "metadata": {},
     "output_type": "display_data"
    },
    {
     "data": {
      "text/html": [
       "<span style=\"font-family: monospace; color: #f55\">2024-05-02 14:05:48 WARN  main  [AdjointIntegrator] render(): forcing &apos;evaluate=true&apos; since multi-pass rendering was requested.</span>"
      ]
     },
     "metadata": {},
     "output_type": "display_data"
    },
    {
     "data": {
      "text/html": [
       "<span style=\"font-family: monospace; color: #f55\">2024-05-02 14:05:48 WARN  main  [AdjointIntegrator] render(): forcing &apos;evaluate=true&apos; since multi-pass rendering was requested.</span>"
      ]
     },
     "metadata": {},
     "output_type": "display_data"
    },
    {
     "data": {
      "text/html": [
       "<span style=\"font-family: monospace; color: #f55\">2024-05-02 14:05:48 WARN  main  [AdjointIntegrator] render(): forcing &apos;evaluate=true&apos; since multi-pass rendering was requested.</span>"
      ]
     },
     "metadata": {},
     "output_type": "display_data"
    },
    {
     "data": {
      "text/html": [
       "<span style=\"font-family: monospace; color: #f55\">2024-05-02 14:05:48 WARN  main  [AdjointIntegrator] render(): forcing &apos;evaluate=true&apos; since multi-pass rendering was requested.</span>"
      ]
     },
     "metadata": {},
     "output_type": "display_data"
    },
    {
     "data": {
      "text/html": [
       "<span style=\"font-family: monospace; color: #f55\">2024-05-02 14:05:48 WARN  main  [AdjointIntegrator] render(): forcing &apos;evaluate=true&apos; since multi-pass rendering was requested.</span>"
      ]
     },
     "metadata": {},
     "output_type": "display_data"
    },
    {
     "data": {
      "text/html": [
       "<span style=\"font-family: monospace; color: #f55\">2024-05-02 14:05:48 WARN  main  [AdjointIntegrator] render(): forcing &apos;evaluate=true&apos; since multi-pass rendering was requested.</span>"
      ]
     },
     "metadata": {},
     "output_type": "display_data"
    },
    {
     "data": {
      "text/html": [
       "<span style=\"font-family: monospace; color: #f55\">2024-05-02 14:05:49 WARN  main  [AdjointIntegrator] render(): forcing &apos;evaluate=true&apos; since multi-pass rendering was requested.</span>"
      ]
     },
     "metadata": {},
     "output_type": "display_data"
    },
    {
     "data": {
      "text/html": [
       "<span style=\"font-family: monospace; color: #f55\">2024-05-02 14:05:49 WARN  main  [AdjointIntegrator] render(): forcing &apos;evaluate=true&apos; since multi-pass rendering was requested.</span>"
      ]
     },
     "metadata": {},
     "output_type": "display_data"
    },
    {
     "data": {
      "text/html": [
       "<span style=\"font-family: monospace; color: #f55\">2024-05-02 14:05:49 WARN  main  [AdjointIntegrator] render(): forcing &apos;evaluate=true&apos; since multi-pass rendering was requested.</span>"
      ]
     },
     "metadata": {},
     "output_type": "display_data"
    },
    {
     "data": {
      "text/html": [
       "<span style=\"font-family: monospace; color: #f55\">2024-05-02 14:05:49 WARN  main  [AdjointIntegrator] render(): forcing &apos;evaluate=true&apos; since multi-pass rendering was requested.</span>"
      ]
     },
     "metadata": {},
     "output_type": "display_data"
    },
    {
     "data": {
      "text/html": [
       "<span style=\"font-family: monospace; color: #f55\">2024-05-02 14:05:49 WARN  main  [AdjointIntegrator] render(): forcing &apos;evaluate=true&apos; since multi-pass rendering was requested.</span>"
      ]
     },
     "metadata": {},
     "output_type": "display_data"
    },
    {
     "data": {
      "text/html": [
       "<span style=\"font-family: monospace; color: #f55\">2024-05-02 14:05:49 WARN  main  [AdjointIntegrator] render(): forcing &apos;evaluate=true&apos; since multi-pass rendering was requested.</span>"
      ]
     },
     "metadata": {},
     "output_type": "display_data"
    },
    {
     "data": {
      "text/html": [
       "<span style=\"font-family: monospace; color: #f55\">2024-05-02 14:05:49 WARN  main  [AdjointIntegrator] render(): forcing &apos;evaluate=true&apos; since multi-pass rendering was requested.</span>"
      ]
     },
     "metadata": {},
     "output_type": "display_data"
    },
    {
     "data": {
      "text/html": [
       "<span style=\"font-family: monospace; color: #f55\">2024-05-02 14:05:49 WARN  main  [AdjointIntegrator] render(): forcing &apos;evaluate=true&apos; since multi-pass rendering was requested.</span>"
      ]
     },
     "metadata": {},
     "output_type": "display_data"
    },
    {
     "data": {
      "text/html": [
       "<span style=\"font-family: monospace; color: #f55\">2024-05-02 14:05:49 WARN  main  [AdjointIntegrator] render(): forcing &apos;evaluate=true&apos; since multi-pass rendering was requested.</span>"
      ]
     },
     "metadata": {},
     "output_type": "display_data"
    },
    {
     "data": {
      "text/html": [
       "<span style=\"font-family: monospace; color: #f55\">2024-05-02 14:05:49 WARN  main  [AdjointIntegrator] render(): forcing &apos;evaluate=true&apos; since multi-pass rendering was requested.</span>"
      ]
     },
     "metadata": {},
     "output_type": "display_data"
    },
    {
     "data": {
      "text/html": [
       "<span style=\"font-family: monospace; color: #f55\">2024-05-02 14:05:49 WARN  main  [AdjointIntegrator] render(): forcing &apos;evaluate=true&apos; since multi-pass rendering was requested.</span>"
      ]
     },
     "metadata": {},
     "output_type": "display_data"
    },
    {
     "data": {
      "text/html": [
       "<span style=\"font-family: monospace; color: #f55\">2024-05-02 14:05:49 WARN  main  [AdjointIntegrator] render(): forcing &apos;evaluate=true&apos; since multi-pass rendering was requested.</span>"
      ]
     },
     "metadata": {},
     "output_type": "display_data"
    },
    {
     "data": {
      "text/html": [
       "<span style=\"font-family: monospace; color: #f55\">2024-05-02 14:05:49 WARN  main  [AdjointIntegrator] render(): forcing &apos;evaluate=true&apos; since multi-pass rendering was requested.</span>"
      ]
     },
     "metadata": {},
     "output_type": "display_data"
    },
    {
     "data": {
      "text/html": [
       "<span style=\"font-family: monospace; color: #f55\">2024-05-02 14:05:50 WARN  main  [AdjointIntegrator] render(): forcing &apos;evaluate=true&apos; since multi-pass rendering was requested.</span>"
      ]
     },
     "metadata": {},
     "output_type": "display_data"
    },
    {
     "data": {
      "text/html": [
       "<span style=\"font-family: monospace; color: #f55\">2024-05-02 14:05:50 WARN  main  [AdjointIntegrator] render(): forcing &apos;evaluate=true&apos; since multi-pass rendering was requested.</span>"
      ]
     },
     "metadata": {},
     "output_type": "display_data"
    },
    {
     "data": {
      "text/html": [
       "<span style=\"font-family: monospace; color: #f55\">2024-05-02 14:05:50 WARN  main  [AdjointIntegrator] render(): forcing &apos;evaluate=true&apos; since multi-pass rendering was requested.</span>"
      ]
     },
     "metadata": {},
     "output_type": "display_data"
    },
    {
     "data": {
      "text/html": [
       "<span style=\"font-family: monospace; color: #f55\">2024-05-02 14:05:50 WARN  main  [AdjointIntegrator] render(): forcing &apos;evaluate=true&apos; since multi-pass rendering was requested.</span>"
      ]
     },
     "metadata": {},
     "output_type": "display_data"
    },
    {
     "data": {
      "text/html": [
       "<span style=\"font-family: monospace; color: #f55\">2024-05-02 14:05:50 WARN  main  [AdjointIntegrator] render(): forcing &apos;evaluate=true&apos; since multi-pass rendering was requested.</span>"
      ]
     },
     "metadata": {},
     "output_type": "display_data"
    },
    {
     "data": {
      "text/html": [
       "<span style=\"font-family: monospace; color: #f55\">2024-05-02 14:05:50 WARN  main  [AdjointIntegrator] render(): forcing &apos;evaluate=true&apos; since multi-pass rendering was requested.</span>"
      ]
     },
     "metadata": {},
     "output_type": "display_data"
    },
    {
     "data": {
      "text/html": [
       "<span style=\"font-family: monospace; color: #f55\">2024-05-02 14:05:50 WARN  main  [AdjointIntegrator] render(): forcing &apos;evaluate=true&apos; since multi-pass rendering was requested.</span>"
      ]
     },
     "metadata": {},
     "output_type": "display_data"
    },
    {
     "data": {
      "text/html": [
       "<span style=\"font-family: monospace; color: #f55\">2024-05-02 14:05:50 WARN  main  [AdjointIntegrator] render(): forcing &apos;evaluate=true&apos; since multi-pass rendering was requested.</span>"
      ]
     },
     "metadata": {},
     "output_type": "display_data"
    },
    {
     "data": {
      "text/html": [
       "<span style=\"font-family: monospace; color: #f55\">2024-05-02 14:05:50 WARN  main  [AdjointIntegrator] render(): forcing &apos;evaluate=true&apos; since multi-pass rendering was requested.</span>"
      ]
     },
     "metadata": {},
     "output_type": "display_data"
    },
    {
     "data": {
      "text/html": [
       "<span style=\"font-family: monospace; color: #f55\">2024-05-02 14:05:50 WARN  main  [AdjointIntegrator] render(): forcing &apos;evaluate=true&apos; since multi-pass rendering was requested.</span>"
      ]
     },
     "metadata": {},
     "output_type": "display_data"
    },
    {
     "data": {
      "text/html": [
       "<span style=\"font-family: monospace; color: #f55\">2024-05-02 14:05:50 WARN  main  [AdjointIntegrator] render(): forcing &apos;evaluate=true&apos; since multi-pass rendering was requested.</span>"
      ]
     },
     "metadata": {},
     "output_type": "display_data"
    },
    {
     "data": {
      "text/html": [
       "<span style=\"font-family: monospace; color: #f55\">2024-05-02 14:05:50 WARN  main  [AdjointIntegrator] render(): forcing &apos;evaluate=true&apos; since multi-pass rendering was requested.</span>"
      ]
     },
     "metadata": {},
     "output_type": "display_data"
    },
    {
     "data": {
      "text/html": [
       "<span style=\"font-family: monospace; color: #f55\">2024-05-02 14:05:51 WARN  main  [AdjointIntegrator] render(): forcing &apos;evaluate=true&apos; since multi-pass rendering was requested.</span>"
      ]
     },
     "metadata": {},
     "output_type": "display_data"
    },
    {
     "data": {
      "text/html": [
       "<span style=\"font-family: monospace; color: #f55\">2024-05-02 14:05:51 WARN  main  [AdjointIntegrator] render(): forcing &apos;evaluate=true&apos; since multi-pass rendering was requested.</span>"
      ]
     },
     "metadata": {},
     "output_type": "display_data"
    },
    {
     "data": {
      "text/html": [
       "<span style=\"font-family: monospace; color: #f55\">2024-05-02 14:05:51 WARN  main  [AdjointIntegrator] render(): forcing &apos;evaluate=true&apos; since multi-pass rendering was requested.</span>"
      ]
     },
     "metadata": {},
     "output_type": "display_data"
    },
    {
     "data": {
      "text/html": [
       "<span style=\"font-family: monospace; color: #f55\">2024-05-02 14:05:51 WARN  main  [AdjointIntegrator] render(): forcing &apos;evaluate=true&apos; since multi-pass rendering was requested.</span>"
      ]
     },
     "metadata": {},
     "output_type": "display_data"
    },
    {
     "data": {
      "text/html": [
       "<span style=\"font-family: monospace; color: #f55\">2024-05-02 14:05:51 WARN  main  [AdjointIntegrator] render(): forcing &apos;evaluate=true&apos; since multi-pass rendering was requested.</span>"
      ]
     },
     "metadata": {},
     "output_type": "display_data"
    },
    {
     "data": {
      "text/html": [
       "<span style=\"font-family: monospace; color: #f55\">2024-05-02 14:05:51 WARN  main  [AdjointIntegrator] render(): forcing &apos;evaluate=true&apos; since multi-pass rendering was requested.</span>"
      ]
     },
     "metadata": {},
     "output_type": "display_data"
    },
    {
     "data": {
      "text/html": [
       "<span style=\"font-family: monospace; color: #f55\">2024-05-02 14:05:51 WARN  main  [AdjointIntegrator] render(): forcing &apos;evaluate=true&apos; since multi-pass rendering was requested.</span>"
      ]
     },
     "metadata": {},
     "output_type": "display_data"
    },
    {
     "data": {
      "text/html": [
       "<span style=\"font-family: monospace; color: #f55\">2024-05-02 14:05:51 WARN  main  [AdjointIntegrator] render(): forcing &apos;evaluate=true&apos; since multi-pass rendering was requested.</span>"
      ]
     },
     "metadata": {},
     "output_type": "display_data"
    },
    {
     "data": {
      "text/html": [
       "<span style=\"font-family: monospace; color: #f55\">2024-05-02 14:05:51 WARN  main  [AdjointIntegrator] render(): forcing &apos;evaluate=true&apos; since multi-pass rendering was requested.</span>"
      ]
     },
     "metadata": {},
     "output_type": "display_data"
    },
    {
     "data": {
      "text/html": [
       "<span style=\"font-family: monospace; color: #f55\">2024-05-02 14:05:51 WARN  main  [AdjointIntegrator] render(): forcing &apos;evaluate=true&apos; since multi-pass rendering was requested.</span>"
      ]
     },
     "metadata": {},
     "output_type": "display_data"
    },
    {
     "data": {
      "text/html": [
       "<span style=\"font-family: monospace; color: #f55\">2024-05-02 14:05:51 WARN  main  [AdjointIntegrator] render(): forcing &apos;evaluate=true&apos; since multi-pass rendering was requested.</span>"
      ]
     },
     "metadata": {},
     "output_type": "display_data"
    },
    {
     "data": {
      "text/html": [
       "<span style=\"font-family: monospace; color: #f55\">2024-05-02 14:05:51 WARN  main  [AdjointIntegrator] render(): forcing &apos;evaluate=true&apos; since multi-pass rendering was requested.</span>"
      ]
     },
     "metadata": {},
     "output_type": "display_data"
    },
    {
     "data": {
      "text/html": [
       "<span style=\"font-family: monospace; color: #f55\">2024-05-02 14:05:51 WARN  main  [AdjointIntegrator] render(): forcing &apos;evaluate=true&apos; since multi-pass rendering was requested.</span>"
      ]
     },
     "metadata": {},
     "output_type": "display_data"
    },
    {
     "data": {
      "text/html": [
       "<span style=\"font-family: monospace; color: #f55\">2024-05-02 14:05:52 WARN  main  [AdjointIntegrator] render(): forcing &apos;evaluate=true&apos; since multi-pass rendering was requested.</span>"
      ]
     },
     "metadata": {},
     "output_type": "display_data"
    },
    {
     "data": {
      "text/html": [
       "<span style=\"font-family: monospace; color: #f55\">2024-05-02 14:05:52 WARN  main  [AdjointIntegrator] render(): forcing &apos;evaluate=true&apos; since multi-pass rendering was requested.</span>"
      ]
     },
     "metadata": {},
     "output_type": "display_data"
    },
    {
     "data": {
      "text/html": [
       "<span style=\"font-family: monospace; color: #f55\">2024-05-02 14:05:52 WARN  main  [AdjointIntegrator] render(): forcing &apos;evaluate=true&apos; since multi-pass rendering was requested.</span>"
      ]
     },
     "metadata": {},
     "output_type": "display_data"
    },
    {
     "data": {
      "text/html": [
       "<span style=\"font-family: monospace; color: #f55\">2024-05-02 14:05:52 WARN  main  [AdjointIntegrator] render(): forcing &apos;evaluate=true&apos; since multi-pass rendering was requested.</span>"
      ]
     },
     "metadata": {},
     "output_type": "display_data"
    },
    {
     "data": {
      "text/html": [
       "<span style=\"font-family: monospace; color: #f55\">2024-05-02 14:05:52 WARN  main  [AdjointIntegrator] render(): forcing &apos;evaluate=true&apos; since multi-pass rendering was requested.</span>"
      ]
     },
     "metadata": {},
     "output_type": "display_data"
    },
    {
     "data": {
      "text/html": [
       "<span style=\"font-family: monospace; color: #f55\">2024-05-02 14:05:52 WARN  main  [AdjointIntegrator] render(): forcing &apos;evaluate=true&apos; since multi-pass rendering was requested.</span>"
      ]
     },
     "metadata": {},
     "output_type": "display_data"
    },
    {
     "data": {
      "text/html": [
       "<span style=\"font-family: monospace; color: #f55\">2024-05-02 14:05:52 WARN  main  [AdjointIntegrator] render(): forcing &apos;evaluate=true&apos; since multi-pass rendering was requested.</span>"
      ]
     },
     "metadata": {},
     "output_type": "display_data"
    },
    {
     "data": {
      "text/html": [
       "<span style=\"font-family: monospace; color: #f55\">2024-05-02 14:05:52 WARN  main  [AdjointIntegrator] render(): forcing &apos;evaluate=true&apos; since multi-pass rendering was requested.</span>"
      ]
     },
     "metadata": {},
     "output_type": "display_data"
    },
    {
     "data": {
      "text/html": [
       "<span style=\"font-family: monospace; color: #f55\">2024-05-02 14:05:52 WARN  main  [AdjointIntegrator] render(): forcing &apos;evaluate=true&apos; since multi-pass rendering was requested.</span>"
      ]
     },
     "metadata": {},
     "output_type": "display_data"
    },
    {
     "data": {
      "text/html": [
       "<span style=\"font-family: monospace; color: #f55\">2024-05-02 14:05:52 WARN  main  [AdjointIntegrator] render(): forcing &apos;evaluate=true&apos; since multi-pass rendering was requested.</span>"
      ]
     },
     "metadata": {},
     "output_type": "display_data"
    },
    {
     "data": {
      "text/html": [
       "<span style=\"font-family: monospace; color: #f55\">2024-05-02 14:05:52 WARN  main  [AdjointIntegrator] render(): forcing &apos;evaluate=true&apos; since multi-pass rendering was requested.</span>"
      ]
     },
     "metadata": {},
     "output_type": "display_data"
    },
    {
     "data": {
      "text/html": [
       "<span style=\"font-family: monospace; color: #f55\">2024-05-02 14:05:52 WARN  main  [AdjointIntegrator] render(): forcing &apos;evaluate=true&apos; since multi-pass rendering was requested.</span>"
      ]
     },
     "metadata": {},
     "output_type": "display_data"
    },
    {
     "data": {
      "text/html": [
       "<span style=\"font-family: monospace; color: #f55\">2024-05-02 14:05:52 WARN  main  [AdjointIntegrator] render(): forcing &apos;evaluate=true&apos; since multi-pass rendering was requested.</span>"
      ]
     },
     "metadata": {},
     "output_type": "display_data"
    },
    {
     "data": {
      "text/html": [
       "<span style=\"font-family: monospace; color: #f55\">2024-05-02 14:05:53 WARN  main  [AdjointIntegrator] render(): forcing &apos;evaluate=true&apos; since multi-pass rendering was requested.</span>"
      ]
     },
     "metadata": {},
     "output_type": "display_data"
    },
    {
     "data": {
      "text/html": [
       "<span style=\"font-family: monospace; color: #f55\">2024-05-02 14:05:53 WARN  main  [AdjointIntegrator] render(): forcing &apos;evaluate=true&apos; since multi-pass rendering was requested.</span>"
      ]
     },
     "metadata": {},
     "output_type": "display_data"
    },
    {
     "data": {
      "text/html": [
       "<span style=\"font-family: monospace; color: #f55\">2024-05-02 14:05:53 WARN  main  [AdjointIntegrator] render(): forcing &apos;evaluate=true&apos; since multi-pass rendering was requested.</span>"
      ]
     },
     "metadata": {},
     "output_type": "display_data"
    },
    {
     "data": {
      "text/html": [
       "<span style=\"font-family: monospace; color: #f55\">2024-05-02 14:05:53 WARN  main  [AdjointIntegrator] render(): forcing &apos;evaluate=true&apos; since multi-pass rendering was requested.</span>"
      ]
     },
     "metadata": {},
     "output_type": "display_data"
    },
    {
     "data": {
      "text/html": [
       "<span style=\"font-family: monospace; color: #f55\">2024-05-02 14:05:53 WARN  main  [AdjointIntegrator] render(): forcing &apos;evaluate=true&apos; since multi-pass rendering was requested.</span>"
      ]
     },
     "metadata": {},
     "output_type": "display_data"
    },
    {
     "data": {
      "text/html": [
       "<span style=\"font-family: monospace; color: #f55\">2024-05-02 14:05:53 WARN  main  [AdjointIntegrator] render(): forcing &apos;evaluate=true&apos; since multi-pass rendering was requested.</span>"
      ]
     },
     "metadata": {},
     "output_type": "display_data"
    },
    {
     "data": {
      "text/html": [
       "<span style=\"font-family: monospace; color: #f55\">2024-05-02 14:05:53 WARN  main  [AdjointIntegrator] render(): forcing &apos;evaluate=true&apos; since multi-pass rendering was requested.</span>"
      ]
     },
     "metadata": {},
     "output_type": "display_data"
    },
    {
     "data": {
      "text/html": [
       "<span style=\"font-family: monospace; color: #f55\">2024-05-02 14:05:53 WARN  main  [AdjointIntegrator] render(): forcing &apos;evaluate=true&apos; since multi-pass rendering was requested.</span>"
      ]
     },
     "metadata": {},
     "output_type": "display_data"
    },
    {
     "data": {
      "text/html": [
       "<span style=\"font-family: monospace; color: #f55\">2024-05-02 14:05:53 WARN  main  [AdjointIntegrator] render(): forcing &apos;evaluate=true&apos; since multi-pass rendering was requested.</span>"
      ]
     },
     "metadata": {},
     "output_type": "display_data"
    },
    {
     "data": {
      "text/html": [
       "<span style=\"font-family: monospace; color: #f55\">2024-05-02 14:05:53 WARN  main  [AdjointIntegrator] render(): forcing &apos;evaluate=true&apos; since multi-pass rendering was requested.</span>"
      ]
     },
     "metadata": {},
     "output_type": "display_data"
    },
    {
     "data": {
      "text/html": [
       "<span style=\"font-family: monospace; color: #f55\">2024-05-02 14:05:53 WARN  main  [AdjointIntegrator] render(): forcing &apos;evaluate=true&apos; since multi-pass rendering was requested.</span>"
      ]
     },
     "metadata": {},
     "output_type": "display_data"
    },
    {
     "data": {
      "text/html": [
       "<span style=\"font-family: monospace; color: #f55\">2024-05-02 14:05:53 WARN  main  [AdjointIntegrator] render(): forcing &apos;evaluate=true&apos; since multi-pass rendering was requested.</span>"
      ]
     },
     "metadata": {},
     "output_type": "display_data"
    },
    {
     "data": {
      "text/html": [
       "<span style=\"font-family: monospace; color: #f55\">2024-05-02 14:05:54 WARN  main  [AdjointIntegrator] render(): forcing &apos;evaluate=true&apos; since multi-pass rendering was requested.</span>"
      ]
     },
     "metadata": {},
     "output_type": "display_data"
    },
    {
     "data": {
      "text/html": [
       "<span style=\"font-family: monospace; color: #f55\">2024-05-02 14:05:54 WARN  main  [AdjointIntegrator] render(): forcing &apos;evaluate=true&apos; since multi-pass rendering was requested.</span>"
      ]
     },
     "metadata": {},
     "output_type": "display_data"
    },
    {
     "data": {
      "text/html": [
       "<span style=\"font-family: monospace; color: #f55\">2024-05-02 14:05:54 WARN  main  [AdjointIntegrator] render(): forcing &apos;evaluate=true&apos; since multi-pass rendering was requested.</span>"
      ]
     },
     "metadata": {},
     "output_type": "display_data"
    },
    {
     "data": {
      "text/html": [
       "<span style=\"font-family: monospace; color: #f55\">2024-05-02 14:05:54 WARN  main  [AdjointIntegrator] render(): forcing &apos;evaluate=true&apos; since multi-pass rendering was requested.</span>"
      ]
     },
     "metadata": {},
     "output_type": "display_data"
    },
    {
     "data": {
      "text/html": [
       "<span style=\"font-family: monospace; color: #f55\">2024-05-02 14:05:54 WARN  main  [AdjointIntegrator] render(): forcing &apos;evaluate=true&apos; since multi-pass rendering was requested.</span>"
      ]
     },
     "metadata": {},
     "output_type": "display_data"
    },
    {
     "data": {
      "text/html": [
       "<span style=\"font-family: monospace; color: #f55\">2024-05-02 14:05:54 WARN  main  [AdjointIntegrator] render(): forcing &apos;evaluate=true&apos; since multi-pass rendering was requested.</span>"
      ]
     },
     "metadata": {},
     "output_type": "display_data"
    },
    {
     "data": {
      "text/html": [
       "<span style=\"font-family: monospace; color: #f55\">2024-05-02 14:05:54 WARN  main  [AdjointIntegrator] render(): forcing &apos;evaluate=true&apos; since multi-pass rendering was requested.</span>"
      ]
     },
     "metadata": {},
     "output_type": "display_data"
    },
    {
     "data": {
      "text/html": [
       "<span style=\"font-family: monospace; color: #f55\">2024-05-02 14:05:54 WARN  main  [AdjointIntegrator] render(): forcing &apos;evaluate=true&apos; since multi-pass rendering was requested.</span>"
      ]
     },
     "metadata": {},
     "output_type": "display_data"
    },
    {
     "data": {
      "text/html": [
       "<span style=\"font-family: monospace; color: #f55\">2024-05-02 14:05:54 WARN  main  [AdjointIntegrator] render(): forcing &apos;evaluate=true&apos; since multi-pass rendering was requested.</span>"
      ]
     },
     "metadata": {},
     "output_type": "display_data"
    },
    {
     "data": {
      "text/html": [
       "<span style=\"font-family: monospace; color: #f55\">2024-05-02 14:05:54 WARN  main  [AdjointIntegrator] render(): forcing &apos;evaluate=true&apos; since multi-pass rendering was requested.</span>"
      ]
     },
     "metadata": {},
     "output_type": "display_data"
    },
    {
     "data": {
      "text/html": [
       "<span style=\"font-family: monospace; color: #f55\">2024-05-02 14:05:54 WARN  main  [AdjointIntegrator] render(): forcing &apos;evaluate=true&apos; since multi-pass rendering was requested.</span>"
      ]
     },
     "metadata": {},
     "output_type": "display_data"
    },
    {
     "data": {
      "text/html": [
       "<span style=\"font-family: monospace; color: #f55\">2024-05-02 14:05:54 WARN  main  [AdjointIntegrator] render(): forcing &apos;evaluate=true&apos; since multi-pass rendering was requested.</span>"
      ]
     },
     "metadata": {},
     "output_type": "display_data"
    },
    {
     "data": {
      "text/html": [
       "<span style=\"font-family: monospace; color: #f55\">2024-05-02 14:05:54 WARN  main  [AdjointIntegrator] render(): forcing &apos;evaluate=true&apos; since multi-pass rendering was requested.</span>"
      ]
     },
     "metadata": {},
     "output_type": "display_data"
    },
    {
     "data": {
      "text/html": [
       "<span style=\"font-family: monospace; color: #f55\">2024-05-02 14:05:55 WARN  main  [AdjointIntegrator] render(): forcing &apos;evaluate=true&apos; since multi-pass rendering was requested.</span>"
      ]
     },
     "metadata": {},
     "output_type": "display_data"
    },
    {
     "data": {
      "text/html": [
       "<span style=\"font-family: monospace; color: #f55\">2024-05-02 14:05:55 WARN  main  [AdjointIntegrator] render(): forcing &apos;evaluate=true&apos; since multi-pass rendering was requested.</span>"
      ]
     },
     "metadata": {},
     "output_type": "display_data"
    },
    {
     "data": {
      "text/html": [
       "<span style=\"font-family: monospace; color: #f55\">2024-05-02 14:05:55 WARN  main  [AdjointIntegrator] render(): forcing &apos;evaluate=true&apos; since multi-pass rendering was requested.</span>"
      ]
     },
     "metadata": {},
     "output_type": "display_data"
    },
    {
     "data": {
      "text/html": [
       "<span style=\"font-family: monospace; color: #f55\">2024-05-02 14:05:55 WARN  main  [AdjointIntegrator] render(): forcing &apos;evaluate=true&apos; since multi-pass rendering was requested.</span>"
      ]
     },
     "metadata": {},
     "output_type": "display_data"
    },
    {
     "data": {
      "text/html": [
       "<span style=\"font-family: monospace; color: #f55\">2024-05-02 14:05:55 WARN  main  [AdjointIntegrator] render(): forcing &apos;evaluate=true&apos; since multi-pass rendering was requested.</span>"
      ]
     },
     "metadata": {},
     "output_type": "display_data"
    },
    {
     "data": {
      "text/html": [
       "<span style=\"font-family: monospace; color: #f55\">2024-05-02 14:05:55 WARN  main  [AdjointIntegrator] render(): forcing &apos;evaluate=true&apos; since multi-pass rendering was requested.</span>"
      ]
     },
     "metadata": {},
     "output_type": "display_data"
    },
    {
     "data": {
      "text/html": [
       "<span style=\"font-family: monospace; color: #f55\">2024-05-02 14:05:55 WARN  main  [AdjointIntegrator] render(): forcing &apos;evaluate=true&apos; since multi-pass rendering was requested.</span>"
      ]
     },
     "metadata": {},
     "output_type": "display_data"
    },
    {
     "data": {
      "text/html": [
       "<span style=\"font-family: monospace; color: #f55\">2024-05-02 14:05:55 WARN  main  [AdjointIntegrator] render(): forcing &apos;evaluate=true&apos; since multi-pass rendering was requested.</span>"
      ]
     },
     "metadata": {},
     "output_type": "display_data"
    },
    {
     "data": {
      "text/html": [
       "<span style=\"font-family: monospace; color: #f55\">2024-05-02 14:05:55 WARN  main  [AdjointIntegrator] render(): forcing &apos;evaluate=true&apos; since multi-pass rendering was requested.</span>"
      ]
     },
     "metadata": {},
     "output_type": "display_data"
    },
    {
     "data": {
      "text/html": [
       "<span style=\"font-family: monospace; color: #f55\">2024-05-02 14:05:55 WARN  main  [AdjointIntegrator] render(): forcing &apos;evaluate=true&apos; since multi-pass rendering was requested.</span>"
      ]
     },
     "metadata": {},
     "output_type": "display_data"
    },
    {
     "data": {
      "text/html": [
       "<span style=\"font-family: monospace; color: #f55\">2024-05-02 14:05:55 WARN  main  [AdjointIntegrator] render(): forcing &apos;evaluate=true&apos; since multi-pass rendering was requested.</span>"
      ]
     },
     "metadata": {},
     "output_type": "display_data"
    },
    {
     "data": {
      "text/html": [
       "<span style=\"font-family: monospace; color: #f55\">2024-05-02 14:05:55 WARN  main  [AdjointIntegrator] render(): forcing &apos;evaluate=true&apos; since multi-pass rendering was requested.</span>"
      ]
     },
     "metadata": {},
     "output_type": "display_data"
    },
    {
     "data": {
      "text/html": [
       "<span style=\"font-family: monospace; color: #f55\">2024-05-02 14:05:55 WARN  main  [AdjointIntegrator] render(): forcing &apos;evaluate=true&apos; since multi-pass rendering was requested.</span>"
      ]
     },
     "metadata": {},
     "output_type": "display_data"
    },
    {
     "data": {
      "text/html": [
       "<span style=\"font-family: monospace; color: #f55\">2024-05-02 14:05:56 WARN  main  [AdjointIntegrator] render(): forcing &apos;evaluate=true&apos; since multi-pass rendering was requested.</span>"
      ]
     },
     "metadata": {},
     "output_type": "display_data"
    },
    {
     "data": {
      "text/html": [
       "<span style=\"font-family: monospace; color: #f55\">2024-05-02 14:05:56 WARN  main  [AdjointIntegrator] render(): forcing &apos;evaluate=true&apos; since multi-pass rendering was requested.</span>"
      ]
     },
     "metadata": {},
     "output_type": "display_data"
    },
    {
     "data": {
      "text/html": [
       "<span style=\"font-family: monospace; color: #f55\">2024-05-02 14:05:56 WARN  main  [AdjointIntegrator] render(): forcing &apos;evaluate=true&apos; since multi-pass rendering was requested.</span>"
      ]
     },
     "metadata": {},
     "output_type": "display_data"
    },
    {
     "data": {
      "text/html": [
       "<span style=\"font-family: monospace; color: #f55\">2024-05-02 14:05:56 WARN  main  [AdjointIntegrator] render(): forcing &apos;evaluate=true&apos; since multi-pass rendering was requested.</span>"
      ]
     },
     "metadata": {},
     "output_type": "display_data"
    },
    {
     "data": {
      "text/html": [
       "<span style=\"font-family: monospace; color: #f55\">2024-05-02 14:05:56 WARN  main  [AdjointIntegrator] render(): forcing &apos;evaluate=true&apos; since multi-pass rendering was requested.</span>"
      ]
     },
     "metadata": {},
     "output_type": "display_data"
    },
    {
     "data": {
      "text/html": [
       "<span style=\"font-family: monospace; color: #f55\">2024-05-02 14:05:56 WARN  main  [AdjointIntegrator] render(): forcing &apos;evaluate=true&apos; since multi-pass rendering was requested.</span>"
      ]
     },
     "metadata": {},
     "output_type": "display_data"
    },
    {
     "data": {
      "text/html": [
       "<span style=\"font-family: monospace; color: #f55\">2024-05-02 14:05:56 WARN  main  [AdjointIntegrator] render(): forcing &apos;evaluate=true&apos; since multi-pass rendering was requested.</span>"
      ]
     },
     "metadata": {},
     "output_type": "display_data"
    },
    {
     "data": {
      "text/html": [
       "<span style=\"font-family: monospace; color: #f55\">2024-05-02 14:05:56 WARN  main  [AdjointIntegrator] render(): forcing &apos;evaluate=true&apos; since multi-pass rendering was requested.</span>"
      ]
     },
     "metadata": {},
     "output_type": "display_data"
    },
    {
     "data": {
      "text/html": [
       "<span style=\"font-family: monospace; color: #f55\">2024-05-02 14:05:56 WARN  main  [AdjointIntegrator] render(): forcing &apos;evaluate=true&apos; since multi-pass rendering was requested.</span>"
      ]
     },
     "metadata": {},
     "output_type": "display_data"
    },
    {
     "data": {
      "text/html": [
       "<span style=\"font-family: monospace; color: #f55\">2024-05-02 14:05:56 WARN  main  [AdjointIntegrator] render(): forcing &apos;evaluate=true&apos; since multi-pass rendering was requested.</span>"
      ]
     },
     "metadata": {},
     "output_type": "display_data"
    },
    {
     "data": {
      "text/html": [
       "<span style=\"font-family: monospace; color: #f55\">2024-05-02 14:05:56 WARN  main  [AdjointIntegrator] render(): forcing &apos;evaluate=true&apos; since multi-pass rendering was requested.</span>"
      ]
     },
     "metadata": {},
     "output_type": "display_data"
    },
    {
     "data": {
      "text/html": [
       "<span style=\"font-family: monospace; color: #f55\">2024-05-02 14:05:56 WARN  main  [AdjointIntegrator] render(): forcing &apos;evaluate=true&apos; since multi-pass rendering was requested.</span>"
      ]
     },
     "metadata": {},
     "output_type": "display_data"
    },
    {
     "data": {
      "text/html": [
       "<span style=\"font-family: monospace; color: #f55\">2024-05-02 14:05:57 WARN  main  [AdjointIntegrator] render(): forcing &apos;evaluate=true&apos; since multi-pass rendering was requested.</span>"
      ]
     },
     "metadata": {},
     "output_type": "display_data"
    },
    {
     "data": {
      "text/html": [
       "<span style=\"font-family: monospace; color: #f55\">2024-05-02 14:05:57 WARN  main  [AdjointIntegrator] render(): forcing &apos;evaluate=true&apos; since multi-pass rendering was requested.</span>"
      ]
     },
     "metadata": {},
     "output_type": "display_data"
    },
    {
     "data": {
      "text/html": [
       "<span style=\"font-family: monospace; color: #f55\">2024-05-02 14:05:57 WARN  main  [AdjointIntegrator] render(): forcing &apos;evaluate=true&apos; since multi-pass rendering was requested.</span>"
      ]
     },
     "metadata": {},
     "output_type": "display_data"
    },
    {
     "data": {
      "text/html": [
       "<span style=\"font-family: monospace; color: #f55\">2024-05-02 14:05:57 WARN  main  [AdjointIntegrator] render(): forcing &apos;evaluate=true&apos; since multi-pass rendering was requested.</span>"
      ]
     },
     "metadata": {},
     "output_type": "display_data"
    },
    {
     "data": {
      "text/html": [
       "<span style=\"font-family: monospace; color: #f55\">2024-05-02 14:05:57 WARN  main  [AdjointIntegrator] render(): forcing &apos;evaluate=true&apos; since multi-pass rendering was requested.</span>"
      ]
     },
     "metadata": {},
     "output_type": "display_data"
    },
    {
     "data": {
      "text/html": [
       "<span style=\"font-family: monospace; color: #f55\">2024-05-02 14:05:57 WARN  main  [AdjointIntegrator] render(): forcing &apos;evaluate=true&apos; since multi-pass rendering was requested.</span>"
      ]
     },
     "metadata": {},
     "output_type": "display_data"
    },
    {
     "data": {
      "text/html": [
       "<span style=\"font-family: monospace; color: #f55\">2024-05-02 14:05:57 WARN  main  [AdjointIntegrator] render(): forcing &apos;evaluate=true&apos; since multi-pass rendering was requested.</span>"
      ]
     },
     "metadata": {},
     "output_type": "display_data"
    },
    {
     "data": {
      "text/html": [
       "<span style=\"font-family: monospace; color: #f55\">2024-05-02 14:05:57 WARN  main  [AdjointIntegrator] render(): forcing &apos;evaluate=true&apos; since multi-pass rendering was requested.</span>"
      ]
     },
     "metadata": {},
     "output_type": "display_data"
    },
    {
     "data": {
      "text/html": [
       "<span style=\"font-family: monospace; color: #f55\">2024-05-02 14:05:57 WARN  main  [AdjointIntegrator] render(): forcing &apos;evaluate=true&apos; since multi-pass rendering was requested.</span>"
      ]
     },
     "metadata": {},
     "output_type": "display_data"
    },
    {
     "data": {
      "text/html": [
       "<span style=\"font-family: monospace; color: #f55\">2024-05-02 14:05:57 WARN  main  [AdjointIntegrator] render(): forcing &apos;evaluate=true&apos; since multi-pass rendering was requested.</span>"
      ]
     },
     "metadata": {},
     "output_type": "display_data"
    },
    {
     "data": {
      "text/html": [
       "<span style=\"font-family: monospace; color: #f55\">2024-05-02 14:05:57 WARN  main  [AdjointIntegrator] render(): forcing &apos;evaluate=true&apos; since multi-pass rendering was requested.</span>"
      ]
     },
     "metadata": {},
     "output_type": "display_data"
    },
    {
     "data": {
      "text/html": [
       "<span style=\"font-family: monospace; color: #f55\">2024-05-02 14:05:57 WARN  main  [AdjointIntegrator] render(): forcing &apos;evaluate=true&apos; since multi-pass rendering was requested.</span>"
      ]
     },
     "metadata": {},
     "output_type": "display_data"
    },
    {
     "data": {
      "text/html": [
       "<span style=\"font-family: monospace; color: #f55\">2024-05-02 14:05:57 WARN  main  [AdjointIntegrator] render(): forcing &apos;evaluate=true&apos; since multi-pass rendering was requested.</span>"
      ]
     },
     "metadata": {},
     "output_type": "display_data"
    },
    {
     "data": {
      "text/html": [
       "<span style=\"font-family: monospace; color: #f55\">2024-05-02 14:05:58 WARN  main  [AdjointIntegrator] render(): forcing &apos;evaluate=true&apos; since multi-pass rendering was requested.</span>"
      ]
     },
     "metadata": {},
     "output_type": "display_data"
    },
    {
     "data": {
      "text/html": [
       "<span style=\"font-family: monospace; color: #f55\">2024-05-02 14:05:58 WARN  main  [AdjointIntegrator] render(): forcing &apos;evaluate=true&apos; since multi-pass rendering was requested.</span>"
      ]
     },
     "metadata": {},
     "output_type": "display_data"
    },
    {
     "data": {
      "text/html": [
       "<span style=\"font-family: monospace; color: #f55\">2024-05-02 14:05:58 WARN  main  [AdjointIntegrator] render(): forcing &apos;evaluate=true&apos; since multi-pass rendering was requested.</span>"
      ]
     },
     "metadata": {},
     "output_type": "display_data"
    },
    {
     "data": {
      "text/html": [
       "<span style=\"font-family: monospace; color: #f55\">2024-05-02 14:05:58 WARN  main  [AdjointIntegrator] render(): forcing &apos;evaluate=true&apos; since multi-pass rendering was requested.</span>"
      ]
     },
     "metadata": {},
     "output_type": "display_data"
    },
    {
     "data": {
      "text/html": [
       "<span style=\"font-family: monospace; color: #f55\">2024-05-02 14:05:58 WARN  main  [AdjointIntegrator] render(): forcing &apos;evaluate=true&apos; since multi-pass rendering was requested.</span>"
      ]
     },
     "metadata": {},
     "output_type": "display_data"
    },
    {
     "data": {
      "text/html": [
       "<span style=\"font-family: monospace; color: #f55\">2024-05-02 14:05:58 WARN  main  [AdjointIntegrator] render(): forcing &apos;evaluate=true&apos; since multi-pass rendering was requested.</span>"
      ]
     },
     "metadata": {},
     "output_type": "display_data"
    },
    {
     "data": {
      "text/html": [
       "<span style=\"font-family: monospace; color: #f55\">2024-05-02 14:05:58 WARN  main  [AdjointIntegrator] render(): forcing &apos;evaluate=true&apos; since multi-pass rendering was requested.</span>"
      ]
     },
     "metadata": {},
     "output_type": "display_data"
    },
    {
     "data": {
      "text/html": [
       "<span style=\"font-family: monospace; color: #f55\">2024-05-02 14:05:58 WARN  main  [AdjointIntegrator] render(): forcing &apos;evaluate=true&apos; since multi-pass rendering was requested.</span>"
      ]
     },
     "metadata": {},
     "output_type": "display_data"
    },
    {
     "data": {
      "text/html": [
       "<span style=\"font-family: monospace; color: #f55\">2024-05-02 14:05:58 WARN  main  [AdjointIntegrator] render(): forcing &apos;evaluate=true&apos; since multi-pass rendering was requested.</span>"
      ]
     },
     "metadata": {},
     "output_type": "display_data"
    },
    {
     "data": {
      "text/html": [
       "<span style=\"font-family: monospace; color: #f55\">2024-05-02 14:05:58 WARN  main  [AdjointIntegrator] render(): forcing &apos;evaluate=true&apos; since multi-pass rendering was requested.</span>"
      ]
     },
     "metadata": {},
     "output_type": "display_data"
    },
    {
     "data": {
      "text/html": [
       "<span style=\"font-family: monospace; color: #f55\">2024-05-02 14:05:58 WARN  main  [AdjointIntegrator] render(): forcing &apos;evaluate=true&apos; since multi-pass rendering was requested.</span>"
      ]
     },
     "metadata": {},
     "output_type": "display_data"
    },
    {
     "data": {
      "text/html": [
       "<span style=\"font-family: monospace; color: #f55\">2024-05-02 14:05:58 WARN  main  [AdjointIntegrator] render(): forcing &apos;evaluate=true&apos; since multi-pass rendering was requested.</span>"
      ]
     },
     "metadata": {},
     "output_type": "display_data"
    },
    {
     "data": {
      "text/html": [
       "<span style=\"font-family: monospace; color: #f55\">2024-05-02 14:05:58 WARN  main  [AdjointIntegrator] render(): forcing &apos;evaluate=true&apos; since multi-pass rendering was requested.</span>"
      ]
     },
     "metadata": {},
     "output_type": "display_data"
    },
    {
     "data": {
      "text/html": [
       "<span style=\"font-family: monospace; color: #f55\">2024-05-02 14:05:59 WARN  main  [AdjointIntegrator] render(): forcing &apos;evaluate=true&apos; since multi-pass rendering was requested.</span>"
      ]
     },
     "metadata": {},
     "output_type": "display_data"
    },
    {
     "data": {
      "text/html": [
       "<span style=\"font-family: monospace; color: #f55\">2024-05-02 14:05:59 WARN  main  [AdjointIntegrator] render(): forcing &apos;evaluate=true&apos; since multi-pass rendering was requested.</span>"
      ]
     },
     "metadata": {},
     "output_type": "display_data"
    },
    {
     "data": {
      "text/html": [
       "<span style=\"font-family: monospace; color: #f55\">2024-05-02 14:05:59 WARN  main  [AdjointIntegrator] render(): forcing &apos;evaluate=true&apos; since multi-pass rendering was requested.</span>"
      ]
     },
     "metadata": {},
     "output_type": "display_data"
    },
    {
     "data": {
      "text/html": [
       "<span style=\"font-family: monospace; color: #f55\">2024-05-02 14:05:59 WARN  main  [AdjointIntegrator] render(): forcing &apos;evaluate=true&apos; since multi-pass rendering was requested.</span>"
      ]
     },
     "metadata": {},
     "output_type": "display_data"
    },
    {
     "data": {
      "text/html": [
       "<span style=\"font-family: monospace; color: #f55\">2024-05-02 14:05:59 WARN  main  [AdjointIntegrator] render(): forcing &apos;evaluate=true&apos; since multi-pass rendering was requested.</span>"
      ]
     },
     "metadata": {},
     "output_type": "display_data"
    },
    {
     "data": {
      "text/html": [
       "<span style=\"font-family: monospace; color: #f55\">2024-05-02 14:05:59 WARN  main  [AdjointIntegrator] render(): forcing &apos;evaluate=true&apos; since multi-pass rendering was requested.</span>"
      ]
     },
     "metadata": {},
     "output_type": "display_data"
    },
    {
     "data": {
      "text/html": [
       "<span style=\"font-family: monospace; color: #f55\">2024-05-02 14:05:59 WARN  main  [AdjointIntegrator] render(): forcing &apos;evaluate=true&apos; since multi-pass rendering was requested.</span>"
      ]
     },
     "metadata": {},
     "output_type": "display_data"
    },
    {
     "data": {
      "text/html": [
       "<span style=\"font-family: monospace; color: #f55\">2024-05-02 14:05:59 WARN  main  [AdjointIntegrator] render(): forcing &apos;evaluate=true&apos; since multi-pass rendering was requested.</span>"
      ]
     },
     "metadata": {},
     "output_type": "display_data"
    },
    {
     "data": {
      "text/html": [
       "<span style=\"font-family: monospace; color: #f55\">2024-05-02 14:05:59 WARN  main  [AdjointIntegrator] render(): forcing &apos;evaluate=true&apos; since multi-pass rendering was requested.</span>"
      ]
     },
     "metadata": {},
     "output_type": "display_data"
    },
    {
     "data": {
      "text/html": [
       "<span style=\"font-family: monospace; color: #f55\">2024-05-02 14:05:59 WARN  main  [AdjointIntegrator] render(): forcing &apos;evaluate=true&apos; since multi-pass rendering was requested.</span>"
      ]
     },
     "metadata": {},
     "output_type": "display_data"
    },
    {
     "data": {
      "text/html": [
       "<span style=\"font-family: monospace; color: #f55\">2024-05-02 14:05:59 WARN  main  [AdjointIntegrator] render(): forcing &apos;evaluate=true&apos; since multi-pass rendering was requested.</span>"
      ]
     },
     "metadata": {},
     "output_type": "display_data"
    },
    {
     "data": {
      "text/html": [
       "<span style=\"font-family: monospace; color: #f55\">2024-05-02 14:05:59 WARN  main  [AdjointIntegrator] render(): forcing &apos;evaluate=true&apos; since multi-pass rendering was requested.</span>"
      ]
     },
     "metadata": {},
     "output_type": "display_data"
    },
    {
     "data": {
      "text/html": [
       "<span style=\"font-family: monospace; color: #f55\">2024-05-02 14:06:00 WARN  main  [AdjointIntegrator] render(): forcing &apos;evaluate=true&apos; since multi-pass rendering was requested.</span>"
      ]
     },
     "metadata": {},
     "output_type": "display_data"
    },
    {
     "data": {
      "text/html": [
       "<span style=\"font-family: monospace; color: #f55\">2024-05-02 14:06:00 WARN  main  [AdjointIntegrator] render(): forcing &apos;evaluate=true&apos; since multi-pass rendering was requested.</span>"
      ]
     },
     "metadata": {},
     "output_type": "display_data"
    },
    {
     "data": {
      "text/html": [
       "<span style=\"font-family: monospace; color: #f55\">2024-05-02 14:06:00 WARN  main  [AdjointIntegrator] render(): forcing &apos;evaluate=true&apos; since multi-pass rendering was requested.</span>"
      ]
     },
     "metadata": {},
     "output_type": "display_data"
    },
    {
     "data": {
      "text/html": [
       "<span style=\"font-family: monospace; color: #f55\">2024-05-02 14:06:00 WARN  main  [AdjointIntegrator] render(): forcing &apos;evaluate=true&apos; since multi-pass rendering was requested.</span>"
      ]
     },
     "metadata": {},
     "output_type": "display_data"
    },
    {
     "data": {
      "text/html": [
       "<span style=\"font-family: monospace; color: #f55\">2024-05-02 14:06:00 WARN  main  [AdjointIntegrator] render(): forcing &apos;evaluate=true&apos; since multi-pass rendering was requested.</span>"
      ]
     },
     "metadata": {},
     "output_type": "display_data"
    },
    {
     "data": {
      "text/html": [
       "<span style=\"font-family: monospace; color: #f55\">2024-05-02 14:06:00 WARN  main  [AdjointIntegrator] render(): forcing &apos;evaluate=true&apos; since multi-pass rendering was requested.</span>"
      ]
     },
     "metadata": {},
     "output_type": "display_data"
    },
    {
     "data": {
      "text/html": [
       "<span style=\"font-family: monospace; color: #f55\">2024-05-02 14:06:00 WARN  main  [AdjointIntegrator] render(): forcing &apos;evaluate=true&apos; since multi-pass rendering was requested.</span>"
      ]
     },
     "metadata": {},
     "output_type": "display_data"
    },
    {
     "data": {
      "text/html": [
       "<span style=\"font-family: monospace; color: #f55\">2024-05-02 14:06:00 WARN  main  [AdjointIntegrator] render(): forcing &apos;evaluate=true&apos; since multi-pass rendering was requested.</span>"
      ]
     },
     "metadata": {},
     "output_type": "display_data"
    },
    {
     "data": {
      "text/html": [
       "<span style=\"font-family: monospace; color: #f55\">2024-05-02 14:06:00 WARN  main  [AdjointIntegrator] render(): forcing &apos;evaluate=true&apos; since multi-pass rendering was requested.</span>"
      ]
     },
     "metadata": {},
     "output_type": "display_data"
    },
    {
     "data": {
      "text/html": [
       "<span style=\"font-family: monospace; color: #f55\">2024-05-02 14:06:00 WARN  main  [AdjointIntegrator] render(): forcing &apos;evaluate=true&apos; since multi-pass rendering was requested.</span>"
      ]
     },
     "metadata": {},
     "output_type": "display_data"
    },
    {
     "data": {
      "text/html": [
       "<span style=\"font-family: monospace; color: #f55\">2024-05-02 14:06:00 WARN  main  [AdjointIntegrator] render(): forcing &apos;evaluate=true&apos; since multi-pass rendering was requested.</span>"
      ]
     },
     "metadata": {},
     "output_type": "display_data"
    },
    {
     "data": {
      "text/html": [
       "<span style=\"font-family: monospace; color: #f55\">2024-05-02 14:06:00 WARN  main  [AdjointIntegrator] render(): forcing &apos;evaluate=true&apos; since multi-pass rendering was requested.</span>"
      ]
     },
     "metadata": {},
     "output_type": "display_data"
    },
    {
     "data": {
      "text/html": [
       "<span style=\"font-family: monospace; color: #f55\">2024-05-02 14:06:00 WARN  main  [AdjointIntegrator] render(): forcing &apos;evaluate=true&apos; since multi-pass rendering was requested.</span>"
      ]
     },
     "metadata": {},
     "output_type": "display_data"
    },
    {
     "data": {
      "text/html": [
       "<span style=\"font-family: monospace; color: #f55\">2024-05-02 14:06:01 WARN  main  [AdjointIntegrator] render(): forcing &apos;evaluate=true&apos; since multi-pass rendering was requested.</span>"
      ]
     },
     "metadata": {},
     "output_type": "display_data"
    },
    {
     "data": {
      "text/html": [
       "<span style=\"font-family: monospace; color: #f55\">2024-05-02 14:06:01 WARN  main  [AdjointIntegrator] render(): forcing &apos;evaluate=true&apos; since multi-pass rendering was requested.</span>"
      ]
     },
     "metadata": {},
     "output_type": "display_data"
    },
    {
     "data": {
      "text/html": [
       "<span style=\"font-family: monospace; color: #f55\">2024-05-02 14:06:01 WARN  main  [AdjointIntegrator] render(): forcing &apos;evaluate=true&apos; since multi-pass rendering was requested.</span>"
      ]
     },
     "metadata": {},
     "output_type": "display_data"
    },
    {
     "data": {
      "text/html": [
       "<span style=\"font-family: monospace; color: #f55\">2024-05-02 14:06:01 WARN  main  [AdjointIntegrator] render(): forcing &apos;evaluate=true&apos; since multi-pass rendering was requested.</span>"
      ]
     },
     "metadata": {},
     "output_type": "display_data"
    },
    {
     "data": {
      "text/html": [
       "<span style=\"font-family: monospace; color: #f55\">2024-05-02 14:06:01 WARN  main  [AdjointIntegrator] render(): forcing &apos;evaluate=true&apos; since multi-pass rendering was requested.</span>"
      ]
     },
     "metadata": {},
     "output_type": "display_data"
    },
    {
     "data": {
      "text/html": [
       "<span style=\"font-family: monospace; color: #f55\">2024-05-02 14:06:01 WARN  main  [AdjointIntegrator] render(): forcing &apos;evaluate=true&apos; since multi-pass rendering was requested.</span>"
      ]
     },
     "metadata": {},
     "output_type": "display_data"
    },
    {
     "data": {
      "text/html": [
       "<span style=\"font-family: monospace; color: #f55\">2024-05-02 14:06:01 WARN  main  [AdjointIntegrator] render(): forcing &apos;evaluate=true&apos; since multi-pass rendering was requested.</span>"
      ]
     },
     "metadata": {},
     "output_type": "display_data"
    },
    {
     "data": {
      "text/html": [
       "<span style=\"font-family: monospace; color: #f55\">2024-05-02 14:06:01 WARN  main  [AdjointIntegrator] render(): forcing &apos;evaluate=true&apos; since multi-pass rendering was requested.</span>"
      ]
     },
     "metadata": {},
     "output_type": "display_data"
    },
    {
     "data": {
      "text/html": [
       "<span style=\"font-family: monospace; color: #f55\">2024-05-02 14:06:01 WARN  main  [AdjointIntegrator] render(): forcing &apos;evaluate=true&apos; since multi-pass rendering was requested.</span>"
      ]
     },
     "metadata": {},
     "output_type": "display_data"
    },
    {
     "data": {
      "text/html": [
       "<span style=\"font-family: monospace; color: #f55\">2024-05-02 14:06:01 WARN  main  [AdjointIntegrator] render(): forcing &apos;evaluate=true&apos; since multi-pass rendering was requested.</span>"
      ]
     },
     "metadata": {},
     "output_type": "display_data"
    },
    {
     "data": {
      "text/html": [
       "<span style=\"font-family: monospace; color: #f55\">2024-05-02 14:06:01 WARN  main  [AdjointIntegrator] render(): forcing &apos;evaluate=true&apos; since multi-pass rendering was requested.</span>"
      ]
     },
     "metadata": {},
     "output_type": "display_data"
    },
    {
     "data": {
      "text/html": [
       "<span style=\"font-family: monospace; color: #f55\">2024-05-02 14:06:01 WARN  main  [AdjointIntegrator] render(): forcing &apos;evaluate=true&apos; since multi-pass rendering was requested.</span>"
      ]
     },
     "metadata": {},
     "output_type": "display_data"
    },
    {
     "data": {
      "text/html": [
       "<span style=\"font-family: monospace; color: #f55\">2024-05-02 14:06:01 WARN  main  [AdjointIntegrator] render(): forcing &apos;evaluate=true&apos; since multi-pass rendering was requested.</span>"
      ]
     },
     "metadata": {},
     "output_type": "display_data"
    },
    {
     "data": {
      "text/html": [
       "<span style=\"font-family: monospace; color: #f55\">2024-05-02 14:06:02 WARN  main  [AdjointIntegrator] render(): forcing &apos;evaluate=true&apos; since multi-pass rendering was requested.</span>"
      ]
     },
     "metadata": {},
     "output_type": "display_data"
    },
    {
     "data": {
      "text/html": [
       "<span style=\"font-family: monospace; color: #f55\">2024-05-02 14:06:02 WARN  main  [AdjointIntegrator] render(): forcing &apos;evaluate=true&apos; since multi-pass rendering was requested.</span>"
      ]
     },
     "metadata": {},
     "output_type": "display_data"
    },
    {
     "data": {
      "text/html": [
       "<span style=\"font-family: monospace; color: #f55\">2024-05-02 14:06:02 WARN  main  [AdjointIntegrator] render(): forcing &apos;evaluate=true&apos; since multi-pass rendering was requested.</span>"
      ]
     },
     "metadata": {},
     "output_type": "display_data"
    },
    {
     "data": {
      "text/html": [
       "<span style=\"font-family: monospace; color: #f55\">2024-05-02 14:06:02 WARN  main  [AdjointIntegrator] render(): forcing &apos;evaluate=true&apos; since multi-pass rendering was requested.</span>"
      ]
     },
     "metadata": {},
     "output_type": "display_data"
    },
    {
     "data": {
      "text/html": [
       "<span style=\"font-family: monospace; color: #f55\">2024-05-02 14:06:02 WARN  main  [AdjointIntegrator] render(): forcing &apos;evaluate=true&apos; since multi-pass rendering was requested.</span>"
      ]
     },
     "metadata": {},
     "output_type": "display_data"
    },
    {
     "data": {
      "text/html": [
       "<span style=\"font-family: monospace; color: #f55\">2024-05-02 14:06:02 WARN  main  [AdjointIntegrator] render(): forcing &apos;evaluate=true&apos; since multi-pass rendering was requested.</span>"
      ]
     },
     "metadata": {},
     "output_type": "display_data"
    },
    {
     "data": {
      "text/html": [
       "<span style=\"font-family: monospace; color: #f55\">2024-05-02 14:06:02 WARN  main  [AdjointIntegrator] render(): forcing &apos;evaluate=true&apos; since multi-pass rendering was requested.</span>"
      ]
     },
     "metadata": {},
     "output_type": "display_data"
    },
    {
     "data": {
      "text/html": [
       "<span style=\"font-family: monospace; color: #f55\">2024-05-02 14:06:02 WARN  main  [AdjointIntegrator] render(): forcing &apos;evaluate=true&apos; since multi-pass rendering was requested.</span>"
      ]
     },
     "metadata": {},
     "output_type": "display_data"
    },
    {
     "data": {
      "text/html": [
       "<span style=\"font-family: monospace; color: #f55\">2024-05-02 14:06:02 WARN  main  [AdjointIntegrator] render(): forcing &apos;evaluate=true&apos; since multi-pass rendering was requested.</span>"
      ]
     },
     "metadata": {},
     "output_type": "display_data"
    },
    {
     "data": {
      "text/html": [
       "<span style=\"font-family: monospace; color: #f55\">2024-05-02 14:06:02 WARN  main  [AdjointIntegrator] render(): forcing &apos;evaluate=true&apos; since multi-pass rendering was requested.</span>"
      ]
     },
     "metadata": {},
     "output_type": "display_data"
    },
    {
     "data": {
      "text/html": [
       "<span style=\"font-family: monospace; color: #f55\">2024-05-02 14:06:02 WARN  main  [AdjointIntegrator] render(): forcing &apos;evaluate=true&apos; since multi-pass rendering was requested.</span>"
      ]
     },
     "metadata": {},
     "output_type": "display_data"
    },
    {
     "data": {
      "text/html": [
       "<span style=\"font-family: monospace; color: #f55\">2024-05-02 14:06:02 WARN  main  [AdjointIntegrator] render(): forcing &apos;evaluate=true&apos; since multi-pass rendering was requested.</span>"
      ]
     },
     "metadata": {},
     "output_type": "display_data"
    },
    {
     "data": {
      "text/html": [
       "<span style=\"font-family: monospace; color: #f55\">2024-05-02 14:06:02 WARN  main  [AdjointIntegrator] render(): forcing &apos;evaluate=true&apos; since multi-pass rendering was requested.</span>"
      ]
     },
     "metadata": {},
     "output_type": "display_data"
    },
    {
     "data": {
      "text/html": [
       "<span style=\"font-family: monospace; color: #f55\">2024-05-02 14:06:03 WARN  main  [AdjointIntegrator] render(): forcing &apos;evaluate=true&apos; since multi-pass rendering was requested.</span>"
      ]
     },
     "metadata": {},
     "output_type": "display_data"
    },
    {
     "data": {
      "text/html": [
       "<span style=\"font-family: monospace; color: #f55\">2024-05-02 14:06:03 WARN  main  [AdjointIntegrator] render(): forcing &apos;evaluate=true&apos; since multi-pass rendering was requested.</span>"
      ]
     },
     "metadata": {},
     "output_type": "display_data"
    },
    {
     "data": {
      "text/html": [
       "<span style=\"font-family: monospace; color: #f55\">2024-05-02 14:06:03 WARN  main  [AdjointIntegrator] render(): forcing &apos;evaluate=true&apos; since multi-pass rendering was requested.</span>"
      ]
     },
     "metadata": {},
     "output_type": "display_data"
    },
    {
     "data": {
      "text/html": [
       "<span style=\"font-family: monospace; color: #f55\">2024-05-02 14:06:03 WARN  main  [AdjointIntegrator] render(): forcing &apos;evaluate=true&apos; since multi-pass rendering was requested.</span>"
      ]
     },
     "metadata": {},
     "output_type": "display_data"
    },
    {
     "data": {
      "text/html": [
       "<span style=\"font-family: monospace; color: #f55\">2024-05-02 14:06:03 WARN  main  [AdjointIntegrator] render(): forcing &apos;evaluate=true&apos; since multi-pass rendering was requested.</span>"
      ]
     },
     "metadata": {},
     "output_type": "display_data"
    },
    {
     "data": {
      "text/html": [
       "<span style=\"font-family: monospace; color: #f55\">2024-05-02 14:06:03 WARN  main  [AdjointIntegrator] render(): forcing &apos;evaluate=true&apos; since multi-pass rendering was requested.</span>"
      ]
     },
     "metadata": {},
     "output_type": "display_data"
    },
    {
     "data": {
      "text/html": [
       "<span style=\"font-family: monospace; color: #f55\">2024-05-02 14:06:03 WARN  main  [AdjointIntegrator] render(): forcing &apos;evaluate=true&apos; since multi-pass rendering was requested.</span>"
      ]
     },
     "metadata": {},
     "output_type": "display_data"
    },
    {
     "data": {
      "text/html": [
       "<span style=\"font-family: monospace; color: #f55\">2024-05-02 14:06:03 WARN  main  [AdjointIntegrator] render(): forcing &apos;evaluate=true&apos; since multi-pass rendering was requested.</span>"
      ]
     },
     "metadata": {},
     "output_type": "display_data"
    },
    {
     "data": {
      "text/html": [
       "<span style=\"font-family: monospace; color: #f55\">2024-05-02 14:06:03 WARN  main  [AdjointIntegrator] render(): forcing &apos;evaluate=true&apos; since multi-pass rendering was requested.</span>"
      ]
     },
     "metadata": {},
     "output_type": "display_data"
    },
    {
     "data": {
      "text/html": [
       "<span style=\"font-family: monospace; color: #f55\">2024-05-02 14:06:03 WARN  main  [AdjointIntegrator] render(): forcing &apos;evaluate=true&apos; since multi-pass rendering was requested.</span>"
      ]
     },
     "metadata": {},
     "output_type": "display_data"
    },
    {
     "data": {
      "text/html": [
       "<span style=\"font-family: monospace; color: #f55\">2024-05-02 14:06:03 WARN  main  [AdjointIntegrator] render(): forcing &apos;evaluate=true&apos; since multi-pass rendering was requested.</span>"
      ]
     },
     "metadata": {},
     "output_type": "display_data"
    },
    {
     "data": {
      "text/html": [
       "<span style=\"font-family: monospace; color: #f55\">2024-05-02 14:06:03 WARN  main  [AdjointIntegrator] render(): forcing &apos;evaluate=true&apos; since multi-pass rendering was requested.</span>"
      ]
     },
     "metadata": {},
     "output_type": "display_data"
    },
    {
     "data": {
      "text/html": [
       "<span style=\"font-family: monospace; color: #f55\">2024-05-02 14:06:04 WARN  main  [AdjointIntegrator] render(): forcing &apos;evaluate=true&apos; since multi-pass rendering was requested.</span>"
      ]
     },
     "metadata": {},
     "output_type": "display_data"
    },
    {
     "data": {
      "text/html": [
       "<span style=\"font-family: monospace; color: #f55\">2024-05-02 14:06:04 WARN  main  [AdjointIntegrator] render(): forcing &apos;evaluate=true&apos; since multi-pass rendering was requested.</span>"
      ]
     },
     "metadata": {},
     "output_type": "display_data"
    },
    {
     "data": {
      "text/html": [
       "<span style=\"font-family: monospace; color: #f55\">2024-05-02 14:06:04 WARN  main  [AdjointIntegrator] render(): forcing &apos;evaluate=true&apos; since multi-pass rendering was requested.</span>"
      ]
     },
     "metadata": {},
     "output_type": "display_data"
    },
    {
     "data": {
      "text/html": [
       "<span style=\"font-family: monospace; color: #f55\">2024-05-02 14:06:04 WARN  main  [AdjointIntegrator] render(): forcing &apos;evaluate=true&apos; since multi-pass rendering was requested.</span>"
      ]
     },
     "metadata": {},
     "output_type": "display_data"
    },
    {
     "data": {
      "text/html": [
       "<span style=\"font-family: monospace; color: #f55\">2024-05-02 14:06:04 WARN  main  [AdjointIntegrator] render(): forcing &apos;evaluate=true&apos; since multi-pass rendering was requested.</span>"
      ]
     },
     "metadata": {},
     "output_type": "display_data"
    },
    {
     "data": {
      "text/html": [
       "<span style=\"font-family: monospace; color: #f55\">2024-05-02 14:06:04 WARN  main  [AdjointIntegrator] render(): forcing &apos;evaluate=true&apos; since multi-pass rendering was requested.</span>"
      ]
     },
     "metadata": {},
     "output_type": "display_data"
    },
    {
     "data": {
      "text/html": [
       "<span style=\"font-family: monospace; color: #f55\">2024-05-02 14:06:04 WARN  main  [AdjointIntegrator] render(): forcing &apos;evaluate=true&apos; since multi-pass rendering was requested.</span>"
      ]
     },
     "metadata": {},
     "output_type": "display_data"
    },
    {
     "data": {
      "text/html": [
       "<span style=\"font-family: monospace; color: #f55\">2024-05-02 14:06:04 WARN  main  [AdjointIntegrator] render(): forcing &apos;evaluate=true&apos; since multi-pass rendering was requested.</span>"
      ]
     },
     "metadata": {},
     "output_type": "display_data"
    },
    {
     "data": {
      "text/html": [
       "<span style=\"font-family: monospace; color: #f55\">2024-05-02 14:06:04 WARN  main  [AdjointIntegrator] render(): forcing &apos;evaluate=true&apos; since multi-pass rendering was requested.</span>"
      ]
     },
     "metadata": {},
     "output_type": "display_data"
    },
    {
     "data": {
      "text/html": [
       "<span style=\"font-family: monospace; color: #f55\">2024-05-02 14:06:04 WARN  main  [AdjointIntegrator] render(): forcing &apos;evaluate=true&apos; since multi-pass rendering was requested.</span>"
      ]
     },
     "metadata": {},
     "output_type": "display_data"
    },
    {
     "data": {
      "text/html": [
       "<span style=\"font-family: monospace; color: #f55\">2024-05-02 14:06:04 WARN  main  [AdjointIntegrator] render(): forcing &apos;evaluate=true&apos; since multi-pass rendering was requested.</span>"
      ]
     },
     "metadata": {},
     "output_type": "display_data"
    },
    {
     "data": {
      "text/html": [
       "<span style=\"font-family: monospace; color: #f55\">2024-05-02 14:06:04 WARN  main  [AdjointIntegrator] render(): forcing &apos;evaluate=true&apos; since multi-pass rendering was requested.</span>"
      ]
     },
     "metadata": {},
     "output_type": "display_data"
    },
    {
     "data": {
      "text/html": [
       "<span style=\"font-family: monospace; color: #f55\">2024-05-02 14:06:04 WARN  main  [AdjointIntegrator] render(): forcing &apos;evaluate=true&apos; since multi-pass rendering was requested.</span>"
      ]
     },
     "metadata": {},
     "output_type": "display_data"
    },
    {
     "data": {
      "text/html": [
       "<span style=\"font-family: monospace; color: #f55\">2024-05-02 14:06:05 WARN  main  [AdjointIntegrator] render(): forcing &apos;evaluate=true&apos; since multi-pass rendering was requested.</span>"
      ]
     },
     "metadata": {},
     "output_type": "display_data"
    },
    {
     "data": {
      "text/html": [
       "<span style=\"font-family: monospace; color: #f55\">2024-05-02 14:06:05 WARN  main  [AdjointIntegrator] render(): forcing &apos;evaluate=true&apos; since multi-pass rendering was requested.</span>"
      ]
     },
     "metadata": {},
     "output_type": "display_data"
    },
    {
     "data": {
      "text/html": [
       "<span style=\"font-family: monospace; color: #f55\">2024-05-02 14:06:05 WARN  main  [AdjointIntegrator] render(): forcing &apos;evaluate=true&apos; since multi-pass rendering was requested.</span>"
      ]
     },
     "metadata": {},
     "output_type": "display_data"
    },
    {
     "data": {
      "text/html": [
       "<span style=\"font-family: monospace; color: #f55\">2024-05-02 14:06:05 WARN  main  [AdjointIntegrator] render(): forcing &apos;evaluate=true&apos; since multi-pass rendering was requested.</span>"
      ]
     },
     "metadata": {},
     "output_type": "display_data"
    },
    {
     "data": {
      "text/html": [
       "<span style=\"font-family: monospace; color: #f55\">2024-05-02 14:06:05 WARN  main  [AdjointIntegrator] render(): forcing &apos;evaluate=true&apos; since multi-pass rendering was requested.</span>"
      ]
     },
     "metadata": {},
     "output_type": "display_data"
    },
    {
     "data": {
      "text/html": [
       "<span style=\"font-family: monospace; color: #f55\">2024-05-02 14:06:05 WARN  main  [AdjointIntegrator] render(): forcing &apos;evaluate=true&apos; since multi-pass rendering was requested.</span>"
      ]
     },
     "metadata": {},
     "output_type": "display_data"
    },
    {
     "data": {
      "text/html": [
       "<span style=\"font-family: monospace; color: #f55\">2024-05-02 14:06:05 WARN  main  [AdjointIntegrator] render(): forcing &apos;evaluate=true&apos; since multi-pass rendering was requested.</span>"
      ]
     },
     "metadata": {},
     "output_type": "display_data"
    },
    {
     "data": {
      "text/html": [
       "<span style=\"font-family: monospace; color: #f55\">2024-05-02 14:06:05 WARN  main  [AdjointIntegrator] render(): forcing &apos;evaluate=true&apos; since multi-pass rendering was requested.</span>"
      ]
     },
     "metadata": {},
     "output_type": "display_data"
    },
    {
     "data": {
      "text/html": [
       "<span style=\"font-family: monospace; color: #f55\">2024-05-02 14:06:05 WARN  main  [AdjointIntegrator] render(): forcing &apos;evaluate=true&apos; since multi-pass rendering was requested.</span>"
      ]
     },
     "metadata": {},
     "output_type": "display_data"
    },
    {
     "data": {
      "text/html": [
       "<span style=\"font-family: monospace; color: #f55\">2024-05-02 14:06:05 WARN  main  [AdjointIntegrator] render(): forcing &apos;evaluate=true&apos; since multi-pass rendering was requested.</span>"
      ]
     },
     "metadata": {},
     "output_type": "display_data"
    },
    {
     "data": {
      "text/html": [
       "<span style=\"font-family: monospace; color: #f55\">2024-05-02 14:06:05 WARN  main  [AdjointIntegrator] render(): forcing &apos;evaluate=true&apos; since multi-pass rendering was requested.</span>"
      ]
     },
     "metadata": {},
     "output_type": "display_data"
    },
    {
     "data": {
      "text/html": [
       "<span style=\"font-family: monospace; color: #f55\">2024-05-02 14:06:05 WARN  main  [AdjointIntegrator] render(): forcing &apos;evaluate=true&apos; since multi-pass rendering was requested.</span>"
      ]
     },
     "metadata": {},
     "output_type": "display_data"
    },
    {
     "data": {
      "text/html": [
       "<span style=\"font-family: monospace; color: #f55\">2024-05-02 14:06:05 WARN  main  [AdjointIntegrator] render(): forcing &apos;evaluate=true&apos; since multi-pass rendering was requested.</span>"
      ]
     },
     "metadata": {},
     "output_type": "display_data"
    },
    {
     "data": {
      "text/html": [
       "<span style=\"font-family: monospace; color: #f55\">2024-05-02 14:06:06 WARN  main  [AdjointIntegrator] render(): forcing &apos;evaluate=true&apos; since multi-pass rendering was requested.</span>"
      ]
     },
     "metadata": {},
     "output_type": "display_data"
    },
    {
     "data": {
      "text/html": [
       "<span style=\"font-family: monospace; color: #f55\">2024-05-02 14:06:06 WARN  main  [AdjointIntegrator] render(): forcing &apos;evaluate=true&apos; since multi-pass rendering was requested.</span>"
      ]
     },
     "metadata": {},
     "output_type": "display_data"
    },
    {
     "data": {
      "text/html": [
       "<span style=\"font-family: monospace; color: #f55\">2024-05-02 14:06:06 WARN  main  [AdjointIntegrator] render(): forcing &apos;evaluate=true&apos; since multi-pass rendering was requested.</span>"
      ]
     },
     "metadata": {},
     "output_type": "display_data"
    },
    {
     "data": {
      "text/html": [
       "<span style=\"font-family: monospace; color: #f55\">2024-05-02 14:06:06 WARN  main  [AdjointIntegrator] render(): forcing &apos;evaluate=true&apos; since multi-pass rendering was requested.</span>"
      ]
     },
     "metadata": {},
     "output_type": "display_data"
    },
    {
     "data": {
      "text/html": [
       "<span style=\"font-family: monospace; color: #f55\">2024-05-02 14:06:06 WARN  main  [AdjointIntegrator] render(): forcing &apos;evaluate=true&apos; since multi-pass rendering was requested.</span>"
      ]
     },
     "metadata": {},
     "output_type": "display_data"
    },
    {
     "data": {
      "text/html": [
       "<span style=\"font-family: monospace; color: #f55\">2024-05-02 14:06:06 WARN  main  [AdjointIntegrator] render(): forcing &apos;evaluate=true&apos; since multi-pass rendering was requested.</span>"
      ]
     },
     "metadata": {},
     "output_type": "display_data"
    },
    {
     "data": {
      "text/html": [
       "<span style=\"font-family: monospace; color: #f55\">2024-05-02 14:06:06 WARN  main  [AdjointIntegrator] render(): forcing &apos;evaluate=true&apos; since multi-pass rendering was requested.</span>"
      ]
     },
     "metadata": {},
     "output_type": "display_data"
    },
    {
     "data": {
      "text/html": [
       "<span style=\"font-family: monospace; color: #f55\">2024-05-02 14:06:06 WARN  main  [AdjointIntegrator] render(): forcing &apos;evaluate=true&apos; since multi-pass rendering was requested.</span>"
      ]
     },
     "metadata": {},
     "output_type": "display_data"
    },
    {
     "data": {
      "text/html": [
       "<span style=\"font-family: monospace; color: #f55\">2024-05-02 14:06:06 WARN  main  [AdjointIntegrator] render(): forcing &apos;evaluate=true&apos; since multi-pass rendering was requested.</span>"
      ]
     },
     "metadata": {},
     "output_type": "display_data"
    },
    {
     "data": {
      "text/html": [
       "<span style=\"font-family: monospace; color: #f55\">2024-05-02 14:06:06 WARN  main  [AdjointIntegrator] render(): forcing &apos;evaluate=true&apos; since multi-pass rendering was requested.</span>"
      ]
     },
     "metadata": {},
     "output_type": "display_data"
    },
    {
     "data": {
      "text/html": [
       "<span style=\"font-family: monospace; color: #f55\">2024-05-02 14:06:06 WARN  main  [AdjointIntegrator] render(): forcing &apos;evaluate=true&apos; since multi-pass rendering was requested.</span>"
      ]
     },
     "metadata": {},
     "output_type": "display_data"
    },
    {
     "data": {
      "text/html": [
       "<span style=\"font-family: monospace; color: #f55\">2024-05-02 14:06:06 WARN  main  [AdjointIntegrator] render(): forcing &apos;evaluate=true&apos; since multi-pass rendering was requested.</span>"
      ]
     },
     "metadata": {},
     "output_type": "display_data"
    },
    {
     "data": {
      "text/html": [
       "<span style=\"font-family: monospace; color: #f55\">2024-05-02 14:06:07 WARN  main  [AdjointIntegrator] render(): forcing &apos;evaluate=true&apos; since multi-pass rendering was requested.</span>"
      ]
     },
     "metadata": {},
     "output_type": "display_data"
    },
    {
     "data": {
      "text/html": [
       "<span style=\"font-family: monospace; color: #f55\">2024-05-02 14:06:07 WARN  main  [AdjointIntegrator] render(): forcing &apos;evaluate=true&apos; since multi-pass rendering was requested.</span>"
      ]
     },
     "metadata": {},
     "output_type": "display_data"
    },
    {
     "data": {
      "text/html": [
       "<span style=\"font-family: monospace; color: #f55\">2024-05-02 14:06:07 WARN  main  [AdjointIntegrator] render(): forcing &apos;evaluate=true&apos; since multi-pass rendering was requested.</span>"
      ]
     },
     "metadata": {},
     "output_type": "display_data"
    },
    {
     "data": {
      "text/html": [
       "<span style=\"font-family: monospace; color: #f55\">2024-05-02 14:06:07 WARN  main  [AdjointIntegrator] render(): forcing &apos;evaluate=true&apos; since multi-pass rendering was requested.</span>"
      ]
     },
     "metadata": {},
     "output_type": "display_data"
    },
    {
     "data": {
      "text/html": [
       "<span style=\"font-family: monospace; color: #f55\">2024-05-02 14:06:07 WARN  main  [AdjointIntegrator] render(): forcing &apos;evaluate=true&apos; since multi-pass rendering was requested.</span>"
      ]
     },
     "metadata": {},
     "output_type": "display_data"
    },
    {
     "data": {
      "text/html": [
       "<span style=\"font-family: monospace; color: #f55\">2024-05-02 14:06:07 WARN  main  [AdjointIntegrator] render(): forcing &apos;evaluate=true&apos; since multi-pass rendering was requested.</span>"
      ]
     },
     "metadata": {},
     "output_type": "display_data"
    },
    {
     "data": {
      "text/html": [
       "<span style=\"font-family: monospace; color: #f55\">2024-05-02 14:06:07 WARN  main  [AdjointIntegrator] render(): forcing &apos;evaluate=true&apos; since multi-pass rendering was requested.</span>"
      ]
     },
     "metadata": {},
     "output_type": "display_data"
    },
    {
     "data": {
      "text/html": [
       "<span style=\"font-family: monospace; color: #f55\">2024-05-02 14:06:07 WARN  main  [AdjointIntegrator] render(): forcing &apos;evaluate=true&apos; since multi-pass rendering was requested.</span>"
      ]
     },
     "metadata": {},
     "output_type": "display_data"
    },
    {
     "data": {
      "text/html": [
       "<span style=\"font-family: monospace; color: #f55\">2024-05-02 14:06:07 WARN  main  [AdjointIntegrator] render(): forcing &apos;evaluate=true&apos; since multi-pass rendering was requested.</span>"
      ]
     },
     "metadata": {},
     "output_type": "display_data"
    },
    {
     "data": {
      "text/html": [
       "<span style=\"font-family: monospace; color: #f55\">2024-05-02 14:06:07 WARN  main  [AdjointIntegrator] render(): forcing &apos;evaluate=true&apos; since multi-pass rendering was requested.</span>"
      ]
     },
     "metadata": {},
     "output_type": "display_data"
    },
    {
     "data": {
      "text/html": [
       "<span style=\"font-family: monospace; color: #f55\">2024-05-02 14:06:07 WARN  main  [AdjointIntegrator] render(): forcing &apos;evaluate=true&apos; since multi-pass rendering was requested.</span>"
      ]
     },
     "metadata": {},
     "output_type": "display_data"
    },
    {
     "data": {
      "text/html": [
       "<span style=\"font-family: monospace; color: #f55\">2024-05-02 14:06:07 WARN  main  [AdjointIntegrator] render(): forcing &apos;evaluate=true&apos; since multi-pass rendering was requested.</span>"
      ]
     },
     "metadata": {},
     "output_type": "display_data"
    },
    {
     "data": {
      "text/html": [
       "<span style=\"font-family: monospace; color: #f55\">2024-05-02 14:06:07 WARN  main  [AdjointIntegrator] render(): forcing &apos;evaluate=true&apos; since multi-pass rendering was requested.</span>"
      ]
     },
     "metadata": {},
     "output_type": "display_data"
    },
    {
     "data": {
      "text/html": [
       "<span style=\"font-family: monospace; color: #f55\">2024-05-02 14:06:08 WARN  main  [AdjointIntegrator] render(): forcing &apos;evaluate=true&apos; since multi-pass rendering was requested.</span>"
      ]
     },
     "metadata": {},
     "output_type": "display_data"
    },
    {
     "data": {
      "text/html": [
       "<span style=\"font-family: monospace; color: #f55\">2024-05-02 14:06:08 WARN  main  [AdjointIntegrator] render(): forcing &apos;evaluate=true&apos; since multi-pass rendering was requested.</span>"
      ]
     },
     "metadata": {},
     "output_type": "display_data"
    },
    {
     "data": {
      "text/html": [
       "<span style=\"font-family: monospace; color: #f55\">2024-05-02 14:06:08 WARN  main  [AdjointIntegrator] render(): forcing &apos;evaluate=true&apos; since multi-pass rendering was requested.</span>"
      ]
     },
     "metadata": {},
     "output_type": "display_data"
    },
    {
     "data": {
      "text/html": [
       "<span style=\"font-family: monospace; color: #f55\">2024-05-02 14:06:08 WARN  main  [AdjointIntegrator] render(): forcing &apos;evaluate=true&apos; since multi-pass rendering was requested.</span>"
      ]
     },
     "metadata": {},
     "output_type": "display_data"
    },
    {
     "data": {
      "text/html": [
       "<span style=\"font-family: monospace; color: #f55\">2024-05-02 14:06:08 WARN  main  [AdjointIntegrator] render(): forcing &apos;evaluate=true&apos; since multi-pass rendering was requested.</span>"
      ]
     },
     "metadata": {},
     "output_type": "display_data"
    },
    {
     "data": {
      "text/html": [
       "<span style=\"font-family: monospace; color: #f55\">2024-05-02 14:06:08 WARN  main  [AdjointIntegrator] render(): forcing &apos;evaluate=true&apos; since multi-pass rendering was requested.</span>"
      ]
     },
     "metadata": {},
     "output_type": "display_data"
    },
    {
     "data": {
      "text/html": [
       "<span style=\"font-family: monospace; color: #f55\">2024-05-02 14:06:08 WARN  main  [AdjointIntegrator] render(): forcing &apos;evaluate=true&apos; since multi-pass rendering was requested.</span>"
      ]
     },
     "metadata": {},
     "output_type": "display_data"
    },
    {
     "data": {
      "text/html": [
       "<span style=\"font-family: monospace; color: #f55\">2024-05-02 14:06:08 WARN  main  [AdjointIntegrator] render(): forcing &apos;evaluate=true&apos; since multi-pass rendering was requested.</span>"
      ]
     },
     "metadata": {},
     "output_type": "display_data"
    },
    {
     "data": {
      "text/html": [
       "<span style=\"font-family: monospace; color: #f55\">2024-05-02 14:06:08 WARN  main  [AdjointIntegrator] render(): forcing &apos;evaluate=true&apos; since multi-pass rendering was requested.</span>"
      ]
     },
     "metadata": {},
     "output_type": "display_data"
    },
    {
     "data": {
      "text/html": [
       "<span style=\"font-family: monospace; color: #f55\">2024-05-02 14:06:08 WARN  main  [AdjointIntegrator] render(): forcing &apos;evaluate=true&apos; since multi-pass rendering was requested.</span>"
      ]
     },
     "metadata": {},
     "output_type": "display_data"
    },
    {
     "data": {
      "text/html": [
       "<span style=\"font-family: monospace; color: #f55\">2024-05-02 14:06:08 WARN  main  [AdjointIntegrator] render(): forcing &apos;evaluate=true&apos; since multi-pass rendering was requested.</span>"
      ]
     },
     "metadata": {},
     "output_type": "display_data"
    },
    {
     "data": {
      "text/html": [
       "<span style=\"font-family: monospace; color: #f55\">2024-05-02 14:06:08 WARN  main  [AdjointIntegrator] render(): forcing &apos;evaluate=true&apos; since multi-pass rendering was requested.</span>"
      ]
     },
     "metadata": {},
     "output_type": "display_data"
    },
    {
     "data": {
      "text/html": [
       "<span style=\"font-family: monospace; color: #f55\">2024-05-02 14:06:08 WARN  main  [AdjointIntegrator] render(): forcing &apos;evaluate=true&apos; since multi-pass rendering was requested.</span>"
      ]
     },
     "metadata": {},
     "output_type": "display_data"
    },
    {
     "data": {
      "text/html": [
       "<span style=\"font-family: monospace; color: #f55\">2024-05-02 14:06:09 WARN  main  [AdjointIntegrator] render(): forcing &apos;evaluate=true&apos; since multi-pass rendering was requested.</span>"
      ]
     },
     "metadata": {},
     "output_type": "display_data"
    },
    {
     "data": {
      "text/html": [
       "<span style=\"font-family: monospace; color: #f55\">2024-05-02 14:06:09 WARN  main  [AdjointIntegrator] render(): forcing &apos;evaluate=true&apos; since multi-pass rendering was requested.</span>"
      ]
     },
     "metadata": {},
     "output_type": "display_data"
    },
    {
     "data": {
      "text/html": [
       "<span style=\"font-family: monospace; color: #f55\">2024-05-02 14:06:09 WARN  main  [AdjointIntegrator] render(): forcing &apos;evaluate=true&apos; since multi-pass rendering was requested.</span>"
      ]
     },
     "metadata": {},
     "output_type": "display_data"
    },
    {
     "data": {
      "text/html": [
       "<span style=\"font-family: monospace; color: #f55\">2024-05-02 14:06:09 WARN  main  [AdjointIntegrator] render(): forcing &apos;evaluate=true&apos; since multi-pass rendering was requested.</span>"
      ]
     },
     "metadata": {},
     "output_type": "display_data"
    },
    {
     "data": {
      "text/html": [
       "<span style=\"font-family: monospace; color: #f55\">2024-05-02 14:06:09 WARN  main  [AdjointIntegrator] render(): forcing &apos;evaluate=true&apos; since multi-pass rendering was requested.</span>"
      ]
     },
     "metadata": {},
     "output_type": "display_data"
    },
    {
     "data": {
      "text/html": [
       "<span style=\"font-family: monospace; color: #f55\">2024-05-02 14:06:09 WARN  main  [AdjointIntegrator] render(): forcing &apos;evaluate=true&apos; since multi-pass rendering was requested.</span>"
      ]
     },
     "metadata": {},
     "output_type": "display_data"
    },
    {
     "data": {
      "text/html": [
       "<span style=\"font-family: monospace; color: #f55\">2024-05-02 14:06:09 WARN  main  [AdjointIntegrator] render(): forcing &apos;evaluate=true&apos; since multi-pass rendering was requested.</span>"
      ]
     },
     "metadata": {},
     "output_type": "display_data"
    },
    {
     "data": {
      "text/html": [
       "<span style=\"font-family: monospace; color: #f55\">2024-05-02 14:06:09 WARN  main  [AdjointIntegrator] render(): forcing &apos;evaluate=true&apos; since multi-pass rendering was requested.</span>"
      ]
     },
     "metadata": {},
     "output_type": "display_data"
    },
    {
     "data": {
      "text/html": [
       "<span style=\"font-family: monospace; color: #f55\">2024-05-02 14:06:09 WARN  main  [AdjointIntegrator] render(): forcing &apos;evaluate=true&apos; since multi-pass rendering was requested.</span>"
      ]
     },
     "metadata": {},
     "output_type": "display_data"
    },
    {
     "data": {
      "text/html": [
       "<span style=\"font-family: monospace; color: #f55\">2024-05-02 14:06:09 WARN  main  [AdjointIntegrator] render(): forcing &apos;evaluate=true&apos; since multi-pass rendering was requested.</span>"
      ]
     },
     "metadata": {},
     "output_type": "display_data"
    },
    {
     "data": {
      "text/html": [
       "<span style=\"font-family: monospace; color: #f55\">2024-05-02 14:06:09 WARN  main  [AdjointIntegrator] render(): forcing &apos;evaluate=true&apos; since multi-pass rendering was requested.</span>"
      ]
     },
     "metadata": {},
     "output_type": "display_data"
    },
    {
     "data": {
      "text/html": [
       "<span style=\"font-family: monospace; color: #f55\">2024-05-02 14:06:09 WARN  main  [AdjointIntegrator] render(): forcing &apos;evaluate=true&apos; since multi-pass rendering was requested.</span>"
      ]
     },
     "metadata": {},
     "output_type": "display_data"
    },
    {
     "data": {
      "text/html": [
       "<span style=\"font-family: monospace; color: #f55\">2024-05-02 14:06:09 WARN  main  [AdjointIntegrator] render(): forcing &apos;evaluate=true&apos; since multi-pass rendering was requested.</span>"
      ]
     },
     "metadata": {},
     "output_type": "display_data"
    },
    {
     "data": {
      "text/html": [
       "<span style=\"font-family: monospace; color: #f55\">2024-05-02 14:06:10 WARN  main  [AdjointIntegrator] render(): forcing &apos;evaluate=true&apos; since multi-pass rendering was requested.</span>"
      ]
     },
     "metadata": {},
     "output_type": "display_data"
    },
    {
     "data": {
      "text/html": [
       "<span style=\"font-family: monospace; color: #f55\">2024-05-02 14:06:10 WARN  main  [AdjointIntegrator] render(): forcing &apos;evaluate=true&apos; since multi-pass rendering was requested.</span>"
      ]
     },
     "metadata": {},
     "output_type": "display_data"
    },
    {
     "data": {
      "text/html": [
       "<span style=\"font-family: monospace; color: #f55\">2024-05-02 14:06:10 WARN  main  [AdjointIntegrator] render(): forcing &apos;evaluate=true&apos; since multi-pass rendering was requested.</span>"
      ]
     },
     "metadata": {},
     "output_type": "display_data"
    },
    {
     "data": {
      "text/html": [
       "<span style=\"font-family: monospace; color: #f55\">2024-05-02 14:06:10 WARN  main  [AdjointIntegrator] render(): forcing &apos;evaluate=true&apos; since multi-pass rendering was requested.</span>"
      ]
     },
     "metadata": {},
     "output_type": "display_data"
    },
    {
     "data": {
      "text/html": [
       "<span style=\"font-family: monospace; color: #f55\">2024-05-02 14:06:10 WARN  main  [AdjointIntegrator] render(): forcing &apos;evaluate=true&apos; since multi-pass rendering was requested.</span>"
      ]
     },
     "metadata": {},
     "output_type": "display_data"
    },
    {
     "data": {
      "text/html": [
       "<span style=\"font-family: monospace; color: #f55\">2024-05-02 14:06:10 WARN  main  [AdjointIntegrator] render(): forcing &apos;evaluate=true&apos; since multi-pass rendering was requested.</span>"
      ]
     },
     "metadata": {},
     "output_type": "display_data"
    },
    {
     "data": {
      "text/html": [
       "<span style=\"font-family: monospace; color: #f55\">2024-05-02 14:06:10 WARN  main  [AdjointIntegrator] render(): forcing &apos;evaluate=true&apos; since multi-pass rendering was requested.</span>"
      ]
     },
     "metadata": {},
     "output_type": "display_data"
    },
    {
     "data": {
      "text/html": [
       "<span style=\"font-family: monospace; color: #f55\">2024-05-02 14:06:10 WARN  main  [AdjointIntegrator] render(): forcing &apos;evaluate=true&apos; since multi-pass rendering was requested.</span>"
      ]
     },
     "metadata": {},
     "output_type": "display_data"
    },
    {
     "data": {
      "text/html": [
       "<span style=\"font-family: monospace; color: #f55\">2024-05-02 14:06:10 WARN  main  [AdjointIntegrator] render(): forcing &apos;evaluate=true&apos; since multi-pass rendering was requested.</span>"
      ]
     },
     "metadata": {},
     "output_type": "display_data"
    },
    {
     "data": {
      "text/html": [
       "<span style=\"font-family: monospace; color: #f55\">2024-05-02 14:06:10 WARN  main  [AdjointIntegrator] render(): forcing &apos;evaluate=true&apos; since multi-pass rendering was requested.</span>"
      ]
     },
     "metadata": {},
     "output_type": "display_data"
    },
    {
     "data": {
      "text/html": [
       "<span style=\"font-family: monospace; color: #f55\">2024-05-02 14:06:10 WARN  main  [AdjointIntegrator] render(): forcing &apos;evaluate=true&apos; since multi-pass rendering was requested.</span>"
      ]
     },
     "metadata": {},
     "output_type": "display_data"
    },
    {
     "data": {
      "text/html": [
       "<span style=\"font-family: monospace; color: #f55\">2024-05-02 14:06:10 WARN  main  [AdjointIntegrator] render(): forcing &apos;evaluate=true&apos; since multi-pass rendering was requested.</span>"
      ]
     },
     "metadata": {},
     "output_type": "display_data"
    },
    {
     "data": {
      "text/html": [
       "<span style=\"font-family: monospace; color: #f55\">2024-05-02 14:06:11 WARN  main  [AdjointIntegrator] render(): forcing &apos;evaluate=true&apos; since multi-pass rendering was requested.</span>"
      ]
     },
     "metadata": {},
     "output_type": "display_data"
    },
    {
     "data": {
      "text/html": [
       "<span style=\"font-family: monospace; color: #f55\">2024-05-02 14:06:11 WARN  main  [AdjointIntegrator] render(): forcing &apos;evaluate=true&apos; since multi-pass rendering was requested.</span>"
      ]
     },
     "metadata": {},
     "output_type": "display_data"
    },
    {
     "data": {
      "text/html": [
       "<span style=\"font-family: monospace; color: #f55\">2024-05-02 14:06:11 WARN  main  [AdjointIntegrator] render(): forcing &apos;evaluate=true&apos; since multi-pass rendering was requested.</span>"
      ]
     },
     "metadata": {},
     "output_type": "display_data"
    },
    {
     "data": {
      "text/html": [
       "<span style=\"font-family: monospace; color: #f55\">2024-05-02 14:06:11 WARN  main  [AdjointIntegrator] render(): forcing &apos;evaluate=true&apos; since multi-pass rendering was requested.</span>"
      ]
     },
     "metadata": {},
     "output_type": "display_data"
    },
    {
     "data": {
      "text/html": [
       "<span style=\"font-family: monospace; color: #f55\">2024-05-02 14:06:11 WARN  main  [AdjointIntegrator] render(): forcing &apos;evaluate=true&apos; since multi-pass rendering was requested.</span>"
      ]
     },
     "metadata": {},
     "output_type": "display_data"
    },
    {
     "data": {
      "text/html": [
       "<span style=\"font-family: monospace; color: #f55\">2024-05-02 14:06:11 WARN  main  [AdjointIntegrator] render(): forcing &apos;evaluate=true&apos; since multi-pass rendering was requested.</span>"
      ]
     },
     "metadata": {},
     "output_type": "display_data"
    },
    {
     "data": {
      "text/html": [
       "<span style=\"font-family: monospace; color: #f55\">2024-05-02 14:06:11 WARN  main  [AdjointIntegrator] render(): forcing &apos;evaluate=true&apos; since multi-pass rendering was requested.</span>"
      ]
     },
     "metadata": {},
     "output_type": "display_data"
    },
    {
     "data": {
      "text/html": [
       "<span style=\"font-family: monospace; color: #f55\">2024-05-02 14:06:11 WARN  main  [AdjointIntegrator] render(): forcing &apos;evaluate=true&apos; since multi-pass rendering was requested.</span>"
      ]
     },
     "metadata": {},
     "output_type": "display_data"
    },
    {
     "data": {
      "text/html": [
       "<span style=\"font-family: monospace; color: #f55\">2024-05-02 14:06:11 WARN  main  [AdjointIntegrator] render(): forcing &apos;evaluate=true&apos; since multi-pass rendering was requested.</span>"
      ]
     },
     "metadata": {},
     "output_type": "display_data"
    },
    {
     "data": {
      "text/html": [
       "<span style=\"font-family: monospace; color: #f55\">2024-05-02 14:06:11 WARN  main  [AdjointIntegrator] render(): forcing &apos;evaluate=true&apos; since multi-pass rendering was requested.</span>"
      ]
     },
     "metadata": {},
     "output_type": "display_data"
    },
    {
     "data": {
      "text/html": [
       "<span style=\"font-family: monospace; color: #f55\">2024-05-02 14:06:11 WARN  main  [AdjointIntegrator] render(): forcing &apos;evaluate=true&apos; since multi-pass rendering was requested.</span>"
      ]
     },
     "metadata": {},
     "output_type": "display_data"
    },
    {
     "data": {
      "text/html": [
       "<span style=\"font-family: monospace; color: #f55\">2024-05-02 14:06:11 WARN  main  [AdjointIntegrator] render(): forcing &apos;evaluate=true&apos; since multi-pass rendering was requested.</span>"
      ]
     },
     "metadata": {},
     "output_type": "display_data"
    },
    {
     "data": {
      "text/html": [
       "<span style=\"font-family: monospace; color: #f55\">2024-05-02 14:06:11 WARN  main  [AdjointIntegrator] render(): forcing &apos;evaluate=true&apos; since multi-pass rendering was requested.</span>"
      ]
     },
     "metadata": {},
     "output_type": "display_data"
    },
    {
     "data": {
      "text/html": [
       "<span style=\"font-family: monospace; color: #f55\">2024-05-02 14:06:12 WARN  main  [AdjointIntegrator] render(): forcing &apos;evaluate=true&apos; since multi-pass rendering was requested.</span>"
      ]
     },
     "metadata": {},
     "output_type": "display_data"
    },
    {
     "data": {
      "text/html": [
       "<span style=\"font-family: monospace; color: #f55\">2024-05-02 14:06:12 WARN  main  [AdjointIntegrator] render(): forcing &apos;evaluate=true&apos; since multi-pass rendering was requested.</span>"
      ]
     },
     "metadata": {},
     "output_type": "display_data"
    },
    {
     "data": {
      "text/html": [
       "<span style=\"font-family: monospace; color: #f55\">2024-05-02 14:06:12 WARN  main  [AdjointIntegrator] render(): forcing &apos;evaluate=true&apos; since multi-pass rendering was requested.</span>"
      ]
     },
     "metadata": {},
     "output_type": "display_data"
    },
    {
     "data": {
      "text/html": [
       "<span style=\"font-family: monospace; color: #f55\">2024-05-02 14:06:12 WARN  main  [AdjointIntegrator] render(): forcing &apos;evaluate=true&apos; since multi-pass rendering was requested.</span>"
      ]
     },
     "metadata": {},
     "output_type": "display_data"
    },
    {
     "data": {
      "text/html": [
       "<span style=\"font-family: monospace; color: #f55\">2024-05-02 14:06:12 WARN  main  [AdjointIntegrator] render(): forcing &apos;evaluate=true&apos; since multi-pass rendering was requested.</span>"
      ]
     },
     "metadata": {},
     "output_type": "display_data"
    },
    {
     "data": {
      "text/html": [
       "<span style=\"font-family: monospace; color: #f55\">2024-05-02 14:06:12 WARN  main  [AdjointIntegrator] render(): forcing &apos;evaluate=true&apos; since multi-pass rendering was requested.</span>"
      ]
     },
     "metadata": {},
     "output_type": "display_data"
    },
    {
     "data": {
      "text/html": [
       "<span style=\"font-family: monospace; color: #f55\">2024-05-02 14:06:12 WARN  main  [AdjointIntegrator] render(): forcing &apos;evaluate=true&apos; since multi-pass rendering was requested.</span>"
      ]
     },
     "metadata": {},
     "output_type": "display_data"
    },
    {
     "data": {
      "text/html": [
       "<span style=\"font-family: monospace; color: #f55\">2024-05-02 14:06:12 WARN  main  [AdjointIntegrator] render(): forcing &apos;evaluate=true&apos; since multi-pass rendering was requested.</span>"
      ]
     },
     "metadata": {},
     "output_type": "display_data"
    },
    {
     "data": {
      "text/html": [
       "<span style=\"font-family: monospace; color: #f55\">2024-05-02 14:06:12 WARN  main  [AdjointIntegrator] render(): forcing &apos;evaluate=true&apos; since multi-pass rendering was requested.</span>"
      ]
     },
     "metadata": {},
     "output_type": "display_data"
    },
    {
     "data": {
      "text/html": [
       "<span style=\"font-family: monospace; color: #f55\">2024-05-02 14:06:12 WARN  main  [AdjointIntegrator] render(): forcing &apos;evaluate=true&apos; since multi-pass rendering was requested.</span>"
      ]
     },
     "metadata": {},
     "output_type": "display_data"
    },
    {
     "data": {
      "text/html": [
       "<span style=\"font-family: monospace; color: #f55\">2024-05-02 14:06:12 WARN  main  [AdjointIntegrator] render(): forcing &apos;evaluate=true&apos; since multi-pass rendering was requested.</span>"
      ]
     },
     "metadata": {},
     "output_type": "display_data"
    },
    {
     "data": {
      "text/html": [
       "<span style=\"font-family: monospace; color: #f55\">2024-05-02 14:06:12 WARN  main  [AdjointIntegrator] render(): forcing &apos;evaluate=true&apos; since multi-pass rendering was requested.</span>"
      ]
     },
     "metadata": {},
     "output_type": "display_data"
    },
    {
     "data": {
      "text/html": [
       "<span style=\"font-family: monospace; color: #f55\">2024-05-02 14:06:12 WARN  main  [AdjointIntegrator] render(): forcing &apos;evaluate=true&apos; since multi-pass rendering was requested.</span>"
      ]
     },
     "metadata": {},
     "output_type": "display_data"
    },
    {
     "data": {
      "text/html": [
       "<span style=\"font-family: monospace; color: #f55\">2024-05-02 14:06:13 WARN  main  [AdjointIntegrator] render(): forcing &apos;evaluate=true&apos; since multi-pass rendering was requested.</span>"
      ]
     },
     "metadata": {},
     "output_type": "display_data"
    },
    {
     "data": {
      "text/html": [
       "<span style=\"font-family: monospace; color: #f55\">2024-05-02 14:06:13 WARN  main  [AdjointIntegrator] render(): forcing &apos;evaluate=true&apos; since multi-pass rendering was requested.</span>"
      ]
     },
     "metadata": {},
     "output_type": "display_data"
    },
    {
     "data": {
      "text/html": [
       "<span style=\"font-family: monospace; color: #f55\">2024-05-02 14:06:13 WARN  main  [AdjointIntegrator] render(): forcing &apos;evaluate=true&apos; since multi-pass rendering was requested.</span>"
      ]
     },
     "metadata": {},
     "output_type": "display_data"
    },
    {
     "data": {
      "text/html": [
       "<span style=\"font-family: monospace; color: #f55\">2024-05-02 14:06:13 WARN  main  [AdjointIntegrator] render(): forcing &apos;evaluate=true&apos; since multi-pass rendering was requested.</span>"
      ]
     },
     "metadata": {},
     "output_type": "display_data"
    },
    {
     "data": {
      "text/html": [
       "<span style=\"font-family: monospace; color: #f55\">2024-05-02 14:06:13 WARN  main  [AdjointIntegrator] render(): forcing &apos;evaluate=true&apos; since multi-pass rendering was requested.</span>"
      ]
     },
     "metadata": {},
     "output_type": "display_data"
    },
    {
     "data": {
      "text/html": [
       "<span style=\"font-family: monospace; color: #f55\">2024-05-02 14:06:13 WARN  main  [AdjointIntegrator] render(): forcing &apos;evaluate=true&apos; since multi-pass rendering was requested.</span>"
      ]
     },
     "metadata": {},
     "output_type": "display_data"
    },
    {
     "data": {
      "text/html": [
       "<span style=\"font-family: monospace; color: #f55\">2024-05-02 14:06:13 WARN  main  [AdjointIntegrator] render(): forcing &apos;evaluate=true&apos; since multi-pass rendering was requested.</span>"
      ]
     },
     "metadata": {},
     "output_type": "display_data"
    },
    {
     "data": {
      "text/html": [
       "<span style=\"font-family: monospace; color: #f55\">2024-05-02 14:06:13 WARN  main  [AdjointIntegrator] render(): forcing &apos;evaluate=true&apos; since multi-pass rendering was requested.</span>"
      ]
     },
     "metadata": {},
     "output_type": "display_data"
    },
    {
     "data": {
      "text/html": [
       "<span style=\"font-family: monospace; color: #f55\">2024-05-02 14:06:13 WARN  main  [AdjointIntegrator] render(): forcing &apos;evaluate=true&apos; since multi-pass rendering was requested.</span>"
      ]
     },
     "metadata": {},
     "output_type": "display_data"
    },
    {
     "data": {
      "text/html": [
       "<span style=\"font-family: monospace; color: #f55\">2024-05-02 14:06:13 WARN  main  [AdjointIntegrator] render(): forcing &apos;evaluate=true&apos; since multi-pass rendering was requested.</span>"
      ]
     },
     "metadata": {},
     "output_type": "display_data"
    },
    {
     "data": {
      "text/html": [
       "<span style=\"font-family: monospace; color: #f55\">2024-05-02 14:06:13 WARN  main  [AdjointIntegrator] render(): forcing &apos;evaluate=true&apos; since multi-pass rendering was requested.</span>"
      ]
     },
     "metadata": {},
     "output_type": "display_data"
    },
    {
     "data": {
      "text/html": [
       "<span style=\"font-family: monospace; color: #f55\">2024-05-02 14:06:13 WARN  main  [AdjointIntegrator] render(): forcing &apos;evaluate=true&apos; since multi-pass rendering was requested.</span>"
      ]
     },
     "metadata": {},
     "output_type": "display_data"
    },
    {
     "data": {
      "text/html": [
       "<span style=\"font-family: monospace; color: #f55\">2024-05-02 14:06:14 WARN  main  [AdjointIntegrator] render(): forcing &apos;evaluate=true&apos; since multi-pass rendering was requested.</span>"
      ]
     },
     "metadata": {},
     "output_type": "display_data"
    },
    {
     "data": {
      "text/html": [
       "<span style=\"font-family: monospace; color: #f55\">2024-05-02 14:06:14 WARN  main  [AdjointIntegrator] render(): forcing &apos;evaluate=true&apos; since multi-pass rendering was requested.</span>"
      ]
     },
     "metadata": {},
     "output_type": "display_data"
    },
    {
     "data": {
      "text/html": [
       "<span style=\"font-family: monospace; color: #f55\">2024-05-02 14:06:14 WARN  main  [AdjointIntegrator] render(): forcing &apos;evaluate=true&apos; since multi-pass rendering was requested.</span>"
      ]
     },
     "metadata": {},
     "output_type": "display_data"
    },
    {
     "name": "stdout",
     "output_type": "stream",
     "text": [
      "53.309960985183714  ms per iteration on average\n"
     ]
    }
   ],
   "source": [
    "import time\n",
    "start_time = time.time()\n",
    "mi.set_log_level(mi.LogLevel.Warn)\n",
    "iterations = config['max_iterations']\n",
    "loss_values = []\n",
    "spp = config['spp']\n",
    "\n",
    "for it in range(iterations):\n",
    "    t0 = time.time()\n",
    "\n",
    "    # Apply displacement and update the scene BHV accordingly\n",
    "    lens_system.update(params_scene, opt)\n",
    "\n",
    "    # Perform a differentiable rendering of the scene\n",
    "    image = mi.render(scene, params_scene, seed=it, spp=2 * spp, spp_grad=spp)\n",
    "\n",
    "    # Scale-independent L2 function\n",
    "    loss = rms_loss(image)\n",
    "\n",
    "    # Back-propagate errors to input parameters and take an optimizer step\n",
    "    dr.backward(loss)\n",
    "\n",
    "    # Take a gradient step\n",
    "    opt.step()\n",
    "\n",
    "    # Carry over the update to our \"latent variable\" (the heightmap values)\n",
    "    # TODO: does this do anything?\n",
    "    params_scene.update(opt)\n",
    "\n",
    "    # Log progress\n",
    "    elapsed_ms = 1000. * (time.time() - t0)\n",
    "    current_loss = loss[0]\n",
    "    loss_values.append(current_loss)\n",
    "    mi.Thread.thread().logger().log_progress(\n",
    "        it / (iterations-1),\n",
    "        f'Iteration {it:03d}: loss={current_loss:g} (took {elapsed_ms:.0f}ms)',\n",
    "        'Caustic Optimization', '')\n",
    "\n",
    "    # Increase rendering quality toward the end of the optimization\n",
    "    if it in (int(0.7 * iterations), int(0.9 * iterations)):\n",
    "        spp *= 2\n",
    "        opt.set_learning_rate(0.5 * opt.lr['c'])\n",
    "        opt.set_learning_rate(0.5 * opt.lr['K'])\n",
    "\n",
    "\n",
    "end_time = time.time()\n",
    "print(((end_time - start_time) * 1000) / iterations, ' ms per iteration on average')\n",
    "mi.set_log_level(mi.LogLevel.Info)"
   ]
  },
  {
   "cell_type": "code",
   "execution_count": 20,
   "metadata": {},
   "outputs": [],
   "source": [
    "# fname = join(output_dir, 'heightmap_final.exr')\n",
    "# mi.util.write_bitmap(fname, params['data'])\n",
    "# print('[+] Saved final heightmap state to:', fname)\n",
    "\n",
    "# fname = join(output_dir, 'lens_displaced.ply')\n",
    "# apply_displacement()\n",
    "# lens_mesh = [m for m in scene.shapes() if m.id() == 'lens'][0]\n",
    "# lens_mesh.write_ply(fname)\n",
    "# print('[+] Saved displaced lens to:', fname)"
   ]
  },
  {
   "cell_type": "markdown",
   "metadata": {},
   "source": [
    "# Visualization"
   ]
  },
  {
   "cell_type": "code",
   "execution_count": 21,
   "metadata": {},
   "outputs": [
    {
     "data": {
      "image/png": "[encoded data removed]",
      "text/plain": [
       "<Figure size 1100x1000 with 4 Axes>"
      ]
     },
     "metadata": {},
     "output_type": "display_data"
    }
   ],
   "source": [
    "import matplotlib.pyplot as plt\n",
    "\n",
    "def show_image(ax, img, title):\n",
    "    ax.imshow(mi.util.convert_to_bitmap(img))\n",
    "    ax.axis('off')\n",
    "    ax.set_title(title)\n",
    "\n",
    "def show_heightmap(fig, ax, values, title):\n",
    "    im = ax.imshow(values.squeeze(), vmax=1e-4)\n",
    "    fig.colorbar(im, ax=ax)\n",
    "    ax.axis('off')\n",
    "    ax.set_title(title)\n",
    "\n",
    "def plot_progress(image_init, image, loss_values, average_spot=True):\n",
    "    fig, ax = plt.subplots(2, 2, figsize=(11, 10))\n",
    "    ax = ax.ravel()\n",
    "    ax[0].semilogy(loss_values)\n",
    "    ax[0].set_xlabel('Iteration'); ax[0].set_ylabel('Loss value'); ax[0].set_title('Convergence plot')\n",
    "\n",
    "    spot_init  = image_init.numpy()[config['render_resolution'][0] // 2]\n",
    "    spot_final = image.numpy()[config['render_resolution'][0] // 2]\n",
    "\n",
    "    if average_spot:\n",
    "        spot_init = np.mean(image_init, axis=1)\n",
    "        spot_final = np.mean(image, axis=1)\n",
    "    ax[1].plot(spot_init / np.max(spot_init), label=\"Init\")\n",
    "    ax[1].plot(spot_final / np.max(spot_final), label=\"Final\")\n",
    "    ax[1].set_title('Spot profile')\n",
    "    ax[1].set_ylabel(\"Norm. radiance (a.u.)\")\n",
    "    ax[1].legend(loc='upper right')\n",
    "\n",
    "    show_image(ax[2], image_init, f'Initial spot size: {np.sqrt(rms_loss(image_init).numpy().item()):.3f}')\n",
    "    show_image(ax[3], image / (100 * np.mean(image)),      f'Final spot size: {np.sqrt(rms_loss(image).numpy().item()):.3f}')\n",
    "    return fig\n",
    "\n",
    "_ = plot_progress(image_init * 0.01, image * 0.01, loss_values, False)"
   ]
  },
  {
   "cell_type": "code",
   "execution_count": 22,
   "metadata": {},
   "outputs": [
    {
     "name": "stdout",
     "output_type": "stream",
     "text": [
      "{'c': [-0.17739839851856232], 'K': 0.0, 'z0': 4.7}\n",
      "{'c': [0.6790199279785156], 'K': 0.0, 'z0': 5.0}\n",
      "{'c': [0.3298546373844147], 'K': 0.0, 'z0': 5.1}\n"
     ]
    },
    {
     "data": {
      "application/vnd.jupyter.widget-view+json": {
       "model_id": "40128f260c044f59a67811dea57c203e",
       "version_major": 2,
       "version_minor": 0
      },
      "text/plain": [
       "Renderer(camera=PerspectiveCamera(children=(DirectionalLight(color='white', intensity=0.6, position=(0.0, 0.0,…"
      ]
     },
     "metadata": {},
     "output_type": "display_data"
    },
    {
     "data": {
      "text/plain": [
       "<meshplot.Viewer.Viewer at 0x7f8330564f50>"
      ]
     },
     "execution_count": 22,
     "metadata": {},
     "output_type": "execute_result"
    }
   ],
   "source": [
    "for element in lens_system.elements:\n",
    "    print(element.surface.params)\n",
    "lens_system.meshplot_geometry()"
   ]
  },
  {
   "cell_type": "code",
   "execution_count": 23,
   "metadata": {},
   "outputs": [
    {
     "name": "stderr",
     "output_type": "stream",
     "text": [
      "Clipping input data to the valid range for imshow with RGB data ([0..1] for floats or [0..255] for integers).\n"
     ]
    },
    {
     "data": {
      "text/plain": [
       "[<matplotlib.lines.Line2D at 0x7f8330371550>,\n",
       " <matplotlib.lines.Line2D at 0x7f83301e6450>,\n",
       " <matplotlib.lines.Line2D at 0x7f83301ce6d0>]"
      ]
     },
     "execution_count": 23,
     "metadata": {},
     "output_type": "execute_result"
    },
    {
     "data": {
      "image/png": "[encoded data removed]",
      "text/plain": [
       "<Figure size 640x480 with 1 Axes>"
      ]
     },
     "metadata": {},
     "output_type": "display_data"
    },
    {
     "data": {
      "image/png": "[encoded data removed]",
      "text/plain": [
       "<Figure size 640x480 with 1 Axes>"
      ]
     },
     "metadata": {},
     "output_type": "display_data"
    }
   ],
   "source": [
    "image_final = image.numpy()\n",
    "spot_final = image_final[config['render_resolution'][0] // 2]\n",
    "plt.imshow(image_final * 0.001)\n",
    "plt.figure()\n",
    "plt.plot(spot_final)"
   ]
  },
  {
   "cell_type": "code",
   "execution_count": 24,
   "metadata": {},
   "outputs": [
    {
     "name": "stdout",
     "output_type": "stream",
     "text": [
      "[12.212790489196777]\n",
      "[1.2336790561676025]\n"
     ]
    }
   ],
   "source": [
    "print(dr.sqrt(rms_loss(image_init)))\n",
    "print(dr.sqrt(rms_loss(image)))\n",
    "# plt.imshow(image)"
   ]
  }
 ],
 "metadata": {
  "kernelspec": {
   "display_name": "base",
   "language": "python",
   "name": "python3"
  },
  "language_info": {
   "codemirror_mode": {
    "name": "ipython",
    "version": 3
   },
   "file_extension": ".py",
   "mimetype": "text/x-python",
   "name": "python",
   "nbconvert_exporter": "python",
   "pygments_lexer": "ipython3",
   "version": "3.11.5"
  }
 },
 "nbformat": 4,
 "nbformat_minor": 2
}
